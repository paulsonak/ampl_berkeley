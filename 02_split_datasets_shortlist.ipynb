{
 "cells": [
  {
   "cell_type": "markdown",
   "metadata": {},
   "source": [
    "# Create shortlist with split UUIDs - split datasets with different splits\n",
    "- This will use the hyperparameter_search_wrapper.py code\n",
    "- do NOT run this until you're completely done featurizing your datasets"
   ]
  },
  {
   "cell_type": "code",
   "execution_count": 22,
   "metadata": {},
   "outputs": [],
   "source": [
    "# import packages\n",
    "\n",
    "import pandas as pd\n",
    "import json\n",
    "import os\n",
    "import numpy as np\n",
    "from atomsci.ddm.pipeline import model_tracker as trkr\n",
    "from atomsci.ddm.utils import struct_utils as su\n",
    "from atomsci.ddm.utils import curate_data as cd\n",
    "%config Completer.use_jedi = False"
   ]
  },
  {
   "cell_type": "code",
   "execution_count": 37,
   "metadata": {},
   "outputs": [],
   "source": [
    "# specify your home path and the folder where your datasets are\n",
    "home_path=f\"/global/home/users/{my_username}\"\n",
    "data_path=os.path.join(home_path, 'data')\n",
    "curated_data_path=os.path.join(data_path,'curated_datasets')"
   ]
  },
  {
   "cell_type": "code",
   "execution_count": 38,
   "metadata": {},
   "outputs": [],
   "source": [
    "# set up parameters\n",
    "my_username=\"amandapaulson\"\n",
    "script_dir=f\"/global/home/users/{my_username}/repos/AMPL/atomsci/ddm/utils\"\n",
    "result_dir=f\"/global/home/users/{my_username}/data/featurize_datasets_shortlist\"\n",
    "\n",
    "# change to what you called your shortlist\n",
    "shortlist_key=f\"/global/home/users/{my_username}/data/bsep_feat_shortlist.csv\""
   ]
  },
  {
   "cell_type": "code",
   "execution_count": 39,
   "metadata": {},
   "outputs": [],
   "source": [
    "# create parameter dictionary to pass to ampl software\n",
    "\n",
    "params = {\n",
    "    # don't change these\n",
    "    \"hyperparam\": \"True\",\n",
    "    \"slurm_account\": \"ic_engin296ma\",\n",
    "    \"slurm_partition\": \"savio2_htc\",\n",
    "    \"slurm_time_limit\": \"60\",\n",
    "    \"slurm_nodes\":\"None\",\n",
    "    \"slurm_options\":\"#SBATCH@--cpus-per-task=1\",\n",
    "    \"system\": \"LC\",\n",
    "    \"datastore\": \"False\",\n",
    "    \"save_results\": \"True\",\n",
    "    \n",
    "    # these will be modified depending on what you need to do\n",
    "    \"split_only\": \"True\",\n",
    "    \"use_shortlist\": \"True\",\n",
    "    \"shortlist_key\": shortlist_key,\n",
    "    \"result_dir\": result_dir,\n",
    "    \"smiles_col\" : \"base_rdkit_smiles\",\n",
    "    \"collection_name\" : \"featurize\"\n",
    "}"
   ]
  },
  {
   "cell_type": "code",
   "execution_count": 40,
   "metadata": {},
   "outputs": [
    {
     "name": "stdout",
     "output_type": "stream",
     "text": [
      "python /global/home/users/amandapaulson/repos/AMPL/atomsci/ddm/utils/hyperparam_search_wrapper.py --config_file /global/home/users/amandapaulson/data/featurize_datasets_shortlist/bsep_split_shortlist.json\n"
     ]
    }
   ],
   "source": [
    "# save the dict as a .json file in your results directory\n",
    "fname=f'{result_dir}/bsep_split_shortlist.json'\n",
    "with open(fname, 'w') as fp:\n",
    "    json.dump(params, fp, indent=4)\n",
    "\n",
    "# print out the command you'll run in your terminal\n",
    "print(f'python {script_dir}/hyperparam_search_wrapper.py --config_file {fname}')"
   ]
  },
  {
   "cell_type": "markdown",
   "metadata": {},
   "source": [
    "## copy/paste the command ^ above into a terminal\n",
    "## you MUST have your atomsci env activated first\n",
    "`conda activate atomsci`\n",
    "\n",
    "output will be printed directly to the terminal window. watch what it says and if any errors arise.\n",
    "\n",
    "# inspect new shortlist file"
   ]
  },
  {
   "cell_type": "code",
   "execution_count": 41,
   "metadata": {},
   "outputs": [
    {
     "data": {
      "text/html": [
       "<div>\n",
       "<style scoped>\n",
       "    .dataframe tbody tr th:only-of-type {\n",
       "        vertical-align: middle;\n",
       "    }\n",
       "\n",
       "    .dataframe tbody tr th {\n",
       "        vertical-align: top;\n",
       "    }\n",
       "\n",
       "    .dataframe thead th {\n",
       "        text-align: right;\n",
       "    }\n",
       "</style>\n",
       "<table border=\"1\" class=\"dataframe\">\n",
       "  <thead>\n",
       "    <tr style=\"text-align: right;\">\n",
       "      <th></th>\n",
       "      <th>dataset_key</th>\n",
       "      <th>response_cols</th>\n",
       "      <th>collection</th>\n",
       "    </tr>\n",
       "  </thead>\n",
       "  <tbody>\n",
       "    <tr>\n",
       "      <th>0</th>\n",
       "      <td>/global/home/users/amandapaulson/data/curated_...</td>\n",
       "      <td>substrate</td>\n",
       "      <td>BSEP_substrate_class</td>\n",
       "    </tr>\n",
       "    <tr>\n",
       "      <th>1</th>\n",
       "      <td>/global/home/users/amandapaulson/data/curated_...</td>\n",
       "      <td>pIC50,active</td>\n",
       "      <td>BSEP_pIC50_reg</td>\n",
       "    </tr>\n",
       "    <tr>\n",
       "      <th>2</th>\n",
       "      <td>/global/home/users/amandapaulson/data/curated_...</td>\n",
       "      <td>inhibitor</td>\n",
       "      <td>BSEP_inhibitor_class</td>\n",
       "    </tr>\n",
       "    <tr>\n",
       "      <th>3</th>\n",
       "      <td>/global/home/users/amandapaulson/data/curated_...</td>\n",
       "      <td>pct_inhib,active</td>\n",
       "      <td>BSEP_pct_inhib_reg</td>\n",
       "    </tr>\n",
       "  </tbody>\n",
       "</table>\n",
       "</div>"
      ],
      "text/plain": [
       "                                         dataset_key     response_cols  \\\n",
       "0  /global/home/users/amandapaulson/data/curated_...         substrate   \n",
       "1  /global/home/users/amandapaulson/data/curated_...      pIC50,active   \n",
       "2  /global/home/users/amandapaulson/data/curated_...         inhibitor   \n",
       "3  /global/home/users/amandapaulson/data/curated_...  pct_inhib,active   \n",
       "\n",
       "             collection  \n",
       "0  BSEP_substrate_class  \n",
       "1        BSEP_pIC50_reg  \n",
       "2  BSEP_inhibitor_class  \n",
       "3    BSEP_pct_inhib_reg  "
      ]
     },
     "execution_count": 41,
     "metadata": {},
     "output_type": "execute_result"
    }
   ],
   "source": [
    "sl=pd.read_csv(shortlist_key)\n",
    "sl"
   ]
  },
  {
   "cell_type": "code",
   "execution_count": 42,
   "metadata": {},
   "outputs": [
    {
     "data": {
      "text/plain": [
       "'/global/home/users/amandapaulson/data/bsep_feat_shortlist_with_uuids.csv'"
      ]
     },
     "execution_count": 42,
     "metadata": {},
     "output_type": "execute_result"
    }
   ],
   "source": [
    "sl_uuid_key=shortlist_key.replace('.csv','_with_uuids.csv')\n",
    "sl_uuid_key"
   ]
  },
  {
   "cell_type": "code",
   "execution_count": 43,
   "metadata": {},
   "outputs": [
    {
     "data": {
      "text/html": [
       "<div>\n",
       "<style scoped>\n",
       "    .dataframe tbody tr th:only-of-type {\n",
       "        vertical-align: middle;\n",
       "    }\n",
       "\n",
       "    .dataframe tbody tr th {\n",
       "        vertical-align: top;\n",
       "    }\n",
       "\n",
       "    .dataframe thead th {\n",
       "        text-align: right;\n",
       "    }\n",
       "</style>\n",
       "<table border=\"1\" class=\"dataframe\">\n",
       "  <thead>\n",
       "    <tr style=\"text-align: right;\">\n",
       "      <th></th>\n",
       "      <th>dataset_key</th>\n",
       "      <th>bucket</th>\n",
       "      <th>response_cols</th>\n",
       "      <th>collection</th>\n",
       "      <th>random_10_10</th>\n",
       "      <th>random_15_15</th>\n",
       "      <th>random_10_20</th>\n",
       "      <th>random_20_20</th>\n",
       "      <th>scaffold_10_10</th>\n",
       "      <th>scaffold_15_15</th>\n",
       "      <th>scaffold_10_20</th>\n",
       "      <th>scaffold_20_20</th>\n",
       "      <th>fingerprint_10_10</th>\n",
       "      <th>fingerprint_15_15</th>\n",
       "      <th>fingerprint_10_20</th>\n",
       "      <th>fingerprint_20_20</th>\n",
       "    </tr>\n",
       "  </thead>\n",
       "  <tbody>\n",
       "    <tr>\n",
       "      <th>0</th>\n",
       "      <td>/global/home/users/amandapaulson/data/curated_...</td>\n",
       "      <td>public</td>\n",
       "      <td>substrate</td>\n",
       "      <td>BSEP_substrate_class</td>\n",
       "      <td>eb6056a0-bea5-4bf5-82a8-c547ec3ee2b3</td>\n",
       "      <td>a7b083c4-387e-4050-80f9-6cca7351287d</td>\n",
       "      <td>fda59802-0723-40de-be41-46d5c43a632f</td>\n",
       "      <td>545cc841-a02f-42ab-bed3-6514ef173179</td>\n",
       "      <td>NaN</td>\n",
       "      <td>NaN</td>\n",
       "      <td>NaN</td>\n",
       "      <td>NaN</td>\n",
       "      <td>573f3258-6694-4783-95ef-c4926a6c7079</td>\n",
       "      <td>d38ca641-4b44-473e-8721-8b343ef96ca8</td>\n",
       "      <td>f5023b1d-9417-4c95-a3ef-4437c99281d6</td>\n",
       "      <td>4cdd9b12-596e-4c8c-b8dc-b3b73787943b</td>\n",
       "    </tr>\n",
       "    <tr>\n",
       "      <th>1</th>\n",
       "      <td>/global/home/users/amandapaulson/data/curated_...</td>\n",
       "      <td>public</td>\n",
       "      <td>pIC50,active</td>\n",
       "      <td>BSEP_pIC50_reg</td>\n",
       "      <td>1f0202ed-07a9-41d0-bf83-449b177ee81d</td>\n",
       "      <td>d3f0f361-3da9-4ec2-8f66-4bdd6fe1884a</td>\n",
       "      <td>4b5081a8-0223-4b73-a2dd-d41250dc6cd3</td>\n",
       "      <td>adcd3233-a4ef-45b0-aef6-9e3ff31457a9</td>\n",
       "      <td>190c68e4-19c0-4115-886a-1723dda50881</td>\n",
       "      <td>d3ddff01-3560-4464-9420-073039e16186</td>\n",
       "      <td>f05c88a3-7da6-4bd0-bde7-6901ae989a94</td>\n",
       "      <td>e4d70f88-cffc-40ca-b6e1-4e85d34affa3</td>\n",
       "      <td>4c1e760e-57ce-419f-bf9d-a2d0c97ef463</td>\n",
       "      <td>1483e461-ad4c-42ad-9fdc-c3db009687fd</td>\n",
       "      <td>1582aa5b-5eb9-4287-a483-0b1616402840</td>\n",
       "      <td>1c81bbb4-7f6b-4a55-b1aa-c106282b7758</td>\n",
       "    </tr>\n",
       "    <tr>\n",
       "      <th>2</th>\n",
       "      <td>/global/home/users/amandapaulson/data/curated_...</td>\n",
       "      <td>public</td>\n",
       "      <td>inhibitor</td>\n",
       "      <td>BSEP_inhibitor_class</td>\n",
       "      <td>943587de-9305-4044-8ed7-349536255bd3</td>\n",
       "      <td>a0bccea3-88c1-4971-94b6-c46f194db98c</td>\n",
       "      <td>2209f236-10c1-403c-96ec-b506bfd26b06</td>\n",
       "      <td>a9bd68c6-334e-4c41-abe3-44228f0da4d6</td>\n",
       "      <td>ec7c99c5-c1b2-4858-8423-4a774b3214ce</td>\n",
       "      <td>8674c5a1-caf7-4649-b493-c91f75dd3fd3</td>\n",
       "      <td>3a986e53-c0bb-4ef8-ada7-e273d6a29192</td>\n",
       "      <td>425dfa23-6786-4b88-a784-14d4bb7ec142</td>\n",
       "      <td>1ab1271f-7bdd-4966-ad72-ccb49c472cd4</td>\n",
       "      <td>089d55f8-5821-4095-9091-a8b1ba72817e</td>\n",
       "      <td>c2a79a88-1f0e-4b9e-a6c0-27d7041a3c72</td>\n",
       "      <td>9b344058-0dd4-4018-9363-73ae1753c92f</td>\n",
       "    </tr>\n",
       "    <tr>\n",
       "      <th>3</th>\n",
       "      <td>/global/home/users/amandapaulson/data/curated_...</td>\n",
       "      <td>public</td>\n",
       "      <td>pct_inhib,active</td>\n",
       "      <td>BSEP_pct_inhib_reg</td>\n",
       "      <td>a6123948-87e4-46ac-ba30-317d13914d47</td>\n",
       "      <td>7dca8371-cc27-4753-beef-c7c3d862a4dd</td>\n",
       "      <td>f2d3be22-6293-4104-90cc-680c3887b5d5</td>\n",
       "      <td>c5ffbc0a-d630-4800-9a5c-bdeab5ecdee2</td>\n",
       "      <td>ab5502dd-5b03-47a7-b502-ee4f8db40807</td>\n",
       "      <td>64a14558-33fa-4547-b4b1-f28b7ad4254e</td>\n",
       "      <td>83791887-bdde-49eb-95d1-da3fcc382f09</td>\n",
       "      <td>5b5a3e8c-cb3e-4d98-ad5b-e26383cc36b9</td>\n",
       "      <td>f7c42ada-dbb9-44ec-80bc-6d5a383b9f8d</td>\n",
       "      <td>3abdbe2a-3be3-4ded-844e-ee30555f210a</td>\n",
       "      <td>d378a83e-9ccf-45bc-a11e-18b147bad296</td>\n",
       "      <td>8212780f-8488-4afd-ae81-132b6347602a</td>\n",
       "    </tr>\n",
       "  </tbody>\n",
       "</table>\n",
       "</div>"
      ],
      "text/plain": [
       "                                         dataset_key  bucket  \\\n",
       "0  /global/home/users/amandapaulson/data/curated_...  public   \n",
       "1  /global/home/users/amandapaulson/data/curated_...  public   \n",
       "2  /global/home/users/amandapaulson/data/curated_...  public   \n",
       "3  /global/home/users/amandapaulson/data/curated_...  public   \n",
       "\n",
       "      response_cols            collection  \\\n",
       "0         substrate  BSEP_substrate_class   \n",
       "1      pIC50,active        BSEP_pIC50_reg   \n",
       "2         inhibitor  BSEP_inhibitor_class   \n",
       "3  pct_inhib,active    BSEP_pct_inhib_reg   \n",
       "\n",
       "                           random_10_10                          random_15_15  \\\n",
       "0  eb6056a0-bea5-4bf5-82a8-c547ec3ee2b3  a7b083c4-387e-4050-80f9-6cca7351287d   \n",
       "1  1f0202ed-07a9-41d0-bf83-449b177ee81d  d3f0f361-3da9-4ec2-8f66-4bdd6fe1884a   \n",
       "2  943587de-9305-4044-8ed7-349536255bd3  a0bccea3-88c1-4971-94b6-c46f194db98c   \n",
       "3  a6123948-87e4-46ac-ba30-317d13914d47  7dca8371-cc27-4753-beef-c7c3d862a4dd   \n",
       "\n",
       "                           random_10_20                          random_20_20  \\\n",
       "0  fda59802-0723-40de-be41-46d5c43a632f  545cc841-a02f-42ab-bed3-6514ef173179   \n",
       "1  4b5081a8-0223-4b73-a2dd-d41250dc6cd3  adcd3233-a4ef-45b0-aef6-9e3ff31457a9   \n",
       "2  2209f236-10c1-403c-96ec-b506bfd26b06  a9bd68c6-334e-4c41-abe3-44228f0da4d6   \n",
       "3  f2d3be22-6293-4104-90cc-680c3887b5d5  c5ffbc0a-d630-4800-9a5c-bdeab5ecdee2   \n",
       "\n",
       "                         scaffold_10_10                        scaffold_15_15  \\\n",
       "0                                   NaN                                   NaN   \n",
       "1  190c68e4-19c0-4115-886a-1723dda50881  d3ddff01-3560-4464-9420-073039e16186   \n",
       "2  ec7c99c5-c1b2-4858-8423-4a774b3214ce  8674c5a1-caf7-4649-b493-c91f75dd3fd3   \n",
       "3  ab5502dd-5b03-47a7-b502-ee4f8db40807  64a14558-33fa-4547-b4b1-f28b7ad4254e   \n",
       "\n",
       "                         scaffold_10_20                        scaffold_20_20  \\\n",
       "0                                   NaN                                   NaN   \n",
       "1  f05c88a3-7da6-4bd0-bde7-6901ae989a94  e4d70f88-cffc-40ca-b6e1-4e85d34affa3   \n",
       "2  3a986e53-c0bb-4ef8-ada7-e273d6a29192  425dfa23-6786-4b88-a784-14d4bb7ec142   \n",
       "3  83791887-bdde-49eb-95d1-da3fcc382f09  5b5a3e8c-cb3e-4d98-ad5b-e26383cc36b9   \n",
       "\n",
       "                      fingerprint_10_10                     fingerprint_15_15  \\\n",
       "0  573f3258-6694-4783-95ef-c4926a6c7079  d38ca641-4b44-473e-8721-8b343ef96ca8   \n",
       "1  4c1e760e-57ce-419f-bf9d-a2d0c97ef463  1483e461-ad4c-42ad-9fdc-c3db009687fd   \n",
       "2  1ab1271f-7bdd-4966-ad72-ccb49c472cd4  089d55f8-5821-4095-9091-a8b1ba72817e   \n",
       "3  f7c42ada-dbb9-44ec-80bc-6d5a383b9f8d  3abdbe2a-3be3-4ded-844e-ee30555f210a   \n",
       "\n",
       "                      fingerprint_10_20                     fingerprint_20_20  \n",
       "0  f5023b1d-9417-4c95-a3ef-4437c99281d6  4cdd9b12-596e-4c8c-b8dc-b3b73787943b  \n",
       "1  1582aa5b-5eb9-4287-a483-0b1616402840  1c81bbb4-7f6b-4a55-b1aa-c106282b7758  \n",
       "2  c2a79a88-1f0e-4b9e-a6c0-27d7041a3c72  9b344058-0dd4-4018-9363-73ae1753c92f  \n",
       "3  d378a83e-9ccf-45bc-a11e-18b147bad296  8212780f-8488-4afd-ae81-132b6347602a  "
      ]
     },
     "execution_count": 43,
     "metadata": {},
     "output_type": "execute_result"
    }
   ],
   "source": [
    "sl=pd.read_csv(sl_uuid_key)\n",
    "sl"
   ]
  },
  {
   "cell_type": "markdown",
   "metadata": {},
   "source": [
    "### now you have a bunch of new columns\n",
    "- each UUID corresponds to a split file in your curated_data directory\n",
    "- random_10_10 means you split the data randomly and 10% goes into valid, 10% into test, 80% into train\n",
    "- **remember not to delete these split files, especially once you start training models**"
   ]
  },
  {
   "cell_type": "code",
   "execution_count": 54,
   "metadata": {},
   "outputs": [
    {
     "data": {
      "text/plain": [
       "'/global/home/users/amandapaulson/data/curated_datasets'"
      ]
     },
     "execution_count": 54,
     "metadata": {},
     "output_type": "execute_result"
    }
   ],
   "source": [
    "curated_data_path"
   ]
  },
  {
   "cell_type": "code",
   "execution_count": 55,
   "metadata": {},
   "outputs": [
    {
     "name": "stdout",
     "output_type": "stream",
     "text": [
      "\n",
      "/global/home/users/amandapaulson/data/curated_datasets\n",
      "\n",
      "combined_class_inhibitor_data_cur.csv\n",
      "combined_class_inhibitor_data_cur_train_valid_test_fingerprint_14b7bf3a-6272-43e0-8e9d-c6e385a14e41.csv\n",
      "combined_class_inhibitor_data_cur_train_valid_test_fingerprint_262113db-910f-42d2-abc8-28d5a5beb318.csv\n",
      "combined_class_inhibitor_data_cur_train_valid_test_fingerprint_57fade82-dd21-45f8-a5b8-9ed3d5d2112a.csv\n",
      "combined_class_inhibitor_data_cur_train_valid_test_fingerprint_b75234da-dd2c-458b-8e1f-98b688046403.csv\n",
      "combined_class_inhibitor_data_cur_train_valid_test_random_61b485b9-ceff-4742-b3d7-b02d72ba0f74.csv\n",
      "combined_class_inhibitor_data_cur_train_valid_test_random_7624990e-0093-4653-967a-e88fa147eb13.csv\n",
      "combined_class_inhibitor_data_cur_train_valid_test_random_90da2246-be18-407b-83a7-2737e3beb9cf.csv\n",
      "combined_class_inhibitor_data_cur_train_valid_test_random_b9da9cf9-e2de-443d-91a9-d122e439bf15.csv\n",
      "combined_class_inhibitor_data_cur_train_valid_test_scaffold_31934b3e-0f25-4bda-b639-55472648a36c.csv\n",
      "combined_class_inhibitor_data_cur_train_valid_test_scaffold_6a6ccbfa-e69d-43fb-bf4c-5ae74099d48e.csv\n",
      "combined_class_inhibitor_data_cur_train_valid_test_scaffold_9c147930-65e8-4e1c-ba26-09a44fd77d31.csv\n",
      "combined_class_inhibitor_data_cur_train_valid_test_scaffold_b2c48656-7143-4c51-aeb7-9b41f540ea77.csv\n",
      "combined_ic50_inhibitor_data_cur.csv\n",
      "combined_ic50_inhibitor_data_cur_train_valid_test_fingerprint_0fde29ef-f8e1-4c81-9135-4166fcb77129.csv\n",
      "combined_ic50_inhibitor_data_cur_train_valid_test_fingerprint_315c00fe-4fb4-4095-adc3-7f86ce3345e6.csv\n",
      "combined_ic50_inhibitor_data_cur_train_valid_test_fingerprint_374c75f0-04ff-4ace-97a6-37ba3ff0774e.csv\n",
      "combined_ic50_inhibitor_data_cur_train_valid_test_fingerprint_8efc2521-830e-47fa-8c60-ed528b76f9a1.csv\n",
      "combined_ic50_inhibitor_data_cur_train_valid_test_random_1675990e-e55b-48e8-9227-c2db8dd3497e.csv\n",
      "combined_ic50_inhibitor_data_cur_train_valid_test_random_97c576a7-9d95-45a7-94bb-2eb82ccc64d2.csv\n",
      "combined_ic50_inhibitor_data_cur_train_valid_test_random_a3957fff-9857-49f2-b596-2e50bef64f61.csv\n",
      "combined_ic50_inhibitor_data_cur_train_valid_test_random_d371b7c7-8705-4057-beec-3a42a6f6196f.csv\n",
      "combined_ic50_inhibitor_data_cur_train_valid_test_scaffold_26021005-0cd6-4ee6-872f-e2a036fe0981.csv\n",
      "combined_ic50_inhibitor_data_cur_train_valid_test_scaffold_55574502-4524-4b39-acb8-5d41eab8a25c.csv\n",
      "combined_ic50_inhibitor_data_cur_train_valid_test_scaffold_754a5b73-fcca-4b0a-a823-80f2717ba6fd.csv\n",
      "combined_ic50_inhibitor_data_cur_train_valid_test_scaffold_9a8c9002-888d-49a4-9eb6-6c517c165eb2.csv\n",
      "combined_pct_inhibitor_data_cur.csv\n",
      "combined_pct_inhibitor_data_cur_train_valid_test_fingerprint_0cb8ae0b-335f-4dc6-abc6-bc5d134e77a2.csv\n",
      "combined_pct_inhibitor_data_cur_train_valid_test_fingerprint_301908ba-2a8b-4fe4-9f2e-2a8a72c2d252.csv\n",
      "combined_pct_inhibitor_data_cur_train_valid_test_fingerprint_6f84fe3f-287e-463b-b204-26d6dcbfeb3c.csv\n",
      "combined_pct_inhibitor_data_cur_train_valid_test_fingerprint_89f8ab28-ae70-4892-9977-b93cbd42dc8f.csv\n",
      "combined_pct_inhibitor_data_cur_train_valid_test_random_3fc09959-10fb-4888-8373-a370d75f59bd.csv\n",
      "combined_pct_inhibitor_data_cur_train_valid_test_random_596df618-5760-43ac-9b40-332dee64f2be.csv\n",
      "combined_pct_inhibitor_data_cur_train_valid_test_random_8e47bf5f-8fdb-47e2-aefd-eb373de5a961.csv\n",
      "combined_pct_inhibitor_data_cur_train_valid_test_random_da2a26e5-185f-41f4-9cf9-2c952c91efd0.csv\n",
      "combined_pct_inhibitor_data_cur_train_valid_test_scaffold_62b2c43a-213d-4f40-959c-dc24767f2bc2.csv\n",
      "combined_pct_inhibitor_data_cur_train_valid_test_scaffold_7c754b0c-49e9-4905-ab3b-b5e2183b875b.csv\n",
      "combined_pct_inhibitor_data_cur_train_valid_test_scaffold_b1c877af-0a06-4f2c-9215-ef576cdbb410.csv\n",
      "combined_pct_inhibitor_data_cur_train_valid_test_scaffold_d5e21e98-0b7b-4a6e-a454-d64eafffd600.csv\n",
      "combined_substrate_data_cur.csv\n",
      "combined_substrate_data_cur_train_valid_test_fingerprint_1176149d-2c84-49de-8c9b-6f7a0f469d08.csv\n",
      "combined_substrate_data_cur_train_valid_test_fingerprint_55a1d301-d2c0-45d1-a9c4-8a136a66268f.csv\n",
      "combined_substrate_data_cur_train_valid_test_fingerprint_c2d89b38-97ba-43ab-a7b5-6115b214bf33.csv\n",
      "combined_substrate_data_cur_train_valid_test_fingerprint_f87dc56c-6615-49d8-b41a-d2a82fe2d5c9.csv\n",
      "combined_substrate_data_cur_train_valid_test_random_5925ea42-3ac0-4d06-b01d-ba857f7fd4e3.csv\n",
      "combined_substrate_data_cur_train_valid_test_random_9b4c1491-27d8-460b-8531-fdf88ebab3a9.csv\n",
      "combined_substrate_data_cur_train_valid_test_random_dd241db5-8735-4249-98ee-febbe5b3590f.csv\n",
      "combined_substrate_data_cur_train_valid_test_random_ea5505cf-05ab-4b99-95a0-c9c39eb895b5.csv\n",
      "\n",
      "/global/home/users/amandapaulson/data/curated_datasets/scaled_descriptors\n",
      "\n",
      "combined_class_inhibitor_data_cur_with_mordred_filtered_descriptors.csv\n",
      "combined_class_inhibitor_data_cur_with_rdkit_raw_descriptors.csv\n",
      "combined_ic50_inhibitor_data_cur_with_mordred_filtered_descriptors.csv\n",
      "combined_ic50_inhibitor_data_cur_with_rdkit_raw_descriptors.csv\n",
      "combined_pct_inhibitor_data_cur_with_mordred_filtered_descriptors.csv\n",
      "combined_pct_inhibitor_data_cur_with_rdkit_raw_descriptors.csv\n",
      "combined_substrate_data_cur_with_mordred_filtered_descriptors.csv\n",
      "combined_substrate_data_cur_with_rdkit_raw_descriptors.csv\n"
     ]
    }
   ],
   "source": [
    "for root, dirs, files in os.walk(curated_data_path):\n",
    "    print('\\n'+root+'\\n')\n",
    "    files.sort()\n",
    "    for file in files:\n",
    "        print(file)"
   ]
  },
  {
   "cell_type": "markdown",
   "metadata": {},
   "source": [
    "# if you have NaN's instead of split uuids, email me for more info!"
   ]
  },
  {
   "cell_type": "markdown",
   "metadata": {},
   "source": [
    "# you're ready to start modeling now!"
   ]
  }
 ],
 "metadata": {
  "kernelspec": {
   "display_name": "atomsci",
   "language": "python",
   "name": "atomsci"
  },
  "language_info": {
   "codemirror_mode": {
    "name": "ipython",
    "version": 3
   },
   "file_extension": ".py",
   "mimetype": "text/x-python",
   "name": "python",
   "nbconvert_exporter": "python",
   "pygments_lexer": "ipython3",
   "version": "3.8.10"
  }
 },
 "nbformat": 4,
 "nbformat_minor": 4
}
