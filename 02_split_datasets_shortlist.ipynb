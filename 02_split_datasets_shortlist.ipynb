{
 "cells": [
  {
   "cell_type": "markdown",
   "metadata": {},
   "source": [
    "# Create shortlist with split UUIDs - split datasets with different splits\n",
    "- This will use the hyperparameter_search_wrapper.py code\n",
    "- do NOT run this until you're completely done featurizing your datasets"
   ]
  },
  {
   "cell_type": "code",
   "execution_count": 3,
   "metadata": {},
   "outputs": [],
   "source": [
    "# import packages\n",
    "\n",
    "import pandas as pd\n",
    "import json\n",
    "import os\n",
    "import numpy as np\n",
    "from atomsci.ddm.pipeline import model_tracker as trkr\n",
    "from atomsci.ddm.utils import struct_utils as su\n",
    "from atomsci.ddm.utils import curate_data as cd\n",
    "%config Completer.use_jedi = False"
   ]
  },
  {
   "cell_type": "code",
   "execution_count": 4,
   "metadata": {},
   "outputs": [
    {
     "data": {
      "text/plain": [
       "'/global/home/users/amandapaulson/data/curated_datasets'"
      ]
     },
     "execution_count": 4,
     "metadata": {},
     "output_type": "execute_result"
    }
   ],
   "source": [
    "# specify your home path and the folder where your datasets are\n",
    "my_username=\"amandapaulson\"\n",
    "\n",
    "home_path=f\"/global/home/users/{my_username}\"\n",
    "data_path=os.path.join(home_path, 'data')\n",
    "curated_data_path=os.path.join(data_path,'curated_datasets')\n",
    "curated_data_path"
   ]
  },
  {
   "cell_type": "code",
   "execution_count": 5,
   "metadata": {},
   "outputs": [],
   "source": [
    "# set up parameters\n",
    "\n",
    "script_dir=f\"/global/home/users/{my_username}/repos/AMPL/atomsci/ddm/utils\"\n",
    "result_dir=f\"/global/home/users/{my_username}/data/featurize_datasets_shortlist\"\n",
    "\n",
    "# change to what you called your shortlist\n",
    "shortlist_key=f\"/global/home/users/{my_username}/data/bsep_feat_shortlist.csv\""
   ]
  },
  {
   "cell_type": "code",
   "execution_count": 6,
   "metadata": {},
   "outputs": [
    {
     "data": {
      "text/plain": [
       "{'hyperparam': 'True',\n",
       " 'slurm_account': 'ic_engin296ma',\n",
       " 'slurm_partition': 'savio2_htc',\n",
       " 'slurm_time_limit': '60',\n",
       " 'slurm_nodes': 'None',\n",
       " 'slurm_options': '#SBATCH@--cpus-per-task=1',\n",
       " 'system': 'LC',\n",
       " 'datastore': 'False',\n",
       " 'save_results': 'True',\n",
       " 'split_only': 'True',\n",
       " 'use_shortlist': 'True',\n",
       " 'shortlist_key': '/global/home/users/amandapaulson/data/bsep_feat_shortlist.csv',\n",
       " 'result_dir': '/global/home/users/amandapaulson/data/featurize_datasets_shortlist',\n",
       " 'smiles_col': 'base_rdkit_smiles',\n",
       " 'collection_name': 'featurize'}"
      ]
     },
     "execution_count": 6,
     "metadata": {},
     "output_type": "execute_result"
    }
   ],
   "source": [
    "# create parameter dictionary to pass to ampl software\n",
    "\n",
    "params = {\n",
    "    # don't change these\n",
    "    \"hyperparam\": \"True\",\n",
    "    \"slurm_account\": \"ic_engin296ma\",\n",
    "    \"slurm_partition\": \"savio2_htc\",\n",
    "    \"slurm_time_limit\": \"60\",\n",
    "    \"slurm_nodes\":\"None\",\n",
    "    \"slurm_options\":\"#SBATCH@--cpus-per-task=1\",\n",
    "    \"system\": \"LC\",\n",
    "    \"datastore\": \"False\",\n",
    "    \"save_results\": \"True\",\n",
    "    \n",
    "    # these will be modified depending on what you need to do\n",
    "    \"split_only\": \"True\",\n",
    "    \"use_shortlist\": \"True\",\n",
    "    \"shortlist_key\": shortlist_key,\n",
    "    \"result_dir\": result_dir,\n",
    "    \"smiles_col\" : \"base_rdkit_smiles\",\n",
    "    \"collection_name\" : \"featurize\"\n",
    "}\n",
    "\n",
    "params"
   ]
  },
  {
   "cell_type": "code",
   "execution_count": 40,
   "metadata": {},
   "outputs": [
    {
     "name": "stdout",
     "output_type": "stream",
     "text": [
      "python /global/home/users/amandapaulson/repos/AMPL/atomsci/ddm/utils/hyperparam_search_wrapper.py --config_file /global/home/users/amandapaulson/data/featurize_datasets_shortlist/bsep_split_shortlist.json\n"
     ]
    }
   ],
   "source": [
    "# save the dict as a .json file in your results directory\n",
    "fname=f'{result_dir}/bsep_split_shortlist.json'\n",
    "with open(fname, 'w') as fp:\n",
    "    json.dump(params, fp, indent=4)\n",
    "\n",
    "# print out the command you'll run in your terminal\n",
    "print(f'python {script_dir}/hyperparam_search_wrapper.py --config_file {fname}')"
   ]
  },
  {
   "cell_type": "markdown",
   "metadata": {},
   "source": [
    "## copy/paste the command ^ above into a terminal\n",
    "## you MUST have your atomsci env activated first\n",
    "`conda activate atomsci`\n",
    "\n",
    "output will be printed directly to the terminal window. watch what it says and if any errors arise.\n",
    "\n",
    "# inspect new shortlist file"
   ]
  },
  {
   "cell_type": "code",
   "execution_count": 7,
   "metadata": {},
   "outputs": [
    {
     "data": {
      "text/html": [
       "<div>\n",
       "<style scoped>\n",
       "    .dataframe tbody tr th:only-of-type {\n",
       "        vertical-align: middle;\n",
       "    }\n",
       "\n",
       "    .dataframe tbody tr th {\n",
       "        vertical-align: top;\n",
       "    }\n",
       "\n",
       "    .dataframe thead th {\n",
       "        text-align: right;\n",
       "    }\n",
       "</style>\n",
       "<table border=\"1\" class=\"dataframe\">\n",
       "  <thead>\n",
       "    <tr style=\"text-align: right;\">\n",
       "      <th></th>\n",
       "      <th>dataset_key</th>\n",
       "      <th>response_cols</th>\n",
       "      <th>collection</th>\n",
       "    </tr>\n",
       "  </thead>\n",
       "  <tbody>\n",
       "    <tr>\n",
       "      <th>0</th>\n",
       "      <td>/global/home/users/amandapaulson/data/curated_...</td>\n",
       "      <td>substrate</td>\n",
       "      <td>BSEP_substrate_class</td>\n",
       "    </tr>\n",
       "    <tr>\n",
       "      <th>1</th>\n",
       "      <td>/global/home/users/amandapaulson/data/curated_...</td>\n",
       "      <td>pIC50,active</td>\n",
       "      <td>BSEP_pIC50_reg</td>\n",
       "    </tr>\n",
       "    <tr>\n",
       "      <th>2</th>\n",
       "      <td>/global/home/users/amandapaulson/data/curated_...</td>\n",
       "      <td>inhibitor</td>\n",
       "      <td>BSEP_inhibitor_class</td>\n",
       "    </tr>\n",
       "    <tr>\n",
       "      <th>3</th>\n",
       "      <td>/global/home/users/amandapaulson/data/curated_...</td>\n",
       "      <td>pct_inhib,active</td>\n",
       "      <td>BSEP_pct_inhib_reg</td>\n",
       "    </tr>\n",
       "  </tbody>\n",
       "</table>\n",
       "</div>"
      ],
      "text/plain": [
       "                                         dataset_key     response_cols  \\\n",
       "0  /global/home/users/amandapaulson/data/curated_...         substrate   \n",
       "1  /global/home/users/amandapaulson/data/curated_...      pIC50,active   \n",
       "2  /global/home/users/amandapaulson/data/curated_...         inhibitor   \n",
       "3  /global/home/users/amandapaulson/data/curated_...  pct_inhib,active   \n",
       "\n",
       "             collection  \n",
       "0  BSEP_substrate_class  \n",
       "1        BSEP_pIC50_reg  \n",
       "2  BSEP_inhibitor_class  \n",
       "3    BSEP_pct_inhib_reg  "
      ]
     },
     "execution_count": 7,
     "metadata": {},
     "output_type": "execute_result"
    }
   ],
   "source": [
    "sl=pd.read_csv(shortlist_key)\n",
    "sl"
   ]
  },
  {
   "cell_type": "code",
   "execution_count": 8,
   "metadata": {},
   "outputs": [
    {
     "data": {
      "text/plain": [
       "'/global/home/users/amandapaulson/data/bsep_feat_shortlist_with_uuids.csv'"
      ]
     },
     "execution_count": 8,
     "metadata": {},
     "output_type": "execute_result"
    }
   ],
   "source": [
    "sl_uuid_key=shortlist_key.replace('.csv','_with_uuids.csv')\n",
    "sl_uuid_key"
   ]
  },
  {
   "cell_type": "code",
   "execution_count": 9,
   "metadata": {},
   "outputs": [
    {
     "data": {
      "text/html": [
       "<div>\n",
       "<style scoped>\n",
       "    .dataframe tbody tr th:only-of-type {\n",
       "        vertical-align: middle;\n",
       "    }\n",
       "\n",
       "    .dataframe tbody tr th {\n",
       "        vertical-align: top;\n",
       "    }\n",
       "\n",
       "    .dataframe thead th {\n",
       "        text-align: right;\n",
       "    }\n",
       "</style>\n",
       "<table border=\"1\" class=\"dataframe\">\n",
       "  <thead>\n",
       "    <tr style=\"text-align: right;\">\n",
       "      <th></th>\n",
       "      <th>dataset_key</th>\n",
       "      <th>bucket</th>\n",
       "      <th>response_cols</th>\n",
       "      <th>collection</th>\n",
       "      <th>random_10_10</th>\n",
       "      <th>random_15_15</th>\n",
       "      <th>random_10_20</th>\n",
       "      <th>random_20_20</th>\n",
       "      <th>scaffold_10_10</th>\n",
       "      <th>scaffold_15_15</th>\n",
       "      <th>scaffold_10_20</th>\n",
       "      <th>scaffold_20_20</th>\n",
       "      <th>fingerprint_10_10</th>\n",
       "      <th>fingerprint_15_15</th>\n",
       "      <th>fingerprint_10_20</th>\n",
       "      <th>fingerprint_20_20</th>\n",
       "    </tr>\n",
       "  </thead>\n",
       "  <tbody>\n",
       "    <tr>\n",
       "      <th>0</th>\n",
       "      <td>/global/home/users/amandapaulson/data/curated_...</td>\n",
       "      <td>public</td>\n",
       "      <td>substrate</td>\n",
       "      <td>BSEP_substrate_class</td>\n",
       "      <td>9b4c1491-27d8-460b-8531-fdf88ebab3a9</td>\n",
       "      <td>dd241db5-8735-4249-98ee-febbe5b3590f</td>\n",
       "      <td>ea5505cf-05ab-4b99-95a0-c9c39eb895b5</td>\n",
       "      <td>5925ea42-3ac0-4d06-b01d-ba857f7fd4e3</td>\n",
       "      <td>NaN</td>\n",
       "      <td>NaN</td>\n",
       "      <td>NaN</td>\n",
       "      <td>NaN</td>\n",
       "      <td>f87dc56c-6615-49d8-b41a-d2a82fe2d5c9</td>\n",
       "      <td>55a1d301-d2c0-45d1-a9c4-8a136a66268f</td>\n",
       "      <td>1176149d-2c84-49de-8c9b-6f7a0f469d08</td>\n",
       "      <td>c2d89b38-97ba-43ab-a7b5-6115b214bf33</td>\n",
       "    </tr>\n",
       "    <tr>\n",
       "      <th>1</th>\n",
       "      <td>/global/home/users/amandapaulson/data/curated_...</td>\n",
       "      <td>public</td>\n",
       "      <td>pIC50,active</td>\n",
       "      <td>BSEP_pIC50_reg</td>\n",
       "      <td>a3957fff-9857-49f2-b596-2e50bef64f61</td>\n",
       "      <td>d371b7c7-8705-4057-beec-3a42a6f6196f</td>\n",
       "      <td>97c576a7-9d95-45a7-94bb-2eb82ccc64d2</td>\n",
       "      <td>1675990e-e55b-48e8-9227-c2db8dd3497e</td>\n",
       "      <td>26021005-0cd6-4ee6-872f-e2a036fe0981</td>\n",
       "      <td>754a5b73-fcca-4b0a-a823-80f2717ba6fd</td>\n",
       "      <td>9a8c9002-888d-49a4-9eb6-6c517c165eb2</td>\n",
       "      <td>55574502-4524-4b39-acb8-5d41eab8a25c</td>\n",
       "      <td>0fde29ef-f8e1-4c81-9135-4166fcb77129</td>\n",
       "      <td>374c75f0-04ff-4ace-97a6-37ba3ff0774e</td>\n",
       "      <td>8efc2521-830e-47fa-8c60-ed528b76f9a1</td>\n",
       "      <td>315c00fe-4fb4-4095-adc3-7f86ce3345e6</td>\n",
       "    </tr>\n",
       "    <tr>\n",
       "      <th>2</th>\n",
       "      <td>/global/home/users/amandapaulson/data/curated_...</td>\n",
       "      <td>public</td>\n",
       "      <td>inhibitor</td>\n",
       "      <td>BSEP_inhibitor_class</td>\n",
       "      <td>61b485b9-ceff-4742-b3d7-b02d72ba0f74</td>\n",
       "      <td>7624990e-0093-4653-967a-e88fa147eb13</td>\n",
       "      <td>b9da9cf9-e2de-443d-91a9-d122e439bf15</td>\n",
       "      <td>90da2246-be18-407b-83a7-2737e3beb9cf</td>\n",
       "      <td>31934b3e-0f25-4bda-b639-55472648a36c</td>\n",
       "      <td>9c147930-65e8-4e1c-ba26-09a44fd77d31</td>\n",
       "      <td>b2c48656-7143-4c51-aeb7-9b41f540ea77</td>\n",
       "      <td>6a6ccbfa-e69d-43fb-bf4c-5ae74099d48e</td>\n",
       "      <td>14b7bf3a-6272-43e0-8e9d-c6e385a14e41</td>\n",
       "      <td>262113db-910f-42d2-abc8-28d5a5beb318</td>\n",
       "      <td>57fade82-dd21-45f8-a5b8-9ed3d5d2112a</td>\n",
       "      <td>b75234da-dd2c-458b-8e1f-98b688046403</td>\n",
       "    </tr>\n",
       "    <tr>\n",
       "      <th>3</th>\n",
       "      <td>/global/home/users/amandapaulson/data/curated_...</td>\n",
       "      <td>public</td>\n",
       "      <td>pct_inhib,active</td>\n",
       "      <td>BSEP_pct_inhib_reg</td>\n",
       "      <td>596df618-5760-43ac-9b40-332dee64f2be</td>\n",
       "      <td>8e47bf5f-8fdb-47e2-aefd-eb373de5a961</td>\n",
       "      <td>da2a26e5-185f-41f4-9cf9-2c952c91efd0</td>\n",
       "      <td>3fc09959-10fb-4888-8373-a370d75f59bd</td>\n",
       "      <td>62b2c43a-213d-4f40-959c-dc24767f2bc2</td>\n",
       "      <td>d5e21e98-0b7b-4a6e-a454-d64eafffd600</td>\n",
       "      <td>7c754b0c-49e9-4905-ab3b-b5e2183b875b</td>\n",
       "      <td>b1c877af-0a06-4f2c-9215-ef576cdbb410</td>\n",
       "      <td>301908ba-2a8b-4fe4-9f2e-2a8a72c2d252</td>\n",
       "      <td>6f84fe3f-287e-463b-b204-26d6dcbfeb3c</td>\n",
       "      <td>0cb8ae0b-335f-4dc6-abc6-bc5d134e77a2</td>\n",
       "      <td>89f8ab28-ae70-4892-9977-b93cbd42dc8f</td>\n",
       "    </tr>\n",
       "  </tbody>\n",
       "</table>\n",
       "</div>"
      ],
      "text/plain": [
       "                                         dataset_key  bucket  \\\n",
       "0  /global/home/users/amandapaulson/data/curated_...  public   \n",
       "1  /global/home/users/amandapaulson/data/curated_...  public   \n",
       "2  /global/home/users/amandapaulson/data/curated_...  public   \n",
       "3  /global/home/users/amandapaulson/data/curated_...  public   \n",
       "\n",
       "      response_cols            collection  \\\n",
       "0         substrate  BSEP_substrate_class   \n",
       "1      pIC50,active        BSEP_pIC50_reg   \n",
       "2         inhibitor  BSEP_inhibitor_class   \n",
       "3  pct_inhib,active    BSEP_pct_inhib_reg   \n",
       "\n",
       "                           random_10_10                          random_15_15  \\\n",
       "0  9b4c1491-27d8-460b-8531-fdf88ebab3a9  dd241db5-8735-4249-98ee-febbe5b3590f   \n",
       "1  a3957fff-9857-49f2-b596-2e50bef64f61  d371b7c7-8705-4057-beec-3a42a6f6196f   \n",
       "2  61b485b9-ceff-4742-b3d7-b02d72ba0f74  7624990e-0093-4653-967a-e88fa147eb13   \n",
       "3  596df618-5760-43ac-9b40-332dee64f2be  8e47bf5f-8fdb-47e2-aefd-eb373de5a961   \n",
       "\n",
       "                           random_10_20                          random_20_20  \\\n",
       "0  ea5505cf-05ab-4b99-95a0-c9c39eb895b5  5925ea42-3ac0-4d06-b01d-ba857f7fd4e3   \n",
       "1  97c576a7-9d95-45a7-94bb-2eb82ccc64d2  1675990e-e55b-48e8-9227-c2db8dd3497e   \n",
       "2  b9da9cf9-e2de-443d-91a9-d122e439bf15  90da2246-be18-407b-83a7-2737e3beb9cf   \n",
       "3  da2a26e5-185f-41f4-9cf9-2c952c91efd0  3fc09959-10fb-4888-8373-a370d75f59bd   \n",
       "\n",
       "                         scaffold_10_10                        scaffold_15_15  \\\n",
       "0                                   NaN                                   NaN   \n",
       "1  26021005-0cd6-4ee6-872f-e2a036fe0981  754a5b73-fcca-4b0a-a823-80f2717ba6fd   \n",
       "2  31934b3e-0f25-4bda-b639-55472648a36c  9c147930-65e8-4e1c-ba26-09a44fd77d31   \n",
       "3  62b2c43a-213d-4f40-959c-dc24767f2bc2  d5e21e98-0b7b-4a6e-a454-d64eafffd600   \n",
       "\n",
       "                         scaffold_10_20                        scaffold_20_20  \\\n",
       "0                                   NaN                                   NaN   \n",
       "1  9a8c9002-888d-49a4-9eb6-6c517c165eb2  55574502-4524-4b39-acb8-5d41eab8a25c   \n",
       "2  b2c48656-7143-4c51-aeb7-9b41f540ea77  6a6ccbfa-e69d-43fb-bf4c-5ae74099d48e   \n",
       "3  7c754b0c-49e9-4905-ab3b-b5e2183b875b  b1c877af-0a06-4f2c-9215-ef576cdbb410   \n",
       "\n",
       "                      fingerprint_10_10                     fingerprint_15_15  \\\n",
       "0  f87dc56c-6615-49d8-b41a-d2a82fe2d5c9  55a1d301-d2c0-45d1-a9c4-8a136a66268f   \n",
       "1  0fde29ef-f8e1-4c81-9135-4166fcb77129  374c75f0-04ff-4ace-97a6-37ba3ff0774e   \n",
       "2  14b7bf3a-6272-43e0-8e9d-c6e385a14e41  262113db-910f-42d2-abc8-28d5a5beb318   \n",
       "3  301908ba-2a8b-4fe4-9f2e-2a8a72c2d252  6f84fe3f-287e-463b-b204-26d6dcbfeb3c   \n",
       "\n",
       "                      fingerprint_10_20                     fingerprint_20_20  \n",
       "0  1176149d-2c84-49de-8c9b-6f7a0f469d08  c2d89b38-97ba-43ab-a7b5-6115b214bf33  \n",
       "1  8efc2521-830e-47fa-8c60-ed528b76f9a1  315c00fe-4fb4-4095-adc3-7f86ce3345e6  \n",
       "2  57fade82-dd21-45f8-a5b8-9ed3d5d2112a  b75234da-dd2c-458b-8e1f-98b688046403  \n",
       "3  0cb8ae0b-335f-4dc6-abc6-bc5d134e77a2  89f8ab28-ae70-4892-9977-b93cbd42dc8f  "
      ]
     },
     "execution_count": 9,
     "metadata": {},
     "output_type": "execute_result"
    }
   ],
   "source": [
    "sl=pd.read_csv(sl_uuid_key)\n",
    "sl"
   ]
  },
  {
   "cell_type": "markdown",
   "metadata": {},
   "source": [
    "### now you have a bunch of new columns\n",
    "- each UUID corresponds to a split file in your curated_data directory\n",
    "- random_10_10 means you split the data randomly and 10% goes into valid, 10% into test, 80% into train\n",
    "- **remember not to delete these split files, especially once you start training models**"
   ]
  },
  {
   "cell_type": "code",
   "execution_count": 54,
   "metadata": {},
   "outputs": [
    {
     "data": {
      "text/plain": [
       "'/global/home/users/amandapaulson/data/curated_datasets'"
      ]
     },
     "execution_count": 54,
     "metadata": {},
     "output_type": "execute_result"
    }
   ],
   "source": [
    "curated_data_path"
   ]
  },
  {
   "cell_type": "code",
   "execution_count": 55,
   "metadata": {},
   "outputs": [
    {
     "name": "stdout",
     "output_type": "stream",
     "text": [
      "\n",
      "/global/home/users/amandapaulson/data/curated_datasets\n",
      "\n",
      "combined_class_inhibitor_data_cur.csv\n",
      "combined_class_inhibitor_data_cur_train_valid_test_fingerprint_14b7bf3a-6272-43e0-8e9d-c6e385a14e41.csv\n",
      "combined_class_inhibitor_data_cur_train_valid_test_fingerprint_262113db-910f-42d2-abc8-28d5a5beb318.csv\n",
      "combined_class_inhibitor_data_cur_train_valid_test_fingerprint_57fade82-dd21-45f8-a5b8-9ed3d5d2112a.csv\n",
      "combined_class_inhibitor_data_cur_train_valid_test_fingerprint_b75234da-dd2c-458b-8e1f-98b688046403.csv\n",
      "combined_class_inhibitor_data_cur_train_valid_test_random_61b485b9-ceff-4742-b3d7-b02d72ba0f74.csv\n",
      "combined_class_inhibitor_data_cur_train_valid_test_random_7624990e-0093-4653-967a-e88fa147eb13.csv\n",
      "combined_class_inhibitor_data_cur_train_valid_test_random_90da2246-be18-407b-83a7-2737e3beb9cf.csv\n",
      "combined_class_inhibitor_data_cur_train_valid_test_random_b9da9cf9-e2de-443d-91a9-d122e439bf15.csv\n",
      "combined_class_inhibitor_data_cur_train_valid_test_scaffold_31934b3e-0f25-4bda-b639-55472648a36c.csv\n",
      "combined_class_inhibitor_data_cur_train_valid_test_scaffold_6a6ccbfa-e69d-43fb-bf4c-5ae74099d48e.csv\n",
      "combined_class_inhibitor_data_cur_train_valid_test_scaffold_9c147930-65e8-4e1c-ba26-09a44fd77d31.csv\n",
      "combined_class_inhibitor_data_cur_train_valid_test_scaffold_b2c48656-7143-4c51-aeb7-9b41f540ea77.csv\n",
      "combined_ic50_inhibitor_data_cur.csv\n",
      "combined_ic50_inhibitor_data_cur_train_valid_test_fingerprint_0fde29ef-f8e1-4c81-9135-4166fcb77129.csv\n",
      "combined_ic50_inhibitor_data_cur_train_valid_test_fingerprint_315c00fe-4fb4-4095-adc3-7f86ce3345e6.csv\n",
      "combined_ic50_inhibitor_data_cur_train_valid_test_fingerprint_374c75f0-04ff-4ace-97a6-37ba3ff0774e.csv\n",
      "combined_ic50_inhibitor_data_cur_train_valid_test_fingerprint_8efc2521-830e-47fa-8c60-ed528b76f9a1.csv\n",
      "combined_ic50_inhibitor_data_cur_train_valid_test_random_1675990e-e55b-48e8-9227-c2db8dd3497e.csv\n",
      "combined_ic50_inhibitor_data_cur_train_valid_test_random_97c576a7-9d95-45a7-94bb-2eb82ccc64d2.csv\n",
      "combined_ic50_inhibitor_data_cur_train_valid_test_random_a3957fff-9857-49f2-b596-2e50bef64f61.csv\n",
      "combined_ic50_inhibitor_data_cur_train_valid_test_random_d371b7c7-8705-4057-beec-3a42a6f6196f.csv\n",
      "combined_ic50_inhibitor_data_cur_train_valid_test_scaffold_26021005-0cd6-4ee6-872f-e2a036fe0981.csv\n",
      "combined_ic50_inhibitor_data_cur_train_valid_test_scaffold_55574502-4524-4b39-acb8-5d41eab8a25c.csv\n",
      "combined_ic50_inhibitor_data_cur_train_valid_test_scaffold_754a5b73-fcca-4b0a-a823-80f2717ba6fd.csv\n",
      "combined_ic50_inhibitor_data_cur_train_valid_test_scaffold_9a8c9002-888d-49a4-9eb6-6c517c165eb2.csv\n",
      "combined_pct_inhibitor_data_cur.csv\n",
      "combined_pct_inhibitor_data_cur_train_valid_test_fingerprint_0cb8ae0b-335f-4dc6-abc6-bc5d134e77a2.csv\n",
      "combined_pct_inhibitor_data_cur_train_valid_test_fingerprint_301908ba-2a8b-4fe4-9f2e-2a8a72c2d252.csv\n",
      "combined_pct_inhibitor_data_cur_train_valid_test_fingerprint_6f84fe3f-287e-463b-b204-26d6dcbfeb3c.csv\n",
      "combined_pct_inhibitor_data_cur_train_valid_test_fingerprint_89f8ab28-ae70-4892-9977-b93cbd42dc8f.csv\n",
      "combined_pct_inhibitor_data_cur_train_valid_test_random_3fc09959-10fb-4888-8373-a370d75f59bd.csv\n",
      "combined_pct_inhibitor_data_cur_train_valid_test_random_596df618-5760-43ac-9b40-332dee64f2be.csv\n",
      "combined_pct_inhibitor_data_cur_train_valid_test_random_8e47bf5f-8fdb-47e2-aefd-eb373de5a961.csv\n",
      "combined_pct_inhibitor_data_cur_train_valid_test_random_da2a26e5-185f-41f4-9cf9-2c952c91efd0.csv\n",
      "combined_pct_inhibitor_data_cur_train_valid_test_scaffold_62b2c43a-213d-4f40-959c-dc24767f2bc2.csv\n",
      "combined_pct_inhibitor_data_cur_train_valid_test_scaffold_7c754b0c-49e9-4905-ab3b-b5e2183b875b.csv\n",
      "combined_pct_inhibitor_data_cur_train_valid_test_scaffold_b1c877af-0a06-4f2c-9215-ef576cdbb410.csv\n",
      "combined_pct_inhibitor_data_cur_train_valid_test_scaffold_d5e21e98-0b7b-4a6e-a454-d64eafffd600.csv\n",
      "combined_substrate_data_cur.csv\n",
      "combined_substrate_data_cur_train_valid_test_fingerprint_1176149d-2c84-49de-8c9b-6f7a0f469d08.csv\n",
      "combined_substrate_data_cur_train_valid_test_fingerprint_55a1d301-d2c0-45d1-a9c4-8a136a66268f.csv\n",
      "combined_substrate_data_cur_train_valid_test_fingerprint_c2d89b38-97ba-43ab-a7b5-6115b214bf33.csv\n",
      "combined_substrate_data_cur_train_valid_test_fingerprint_f87dc56c-6615-49d8-b41a-d2a82fe2d5c9.csv\n",
      "combined_substrate_data_cur_train_valid_test_random_5925ea42-3ac0-4d06-b01d-ba857f7fd4e3.csv\n",
      "combined_substrate_data_cur_train_valid_test_random_9b4c1491-27d8-460b-8531-fdf88ebab3a9.csv\n",
      "combined_substrate_data_cur_train_valid_test_random_dd241db5-8735-4249-98ee-febbe5b3590f.csv\n",
      "combined_substrate_data_cur_train_valid_test_random_ea5505cf-05ab-4b99-95a0-c9c39eb895b5.csv\n",
      "\n",
      "/global/home/users/amandapaulson/data/curated_datasets/scaled_descriptors\n",
      "\n",
      "combined_class_inhibitor_data_cur_with_mordred_filtered_descriptors.csv\n",
      "combined_class_inhibitor_data_cur_with_rdkit_raw_descriptors.csv\n",
      "combined_ic50_inhibitor_data_cur_with_mordred_filtered_descriptors.csv\n",
      "combined_ic50_inhibitor_data_cur_with_rdkit_raw_descriptors.csv\n",
      "combined_pct_inhibitor_data_cur_with_mordred_filtered_descriptors.csv\n",
      "combined_pct_inhibitor_data_cur_with_rdkit_raw_descriptors.csv\n",
      "combined_substrate_data_cur_with_mordred_filtered_descriptors.csv\n",
      "combined_substrate_data_cur_with_rdkit_raw_descriptors.csv\n"
     ]
    }
   ],
   "source": [
    "for root, dirs, files in os.walk(curated_data_path):\n",
    "    print('\\n'+root+'\\n')\n",
    "    files.sort()\n",
    "    for file in files:\n",
    "        print(file)"
   ]
  },
  {
   "cell_type": "markdown",
   "metadata": {},
   "source": [
    "# if you have NaN's instead of split uuids, email me for more info!"
   ]
  },
  {
   "cell_type": "markdown",
   "metadata": {},
   "source": [
    "# you're ready to start modeling now!"
   ]
  }
 ],
 "metadata": {
  "kernelspec": {
   "display_name": "atomsci",
   "language": "python",
   "name": "atomsci"
  },
  "language_info": {
   "codemirror_mode": {
    "name": "ipython",
    "version": 3
   },
   "file_extension": ".py",
   "mimetype": "text/x-python",
   "name": "python",
   "nbconvert_exporter": "python",
   "pygments_lexer": "ipython3",
   "version": "3.8.10"
  }
 },
 "nbformat": 4,
 "nbformat_minor": 4
}
