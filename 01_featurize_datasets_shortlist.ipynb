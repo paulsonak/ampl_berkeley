{
 "cells": [
  {
   "cell_type": "markdown",
   "metadata": {},
   "source": [
    "# Featurize shortlist (list of datasets) using slurm\n",
    "- since this isn't yet hard coded into the AMPL software, we need some helper files\n",
    "- that's what you pulled from github in the ampl_berkeley repo"
   ]
  },
  {
   "cell_type": "code",
   "execution_count": 296,
   "metadata": {},
   "outputs": [],
   "source": [
    "import pandas as pd\n",
    "import json\n",
    "import os\n",
    "import numpy as np\n",
    "from atomsci.ddm.pipeline import model_tracker as trkr\n",
    "from atomsci.ddm.utils import struct_utils as su\n",
    "from atomsci.ddm.utils import curate_data as cd\n",
    "%config Completer.use_jedi = False"
   ]
  },
  {
   "cell_type": "markdown",
   "metadata": {},
   "source": [
    "# Upload curated files to cluster file system\n",
    "- From interactive jupyter, create folders like:\n",
    "```\n",
    "<home_dir>/data\n",
    "<home_dir>/data/curated_data\n",
    "```\n",
    "- Upload your files into the curated data folder"
   ]
  },
  {
   "cell_type": "markdown",
   "metadata": {},
   "source": [
    "# Create shortlist csv"
   ]
  },
  {
   "cell_type": "code",
   "execution_count": 297,
   "metadata": {},
   "outputs": [],
   "source": [
    "# edit with your own username\n",
    "my_username='amandapaulson'"
   ]
  },
  {
   "cell_type": "code",
   "execution_count": 298,
   "metadata": {},
   "outputs": [],
   "source": [
    "# specify your home path and the folder where your datasets are\n",
    "home_path=f\"/global/home/users/{my_username}\"\n",
    "data_path=os.path.join(home_path, 'data')\n",
    "curated_data_path=os.path.join(data_path,'curated_datasets')"
   ]
  },
  {
   "cell_type": "code",
   "execution_count": 299,
   "metadata": {},
   "outputs": [
    {
     "data": {
      "text/plain": [
       "['/global/home/users/amandapaulson/data/curated_datasets/combined_substrate_data_cur.csv',\n",
       " '/global/home/users/amandapaulson/data/curated_datasets/combined_ic50_inhibitor_data_cur.csv',\n",
       " '/global/home/users/amandapaulson/data/curated_datasets/combined_class_inhibitor_data_cur.csv',\n",
       " '/global/home/users/amandapaulson/data/curated_datasets/combined_pct_inhibitor_data_cur.csv']"
      ]
     },
     "execution_count": 299,
     "metadata": {},
     "output_type": "execute_result"
    }
   ],
   "source": [
    "# create list of datasets by joining the data path and the file name\n",
    "dataset_keys= [os.path.join(curated_data_path, x) for x in os.listdir(curated_data_path) if 'csv' in x]\n",
    "# double check output\n",
    "dataset_keys"
   ]
  },
  {
   "cell_type": "code",
   "execution_count": 300,
   "metadata": {},
   "outputs": [],
   "source": [
    "# check for duplicates - use this if you get errors in your sbatch submission\n",
    "\n",
    "# for dset in dataset_keys:\n",
    "#     df=pd.read_csv(dset)\n",
    "#     try:\n",
    "#         df=df.drop(columns='index')\n",
    "#     except:\n",
    "#         pass\n",
    "#     df=df.sort_values('compound_id').reset_index(drop=True)\n",
    "#     df.to_csv(dset, index=False)\n",
    "#     display(df[df.compound_id.duplicated(keep=False)])"
   ]
  },
  {
   "cell_type": "code",
   "execution_count": 301,
   "metadata": {},
   "outputs": [
    {
     "name": "stdout",
     "output_type": "stream",
     "text": [
      "/global/home/users/amandapaulson/data/curated_datasets/combined_substrate_data_cur.csv\n"
     ]
    },
    {
     "data": {
      "text/html": [
       "<div>\n",
       "<style scoped>\n",
       "    .dataframe tbody tr th:only-of-type {\n",
       "        vertical-align: middle;\n",
       "    }\n",
       "\n",
       "    .dataframe tbody tr th {\n",
       "        vertical-align: top;\n",
       "    }\n",
       "\n",
       "    .dataframe thead th {\n",
       "        text-align: right;\n",
       "    }\n",
       "</style>\n",
       "<table border=\"1\" class=\"dataframe\">\n",
       "  <thead>\n",
       "    <tr style=\"text-align: right;\">\n",
       "      <th></th>\n",
       "      <th>compound_id</th>\n",
       "      <th>base_rdkit_smiles</th>\n",
       "      <th>substrate</th>\n",
       "    </tr>\n",
       "  </thead>\n",
       "  <tbody>\n",
       "    <tr>\n",
       "      <th>0</th>\n",
       "      <td>(-)-Roehybridine(626578)</td>\n",
       "      <td>COc1cc2[nH]c3c(c2cc1OC)CCN[C@]31CC[C@@]2(C[C@@...</td>\n",
       "      <td>0</td>\n",
       "    </tr>\n",
       "  </tbody>\n",
       "</table>\n",
       "</div>"
      ],
      "text/plain": [
       "                compound_id  \\\n",
       "0  (-)-Roehybridine(626578)   \n",
       "\n",
       "                                   base_rdkit_smiles  substrate  \n",
       "0  COc1cc2[nH]c3c(c2cc1OC)CCN[C@]31CC[C@@]2(C[C@@...          0  "
      ]
     },
     "metadata": {},
     "output_type": "display_data"
    },
    {
     "name": "stdout",
     "output_type": "stream",
     "text": [
      "/global/home/users/amandapaulson/data/curated_datasets/combined_ic50_inhibitor_data_cur.csv\n"
     ]
    },
    {
     "data": {
      "text/html": [
       "<div>\n",
       "<style scoped>\n",
       "    .dataframe tbody tr th:only-of-type {\n",
       "        vertical-align: middle;\n",
       "    }\n",
       "\n",
       "    .dataframe tbody tr th {\n",
       "        vertical-align: top;\n",
       "    }\n",
       "\n",
       "    .dataframe thead th {\n",
       "        text-align: right;\n",
       "    }\n",
       "</style>\n",
       "<table border=\"1\" class=\"dataframe\">\n",
       "  <thead>\n",
       "    <tr style=\"text-align: right;\">\n",
       "      <th></th>\n",
       "      <th>compound_id</th>\n",
       "      <th>base_rdkit_smiles</th>\n",
       "      <th>relation</th>\n",
       "      <th>pIC50</th>\n",
       "      <th>active</th>\n",
       "    </tr>\n",
       "  </thead>\n",
       "  <tbody>\n",
       "    <tr>\n",
       "      <th>0</th>\n",
       "      <td>CHEMBL100</td>\n",
       "      <td>CC1(C)Oc2ccc(C#N)cc2[C@@H](N2CCCC2=O)[C@@H]1O</td>\n",
       "      <td>NaN</td>\n",
       "      <td>3.451856</td>\n",
       "      <td>0</td>\n",
       "    </tr>\n",
       "  </tbody>\n",
       "</table>\n",
       "</div>"
      ],
      "text/plain": [
       "  compound_id                              base_rdkit_smiles relation  \\\n",
       "0   CHEMBL100  CC1(C)Oc2ccc(C#N)cc2[C@@H](N2CCCC2=O)[C@@H]1O      NaN   \n",
       "\n",
       "      pIC50  active  \n",
       "0  3.451856       0  "
      ]
     },
     "metadata": {},
     "output_type": "display_data"
    },
    {
     "name": "stdout",
     "output_type": "stream",
     "text": [
      "/global/home/users/amandapaulson/data/curated_datasets/combined_class_inhibitor_data_cur.csv\n"
     ]
    },
    {
     "data": {
      "text/html": [
       "<div>\n",
       "<style scoped>\n",
       "    .dataframe tbody tr th:only-of-type {\n",
       "        vertical-align: middle;\n",
       "    }\n",
       "\n",
       "    .dataframe tbody tr th {\n",
       "        vertical-align: top;\n",
       "    }\n",
       "\n",
       "    .dataframe thead th {\n",
       "        text-align: right;\n",
       "    }\n",
       "</style>\n",
       "<table border=\"1\" class=\"dataframe\">\n",
       "  <thead>\n",
       "    <tr style=\"text-align: right;\">\n",
       "      <th></th>\n",
       "      <th>compound_id</th>\n",
       "      <th>base_rdkit_smiles</th>\n",
       "      <th>relation</th>\n",
       "      <th>inhibitor</th>\n",
       "    </tr>\n",
       "  </thead>\n",
       "  <tbody>\n",
       "    <tr>\n",
       "      <th>0</th>\n",
       "      <td>1-methyl-4- phenylpyridinium</td>\n",
       "      <td>C[n+]1ccc(-c2ccccc2)cc1</td>\n",
       "      <td>NaN</td>\n",
       "      <td>0.0</td>\n",
       "    </tr>\n",
       "  </tbody>\n",
       "</table>\n",
       "</div>"
      ],
      "text/plain": [
       "                    compound_id        base_rdkit_smiles  relation  inhibitor\n",
       "0  1-methyl-4- phenylpyridinium  C[n+]1ccc(-c2ccccc2)cc1       NaN        0.0"
      ]
     },
     "metadata": {},
     "output_type": "display_data"
    },
    {
     "name": "stdout",
     "output_type": "stream",
     "text": [
      "/global/home/users/amandapaulson/data/curated_datasets/combined_pct_inhibitor_data_cur.csv\n"
     ]
    },
    {
     "data": {
      "text/html": [
       "<div>\n",
       "<style scoped>\n",
       "    .dataframe tbody tr th:only-of-type {\n",
       "        vertical-align: middle;\n",
       "    }\n",
       "\n",
       "    .dataframe tbody tr th {\n",
       "        vertical-align: top;\n",
       "    }\n",
       "\n",
       "    .dataframe thead th {\n",
       "        text-align: right;\n",
       "    }\n",
       "</style>\n",
       "<table border=\"1\" class=\"dataframe\">\n",
       "  <thead>\n",
       "    <tr style=\"text-align: right;\">\n",
       "      <th></th>\n",
       "      <th>compound_id</th>\n",
       "      <th>base_rdkit_smiles</th>\n",
       "      <th>relation</th>\n",
       "      <th>pct_inhib</th>\n",
       "      <th>active</th>\n",
       "    </tr>\n",
       "  </thead>\n",
       "  <tbody>\n",
       "    <tr>\n",
       "      <th>0</th>\n",
       "      <td>1-methyl-4- phenylpyridinium</td>\n",
       "      <td>C[n+]1ccc(-c2ccccc2)cc1</td>\n",
       "      <td>NaN</td>\n",
       "      <td>19.9</td>\n",
       "      <td>0</td>\n",
       "    </tr>\n",
       "  </tbody>\n",
       "</table>\n",
       "</div>"
      ],
      "text/plain": [
       "                    compound_id        base_rdkit_smiles  relation  pct_inhib  \\\n",
       "0  1-methyl-4- phenylpyridinium  C[n+]1ccc(-c2ccccc2)cc1       NaN       19.9   \n",
       "\n",
       "   active  \n",
       "0       0  "
      ]
     },
     "metadata": {},
     "output_type": "display_data"
    }
   ],
   "source": [
    "# check your response columns by looking at each file in turn\n",
    "for dset in dataset_keys:\n",
    "    df=pd.read_csv(dset)\n",
    "    print(dset)\n",
    "    display(df.head(1))"
   ]
  },
  {
   "cell_type": "code",
   "execution_count": 302,
   "metadata": {},
   "outputs": [],
   "source": [
    "# set response_cols to all cols possible with no spaces between\n",
    "response_cols=[\n",
    "    \"substrate\",\n",
    "    \"pIC50,active\",\n",
    "    \"inhibitor\",\n",
    "    \"pct_inhib,active\"\n",
    "]"
   ]
  },
  {
   "cell_type": "code",
   "execution_count": 303,
   "metadata": {},
   "outputs": [],
   "source": [
    "# choose an informative name for the collection \n",
    "# of models you will create for each dataset. \n",
    "# useful for separating them later\n",
    "collections=[\n",
    "    \"BSEP_substrate_class\",\n",
    "    \"BSEP_pIC50_reg\",\n",
    "    \"BSEP_inhibitor_class\",\n",
    "    \"BSEP_pct_inhib_reg\"\n",
    "]"
   ]
  },
  {
   "cell_type": "code",
   "execution_count": 304,
   "metadata": {},
   "outputs": [
    {
     "data": {
      "text/html": [
       "<div>\n",
       "<style scoped>\n",
       "    .dataframe tbody tr th:only-of-type {\n",
       "        vertical-align: middle;\n",
       "    }\n",
       "\n",
       "    .dataframe tbody tr th {\n",
       "        vertical-align: top;\n",
       "    }\n",
       "\n",
       "    .dataframe thead th {\n",
       "        text-align: right;\n",
       "    }\n",
       "</style>\n",
       "<table border=\"1\" class=\"dataframe\">\n",
       "  <thead>\n",
       "    <tr style=\"text-align: right;\">\n",
       "      <th></th>\n",
       "      <th>dataset_key</th>\n",
       "      <th>response_cols</th>\n",
       "      <th>collection</th>\n",
       "    </tr>\n",
       "  </thead>\n",
       "  <tbody>\n",
       "  </tbody>\n",
       "</table>\n",
       "</div>"
      ],
      "text/plain": [
       "Empty DataFrame\n",
       "Columns: [dataset_key, response_cols, collection]\n",
       "Index: []"
      ]
     },
     "execution_count": 304,
     "metadata": {},
     "output_type": "execute_result"
    }
   ],
   "source": [
    "# create empty dataframe and populate it with each list\n",
    "sl=pd.DataFrame([],columns=['dataset_key','response_cols','collection'])\n",
    "sl"
   ]
  },
  {
   "cell_type": "code",
   "execution_count": 305,
   "metadata": {},
   "outputs": [
    {
     "data": {
      "text/html": [
       "<div>\n",
       "<style scoped>\n",
       "    .dataframe tbody tr th:only-of-type {\n",
       "        vertical-align: middle;\n",
       "    }\n",
       "\n",
       "    .dataframe tbody tr th {\n",
       "        vertical-align: top;\n",
       "    }\n",
       "\n",
       "    .dataframe thead th {\n",
       "        text-align: right;\n",
       "    }\n",
       "</style>\n",
       "<table border=\"1\" class=\"dataframe\">\n",
       "  <thead>\n",
       "    <tr style=\"text-align: right;\">\n",
       "      <th></th>\n",
       "      <th>dataset_key</th>\n",
       "      <th>response_cols</th>\n",
       "      <th>collection</th>\n",
       "    </tr>\n",
       "  </thead>\n",
       "  <tbody>\n",
       "    <tr>\n",
       "      <th>0</th>\n",
       "      <td>/global/home/users/amandapaulson/data/curated_...</td>\n",
       "      <td>NaN</td>\n",
       "      <td>NaN</td>\n",
       "    </tr>\n",
       "    <tr>\n",
       "      <th>1</th>\n",
       "      <td>/global/home/users/amandapaulson/data/curated_...</td>\n",
       "      <td>NaN</td>\n",
       "      <td>NaN</td>\n",
       "    </tr>\n",
       "    <tr>\n",
       "      <th>2</th>\n",
       "      <td>/global/home/users/amandapaulson/data/curated_...</td>\n",
       "      <td>NaN</td>\n",
       "      <td>NaN</td>\n",
       "    </tr>\n",
       "    <tr>\n",
       "      <th>3</th>\n",
       "      <td>/global/home/users/amandapaulson/data/curated_...</td>\n",
       "      <td>NaN</td>\n",
       "      <td>NaN</td>\n",
       "    </tr>\n",
       "  </tbody>\n",
       "</table>\n",
       "</div>"
      ],
      "text/plain": [
       "                                         dataset_key response_cols collection\n",
       "0  /global/home/users/amandapaulson/data/curated_...           NaN        NaN\n",
       "1  /global/home/users/amandapaulson/data/curated_...           NaN        NaN\n",
       "2  /global/home/users/amandapaulson/data/curated_...           NaN        NaN\n",
       "3  /global/home/users/amandapaulson/data/curated_...           NaN        NaN"
      ]
     },
     "execution_count": 305,
     "metadata": {},
     "output_type": "execute_result"
    }
   ],
   "source": [
    "sl.dataset_key=dataset_keys\n",
    "sl"
   ]
  },
  {
   "cell_type": "code",
   "execution_count": 306,
   "metadata": {},
   "outputs": [
    {
     "data": {
      "text/html": [
       "<div>\n",
       "<style scoped>\n",
       "    .dataframe tbody tr th:only-of-type {\n",
       "        vertical-align: middle;\n",
       "    }\n",
       "\n",
       "    .dataframe tbody tr th {\n",
       "        vertical-align: top;\n",
       "    }\n",
       "\n",
       "    .dataframe thead th {\n",
       "        text-align: right;\n",
       "    }\n",
       "</style>\n",
       "<table border=\"1\" class=\"dataframe\">\n",
       "  <thead>\n",
       "    <tr style=\"text-align: right;\">\n",
       "      <th></th>\n",
       "      <th>dataset_key</th>\n",
       "      <th>response_cols</th>\n",
       "      <th>collection</th>\n",
       "    </tr>\n",
       "  </thead>\n",
       "  <tbody>\n",
       "    <tr>\n",
       "      <th>0</th>\n",
       "      <td>/global/home/users/amandapaulson/data/curated_...</td>\n",
       "      <td>substrate</td>\n",
       "      <td>NaN</td>\n",
       "    </tr>\n",
       "    <tr>\n",
       "      <th>1</th>\n",
       "      <td>/global/home/users/amandapaulson/data/curated_...</td>\n",
       "      <td>pIC50,active</td>\n",
       "      <td>NaN</td>\n",
       "    </tr>\n",
       "    <tr>\n",
       "      <th>2</th>\n",
       "      <td>/global/home/users/amandapaulson/data/curated_...</td>\n",
       "      <td>inhibitor</td>\n",
       "      <td>NaN</td>\n",
       "    </tr>\n",
       "    <tr>\n",
       "      <th>3</th>\n",
       "      <td>/global/home/users/amandapaulson/data/curated_...</td>\n",
       "      <td>pct_inhib,active</td>\n",
       "      <td>NaN</td>\n",
       "    </tr>\n",
       "  </tbody>\n",
       "</table>\n",
       "</div>"
      ],
      "text/plain": [
       "                                         dataset_key     response_cols  \\\n",
       "0  /global/home/users/amandapaulson/data/curated_...         substrate   \n",
       "1  /global/home/users/amandapaulson/data/curated_...      pIC50,active   \n",
       "2  /global/home/users/amandapaulson/data/curated_...         inhibitor   \n",
       "3  /global/home/users/amandapaulson/data/curated_...  pct_inhib,active   \n",
       "\n",
       "  collection  \n",
       "0        NaN  \n",
       "1        NaN  \n",
       "2        NaN  \n",
       "3        NaN  "
      ]
     },
     "execution_count": 306,
     "metadata": {},
     "output_type": "execute_result"
    }
   ],
   "source": [
    "sl.response_cols=response_cols\n",
    "sl"
   ]
  },
  {
   "cell_type": "code",
   "execution_count": 307,
   "metadata": {},
   "outputs": [
    {
     "data": {
      "text/html": [
       "<div>\n",
       "<style scoped>\n",
       "    .dataframe tbody tr th:only-of-type {\n",
       "        vertical-align: middle;\n",
       "    }\n",
       "\n",
       "    .dataframe tbody tr th {\n",
       "        vertical-align: top;\n",
       "    }\n",
       "\n",
       "    .dataframe thead th {\n",
       "        text-align: right;\n",
       "    }\n",
       "</style>\n",
       "<table border=\"1\" class=\"dataframe\">\n",
       "  <thead>\n",
       "    <tr style=\"text-align: right;\">\n",
       "      <th></th>\n",
       "      <th>dataset_key</th>\n",
       "      <th>response_cols</th>\n",
       "      <th>collection</th>\n",
       "    </tr>\n",
       "  </thead>\n",
       "  <tbody>\n",
       "    <tr>\n",
       "      <th>0</th>\n",
       "      <td>/global/home/users/amandapaulson/data/curated_...</td>\n",
       "      <td>substrate</td>\n",
       "      <td>BSEP_substrate_class</td>\n",
       "    </tr>\n",
       "    <tr>\n",
       "      <th>1</th>\n",
       "      <td>/global/home/users/amandapaulson/data/curated_...</td>\n",
       "      <td>pIC50,active</td>\n",
       "      <td>BSEP_pIC50_reg</td>\n",
       "    </tr>\n",
       "    <tr>\n",
       "      <th>2</th>\n",
       "      <td>/global/home/users/amandapaulson/data/curated_...</td>\n",
       "      <td>inhibitor</td>\n",
       "      <td>BSEP_inhibitor_class</td>\n",
       "    </tr>\n",
       "    <tr>\n",
       "      <th>3</th>\n",
       "      <td>/global/home/users/amandapaulson/data/curated_...</td>\n",
       "      <td>pct_inhib,active</td>\n",
       "      <td>BSEP_pct_inhib_reg</td>\n",
       "    </tr>\n",
       "  </tbody>\n",
       "</table>\n",
       "</div>"
      ],
      "text/plain": [
       "                                         dataset_key     response_cols  \\\n",
       "0  /global/home/users/amandapaulson/data/curated_...         substrate   \n",
       "1  /global/home/users/amandapaulson/data/curated_...      pIC50,active   \n",
       "2  /global/home/users/amandapaulson/data/curated_...         inhibitor   \n",
       "3  /global/home/users/amandapaulson/data/curated_...  pct_inhib,active   \n",
       "\n",
       "             collection  \n",
       "0  BSEP_substrate_class  \n",
       "1        BSEP_pIC50_reg  \n",
       "2  BSEP_inhibitor_class  \n",
       "3    BSEP_pct_inhib_reg  "
      ]
     },
     "execution_count": 307,
     "metadata": {},
     "output_type": "execute_result"
    }
   ],
   "source": [
    "sl.collection=collections\n",
    "sl"
   ]
  },
  {
   "cell_type": "code",
   "execution_count": 308,
   "metadata": {},
   "outputs": [
    {
     "data": {
      "text/plain": [
       "'/global/home/users/amandapaulson/data/bsep_feat_shortlist.csv'"
      ]
     },
     "execution_count": 308,
     "metadata": {},
     "output_type": "execute_result"
    }
   ],
   "source": [
    "sl_path=os.path.join(data_path, 'bsep_feat_shortlist.csv')\n",
    "sl_path"
   ]
  },
  {
   "cell_type": "code",
   "execution_count": 309,
   "metadata": {},
   "outputs": [
    {
     "data": {
      "text/html": [
       "<div>\n",
       "<style scoped>\n",
       "    .dataframe tbody tr th:only-of-type {\n",
       "        vertical-align: middle;\n",
       "    }\n",
       "\n",
       "    .dataframe tbody tr th {\n",
       "        vertical-align: top;\n",
       "    }\n",
       "\n",
       "    .dataframe thead th {\n",
       "        text-align: right;\n",
       "    }\n",
       "</style>\n",
       "<table border=\"1\" class=\"dataframe\">\n",
       "  <thead>\n",
       "    <tr style=\"text-align: right;\">\n",
       "      <th></th>\n",
       "      <th>dataset_key</th>\n",
       "      <th>response_cols</th>\n",
       "      <th>collection</th>\n",
       "    </tr>\n",
       "  </thead>\n",
       "  <tbody>\n",
       "    <tr>\n",
       "      <th>0</th>\n",
       "      <td>/global/home/users/amandapaulson/data/curated_...</td>\n",
       "      <td>substrate</td>\n",
       "      <td>BSEP_substrate_class</td>\n",
       "    </tr>\n",
       "    <tr>\n",
       "      <th>1</th>\n",
       "      <td>/global/home/users/amandapaulson/data/curated_...</td>\n",
       "      <td>pIC50,active</td>\n",
       "      <td>BSEP_pIC50_reg</td>\n",
       "    </tr>\n",
       "    <tr>\n",
       "      <th>2</th>\n",
       "      <td>/global/home/users/amandapaulson/data/curated_...</td>\n",
       "      <td>inhibitor</td>\n",
       "      <td>BSEP_inhibitor_class</td>\n",
       "    </tr>\n",
       "    <tr>\n",
       "      <th>3</th>\n",
       "      <td>/global/home/users/amandapaulson/data/curated_...</td>\n",
       "      <td>pct_inhib,active</td>\n",
       "      <td>BSEP_pct_inhib_reg</td>\n",
       "    </tr>\n",
       "  </tbody>\n",
       "</table>\n",
       "</div>"
      ],
      "text/plain": [
       "                                         dataset_key     response_cols  \\\n",
       "0  /global/home/users/amandapaulson/data/curated_...         substrate   \n",
       "1  /global/home/users/amandapaulson/data/curated_...      pIC50,active   \n",
       "2  /global/home/users/amandapaulson/data/curated_...         inhibitor   \n",
       "3  /global/home/users/amandapaulson/data/curated_...  pct_inhib,active   \n",
       "\n",
       "             collection  \n",
       "0  BSEP_substrate_class  \n",
       "1        BSEP_pIC50_reg  \n",
       "2  BSEP_inhibitor_class  \n",
       "3    BSEP_pct_inhib_reg  "
      ]
     },
     "execution_count": 309,
     "metadata": {},
     "output_type": "execute_result"
    }
   ],
   "source": [
    "sl.to_csv(sl_path, index=False)\n",
    "sl"
   ]
  },
  {
   "cell_type": "markdown",
   "metadata": {},
   "source": [
    "# set up to run script"
   ]
  },
  {
   "cell_type": "code",
   "execution_count": 310,
   "metadata": {},
   "outputs": [],
   "source": [
    "# you shouldn't have to change anything here\n",
    "script_dir=f\"/global/home/users/{my_username}/repos/ampl_berkeley\"\n",
    "python_path=f\"/global/home/users/{my_username}/.conda/envs/atomsci/bin/python\"\n",
    "result_dir=f\"/global/home/users/{my_username}/data/featurize_datasets_shortlist\""
   ]
  },
  {
   "cell_type": "code",
   "execution_count": 311,
   "metadata": {},
   "outputs": [],
   "source": [
    "# make the directory if it doesn't exist\n",
    "os.makedirs(result_dir, exist_ok=True)"
   ]
  },
  {
   "cell_type": "code",
   "execution_count": 312,
   "metadata": {},
   "outputs": [
    {
     "name": "stdout",
     "output_type": "stream",
     "text": [
      "sbatch /global/home/users/amandapaulson/repos/ampl_berkeley/featurize_shortlist.sh /global/home/users/amandapaulson/.conda/envs/atomsci/bin/python /global/home/users/amandapaulson/repos/ampl_berkeley /global/home/users/amandapaulson/data/featurize_datasets_shortlist /global/home/users/amandapaulson/data/bsep_feat_shortlist.csv\n"
     ]
    }
   ],
   "source": [
    "# this means \"cluster, <run this script> <using this version of python> <with> <these> <options>\"\n",
    "print(f\"sbatch {script_dir}/featurize_shortlist.sh {python_path} {script_dir} {result_dir} {sl_path}\")"
   ]
  },
  {
   "cell_type": "markdown",
   "metadata": {},
   "source": [
    "## copy and paste the output ^ into a terminal window\n",
    "\n",
    "- Depending on how many compounds you have in your datasets, these commands could take a while ~hours\n",
    "- I have set the time limit on the .sh file to two hours\n",
    "- If you don't get all the files featurized before the two hour limit, simply run the command again\n",
    "- The previously featurized files will be skipped\n",
    "\n",
    "## Useful commands to check progress in terminal:\n",
    "\n",
    "- list jobs and how long they've been running\n",
    "\n",
    "`squeue -u <your_username>`\n",
    "\n",
    "- look at the end of the out file to see if there are errors\n",
    "\n",
    "`tail ~/feat_shortlist.out`\n",
    "\n",
    "- monitor how much progress has been made, if no errors. (before featurizing a file, it will look to see if the featurized file already exists. if it doesn't it will print out an error that there is no featurized file. the ones printed out with this command are the ones that are being featurized)\n",
    "\n",
    "`cat ~/feat_shortlist.out | grep \"scaled_descriptors\"`\n",
    "\n",
    "## if you need to logout and come back later:\n",
    "- submitting a job to the cluster means it will run without you monitoring it\n",
    "- you can safely logout after saving your notebooks, etc, and log back in later to check progress"
   ]
  },
  {
   "cell_type": "markdown",
   "metadata": {},
   "source": [
    "# monitor progress (optional)"
   ]
  },
  {
   "cell_type": "code",
   "execution_count": 313,
   "metadata": {},
   "outputs": [
    {
     "name": "stdout",
     "output_type": "stream",
     "text": [
      "             JOBID PARTITION     NAME     USER ST       TIME  NODES NODELIST(REASON)\r\n"
     ]
    }
   ],
   "source": [
    "# you can type these commands with ! in front which will act like a terminal prompt\n",
    "# if no output, you don't have a job running\n",
    "! squeue -u amandapaulson"
   ]
  },
  {
   "cell_type": "code",
   "execution_count": 314,
   "metadata": {},
   "outputs": [
    {
     "name": "stdout",
     "output_type": "stream",
     "text": [
      "[Errno 2] No such file or directory: '/global/home/users/amandapaulson/data/curated_datasets/scaled_descriptors/combined_pct_inhibitor_data_cur_with_mordred_filtered_descriptors.csv'\r\n"
     ]
    }
   ],
   "source": [
    "! cat ~/feat_shortlist.out | grep \"scaled_descriptors\""
   ]
  },
  {
   "cell_type": "code",
   "execution_count": 315,
   "metadata": {},
   "outputs": [
    {
     "name": "stdout",
     "output_type": "stream",
     "text": [
      "/global/home/users/amandapaulson/data/featurize_datasets_shortlist\r\n"
     ]
    }
   ],
   "source": [
    "# tail -1 means the last line; -2 last two lines\n",
    "! tail -1 ~/feat_shortlist.out"
   ]
  },
  {
   "cell_type": "markdown",
   "metadata": {},
   "source": [
    "# Inspect file system when complete\n",
    "- in your curated data path, you will have your original data files\n",
    "- in a subfolder called `scaled_descriptors` you will have your featurized data files\n",
    "- for each curated dataset, you should have an rdkit_raw and mordred_filtered descriptor file\n",
    "- at the end of the script, the train_valid_test .csv's will be deleted"
   ]
  },
  {
   "cell_type": "code",
   "execution_count": 316,
   "metadata": {},
   "outputs": [
    {
     "data": {
      "text/plain": [
       "'/global/home/users/amandapaulson/data/curated_datasets'"
      ]
     },
     "execution_count": 316,
     "metadata": {},
     "output_type": "execute_result"
    }
   ],
   "source": [
    "curated_data_path"
   ]
  },
  {
   "cell_type": "code",
   "execution_count": 285,
   "metadata": {},
   "outputs": [
    {
     "name": "stdout",
     "output_type": "stream",
     "text": [
      "\n",
      "/global/home/users/amandapaulson/data/curated_datasets\n",
      "\n",
      "combined_class_inhibitor_data_cur.csv\n",
      "combined_class_inhibitor_data_cur_train_valid_test_random_1df527fb-ab53-4283-8ac2-187c18c3b718.csv\n",
      "combined_class_inhibitor_data_cur_train_valid_test_random_48446fdf-f34f-4ef5-9494-6dcda2300204.csv\n",
      "combined_class_inhibitor_data_cur_train_valid_test_random_90cb93b6-12e2-4057-9969-bf68ad7446d8.csv\n",
      "combined_class_inhibitor_data_cur_train_valid_test_random_911a709e-e6df-4f9b-8c0c-ceb98786cfe0.csv\n",
      "combined_ic50_inhibitor_data_cur.csv\n",
      "combined_ic50_inhibitor_data_cur_train_valid_test_random_7a1a54dc-a31b-44b0-88e6-01555194630b.csv\n",
      "combined_ic50_inhibitor_data_cur_train_valid_test_random_8b0b93d9-33d4-404a-bfda-c9cd76890e30.csv\n",
      "combined_ic50_inhibitor_data_cur_train_valid_test_random_dead5902-c4f1-4149-aa11-ece2207a0050.csv\n",
      "combined_ic50_inhibitor_data_cur_train_valid_test_random_fab0a674-4cb5-4ef9-aa2a-edd614d823ba.csv\n",
      "combined_pct_inhibitor_data_cur.csv\n",
      "combined_pct_inhibitor_data_cur_train_valid_test_random_b44bf4af-d5ff-494a-a83d-1b09860940aa.csv\n",
      "combined_pct_inhibitor_data_cur_train_valid_test_random_b56a8968-1692-46bb-b53c-c9248f989a5f.csv\n",
      "combined_pct_inhibitor_data_cur_train_valid_test_random_e8bc1511-f2f9-4593-8582-6acc7d333429.csv\n",
      "combined_substrate_data_cur.csv\n",
      "combined_substrate_data_cur_train_valid_test_random_6ff477b9-8e52-472f-bfa9-3553333a2a46.csv\n",
      "combined_substrate_data_cur_train_valid_test_random_9bbb8b48-28d3-49a2-9da7-0984ba42264a.csv\n",
      "combined_substrate_data_cur_train_valid_test_random_b9d1568c-f164-4cfc-b958-ae84b3fb2c7e.csv\n",
      "combined_substrate_data_cur_train_valid_test_random_f66ecccb-c258-4a31-b9d7-8282592484b7.csv\n",
      "\n",
      "/global/home/users/amandapaulson/data/curated_datasets/scaled_descriptors\n",
      "\n",
      "combined_class_inhibitor_data_cur_with_mordred_filtered_descriptors.csv\n",
      "combined_class_inhibitor_data_cur_with_rdkit_raw_descriptors.csv\n",
      "combined_ic50_inhibitor_data_cur_with_mordred_filtered_descriptors.csv\n",
      "combined_ic50_inhibitor_data_cur_with_rdkit_raw_descriptors.csv\n",
      "combined_pct_inhibitor_data_cur_with_mordred_filtered_descriptors.csv\n",
      "combined_pct_inhibitor_data_cur_with_rdkit_raw_descriptors.csv\n",
      "combined_substrate_data_cur_with_mordred_filtered_descriptors.csv\n",
      "combined_substrate_data_cur_with_rdkit_raw_descriptors.csv\n"
     ]
    }
   ],
   "source": [
    "for root, dirs, files in os.walk(curated_data_path):\n",
    "    print('\\n'+root+'\\n')\n",
    "    files.sort()\n",
    "    for file in files:\n",
    "        print(file)"
   ]
  },
  {
   "cell_type": "markdown",
   "metadata": {},
   "source": [
    "## delete split files since you will explicitly create them in the next notebook"
   ]
  },
  {
   "cell_type": "code",
   "execution_count": 317,
   "metadata": {},
   "outputs": [],
   "source": [
    "for root, dirs, files in os.walk(curated_data_path, topdown=False):\n",
    "    for file in files:\n",
    "        if 'train_valid_test' in file:\n",
    "            os.remove(os.path.join(root,file))"
   ]
  },
  {
   "cell_type": "markdown",
   "metadata": {},
   "source": [
    "## inspect again"
   ]
  },
  {
   "cell_type": "code",
   "execution_count": 318,
   "metadata": {},
   "outputs": [
    {
     "name": "stdout",
     "output_type": "stream",
     "text": [
      "\n",
      "/global/home/users/amandapaulson/data/curated_datasets\n",
      "\n",
      "combined_class_inhibitor_data_cur.csv\n",
      "combined_ic50_inhibitor_data_cur.csv\n",
      "combined_pct_inhibitor_data_cur.csv\n",
      "combined_substrate_data_cur.csv\n",
      "\n",
      "/global/home/users/amandapaulson/data/curated_datasets/scaled_descriptors\n",
      "\n",
      "combined_class_inhibitor_data_cur_with_mordred_filtered_descriptors.csv\n",
      "combined_class_inhibitor_data_cur_with_rdkit_raw_descriptors.csv\n",
      "combined_ic50_inhibitor_data_cur_with_mordred_filtered_descriptors.csv\n",
      "combined_ic50_inhibitor_data_cur_with_rdkit_raw_descriptors.csv\n",
      "combined_pct_inhibitor_data_cur_with_mordred_filtered_descriptors.csv\n",
      "combined_pct_inhibitor_data_cur_with_rdkit_raw_descriptors.csv\n",
      "combined_substrate_data_cur_with_mordred_filtered_descriptors.csv\n",
      "combined_substrate_data_cur_with_rdkit_raw_descriptors.csv\n"
     ]
    }
   ],
   "source": [
    "for root, dirs, files in os.walk(curated_data_path):\n",
    "    print('\\n'+root+'\\n')\n",
    "    files.sort()\n",
    "    for file in files:\n",
    "        print(file)"
   ]
  },
  {
   "cell_type": "markdown",
   "metadata": {},
   "source": [
    "# You're done! move on to split_shortlist notebook"
   ]
  }
 ],
 "metadata": {
  "kernelspec": {
   "display_name": "atomsci",
   "language": "python",
   "name": "atomsci"
  },
  "language_info": {
   "codemirror_mode": {
    "name": "ipython",
    "version": 3
   },
   "file_extension": ".py",
   "mimetype": "text/x-python",
   "name": "python",
   "nbconvert_exporter": "python",
   "pygments_lexer": "ipython3",
   "version": "3.8.10"
  }
 },
 "nbformat": 4,
 "nbformat_minor": 4
}
