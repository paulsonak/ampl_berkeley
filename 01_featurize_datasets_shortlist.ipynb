{
 "cells": [
  {
   "cell_type": "markdown",
   "metadata": {},
   "source": [
    "# Featurize shortlist (list of datasets) using slurm\n",
    "- since this isn't yet hard coded into the AMPL software, we need some helper files\n",
    "- that's what you pulled from github in the ampl_berkeley repo"
   ]
  },
  {
   "cell_type": "code",
   "execution_count": 6,
   "metadata": {},
   "outputs": [
    {
     "name": "stderr",
     "output_type": "stream",
     "text": [
      "/global/home/users/amandapaulson/.conda/envs/atomsci/lib/python3.8/site-packages/tqdm/auto.py:21: TqdmWarning: IProgress not found. Please update jupyter and ipywidgets. See https://ipywidgets.readthedocs.io/en/stable/user_install.html\n",
      "  from .autonotebook import tqdm as notebook_tqdm\n",
      "Skipped loading modules with pytorch-geometric dependency, missing a dependency. No module named 'torch_geometric'\n",
      "Skipped loading modules with pytorch-geometric dependency, missing a dependency. cannot import name 'DMPNN' from 'deepchem.models.torch_models' (/global/home/users/amandapaulson/.conda/envs/atomsci/lib/python3.8/site-packages/deepchem/models/torch_models/__init__.py)\n",
      "Skipped loading modules with pytorch-lightning dependency, missing a dependency. No module named 'pytorch_lightning'\n",
      "Skipped loading some Jax models, missing a dependency. jax requires jaxlib to be installed. See https://github.com/google/jax#installation for installation instructions.\n"
     ]
    }
   ],
   "source": [
    "import pandas as pd\n",
    "import json\n",
    "import os\n",
    "import numpy as np\n",
    "from atomsci.ddm.pipeline import model_tracker as trkr\n",
    "from atomsci.ddm.utils import struct_utils as su\n",
    "from atomsci.ddm.utils import curate_data as cd\n",
    "%config Completer.use_jedi = False"
   ]
  },
  {
   "cell_type": "markdown",
   "metadata": {},
   "source": [
    "# Upload curated files to cluster file system\n",
    "- From interactive jupyter, create folders like:\n",
    "```\n",
    "<home_dir>/data\n",
    "<home_dir>/data/curated_data\n",
    "```\n",
    "- Upload your files into the curated data folder"
   ]
  },
  {
   "cell_type": "markdown",
   "metadata": {},
   "source": [
    "# Create shortlist csv"
   ]
  },
  {
   "cell_type": "code",
   "execution_count": 7,
   "metadata": {},
   "outputs": [],
   "source": [
    "# edit with your own username\n",
    "my_username='amandapaulson'"
   ]
  },
  {
   "cell_type": "code",
   "execution_count": 8,
   "metadata": {},
   "outputs": [],
   "source": [
    "# specify your home path and the folder where your datasets are\n",
    "home_path=f\"/global/home/users/{my_username}\"\n",
    "data_path=os.path.join(home_path, 'data')\n",
    "curated_data_path=os.path.join(data_path,'curated_datasets')"
   ]
  },
  {
   "cell_type": "code",
   "execution_count": 9,
   "metadata": {},
   "outputs": [
    {
     "data": {
      "text/plain": [
       "['/global/home/users/amandapaulson/data/curated_datasets/combined_pct_inhibitor_data_cur_train_valid_test_random_8e47bf5f-8fdb-47e2-aefd-eb373de5a961.csv',\n",
       " '/global/home/users/amandapaulson/data/curated_datasets/combined_class_inhibitor_data_cur_train_valid_test_random_7624990e-0093-4653-967a-e88fa147eb13.csv',\n",
       " '/global/home/users/amandapaulson/data/curated_datasets/combined_pct_inhibitor_data_cur_train_valid_test_random_da2a26e5-185f-41f4-9cf9-2c952c91efd0.csv',\n",
       " '/global/home/users/amandapaulson/data/curated_datasets/combined_class_inhibitor_data_cur_train_valid_test_fingerprint_14b7bf3a-6272-43e0-8e9d-c6e385a14e41.csv',\n",
       " '/global/home/users/amandapaulson/data/curated_datasets/combined_class_inhibitor_data_cur_train_valid_test_random_90da2246-be18-407b-83a7-2737e3beb9cf.csv',\n",
       " '/global/home/users/amandapaulson/data/curated_datasets/combined_ic50_inhibitor_data_cur_train_valid_test_scaffold_26021005-0cd6-4ee6-872f-e2a036fe0981.csv',\n",
       " '/global/home/users/amandapaulson/data/curated_datasets/combined_ic50_inhibitor_data_cur_train_valid_test_fingerprint_374c75f0-04ff-4ace-97a6-37ba3ff0774e.csv',\n",
       " '/global/home/users/amandapaulson/data/curated_datasets/combined_pct_inhibitor_data_cur_train_valid_test_scaffold_d5e21e98-0b7b-4a6e-a454-d64eafffd600.csv',\n",
       " '/global/home/users/amandapaulson/data/curated_datasets/combined_pct_inhibitor_data_cur_train_valid_test_scaffold_7c754b0c-49e9-4905-ab3b-b5e2183b875b.csv',\n",
       " '/global/home/users/amandapaulson/data/curated_datasets/combined_substrate_data_cur_train_valid_test_random_9b4c1491-27d8-460b-8531-fdf88ebab3a9.csv',\n",
       " '/global/home/users/amandapaulson/data/curated_datasets/combined_pct_inhibitor_data_cur_train_valid_test_scaffold_b1c877af-0a06-4f2c-9215-ef576cdbb410.csv',\n",
       " '/global/home/users/amandapaulson/data/curated_datasets/combined_substrate_data_cur_train_valid_test_random_5925ea42-3ac0-4d06-b01d-ba857f7fd4e3.csv',\n",
       " '/global/home/users/amandapaulson/data/curated_datasets/combined_class_inhibitor_data_cur_train_valid_test_scaffold_b2c48656-7143-4c51-aeb7-9b41f540ea77.csv',\n",
       " '/global/home/users/amandapaulson/data/curated_datasets/combined_pct_inhibitor_data_cur_train_valid_test_fingerprint_6f84fe3f-287e-463b-b204-26d6dcbfeb3c.csv',\n",
       " '/global/home/users/amandapaulson/data/curated_datasets/combined_pct_inhibitor_data_cur_train_valid_test_fingerprint_0cb8ae0b-335f-4dc6-abc6-bc5d134e77a2.csv',\n",
       " '/global/home/users/amandapaulson/data/curated_datasets/combined_ic50_inhibitor_data_cur_train_valid_test_fingerprint_315c00fe-4fb4-4095-adc3-7f86ce3345e6.csv',\n",
       " '/global/home/users/amandapaulson/data/curated_datasets/combined_ic50_inhibitor_data_cur_train_valid_test_fingerprint_0fde29ef-f8e1-4c81-9135-4166fcb77129.csv',\n",
       " '/global/home/users/amandapaulson/data/curated_datasets/combined_substrate_data_cur_train_valid_test_fingerprint_f87dc56c-6615-49d8-b41a-d2a82fe2d5c9.csv',\n",
       " '/global/home/users/amandapaulson/data/curated_datasets/combined_class_inhibitor_data_cur_train_valid_test_scaffold_6a6ccbfa-e69d-43fb-bf4c-5ae74099d48e.csv',\n",
       " '/global/home/users/amandapaulson/data/curated_datasets/combined_class_inhibitor_data_cur_train_valid_test_scaffold_9c147930-65e8-4e1c-ba26-09a44fd77d31.csv',\n",
       " '/global/home/users/amandapaulson/data/curated_datasets/combined_pct_inhibitor_data_cur_train_valid_test_random_3fc09959-10fb-4888-8373-a370d75f59bd.csv',\n",
       " '/global/home/users/amandapaulson/data/curated_datasets/combined_ic50_inhibitor_data_cur_train_valid_test_random_a3957fff-9857-49f2-b596-2e50bef64f61.csv',\n",
       " '/global/home/users/amandapaulson/data/curated_datasets/combined_ic50_inhibitor_data_cur_train_valid_test_scaffold_55574502-4524-4b39-acb8-5d41eab8a25c.csv',\n",
       " '/global/home/users/amandapaulson/data/curated_datasets/combined_substrate_data_cur.csv',\n",
       " '/global/home/users/amandapaulson/data/curated_datasets/combined_ic50_inhibitor_data_cur_train_valid_test_random_d371b7c7-8705-4057-beec-3a42a6f6196f.csv',\n",
       " '/global/home/users/amandapaulson/data/curated_datasets/combined_pct_inhibitor_data_cur_train_valid_test_scaffold_62b2c43a-213d-4f40-959c-dc24767f2bc2.csv',\n",
       " '/global/home/users/amandapaulson/data/curated_datasets/combined_class_inhibitor_data_cur_train_valid_test_random_61b485b9-ceff-4742-b3d7-b02d72ba0f74.csv',\n",
       " '/global/home/users/amandapaulson/data/curated_datasets/combined_class_inhibitor_data_cur_train_valid_test_fingerprint_262113db-910f-42d2-abc8-28d5a5beb318.csv',\n",
       " '/global/home/users/amandapaulson/data/curated_datasets/combined_ic50_inhibitor_data_cur_train_valid_test_random_97c576a7-9d95-45a7-94bb-2eb82ccc64d2.csv',\n",
       " '/global/home/users/amandapaulson/data/curated_datasets/combined_class_inhibitor_data_cur_train_valid_test_fingerprint_57fade82-dd21-45f8-a5b8-9ed3d5d2112a.csv',\n",
       " '/global/home/users/amandapaulson/data/curated_datasets/combined_ic50_inhibitor_data_cur.csv',\n",
       " '/global/home/users/amandapaulson/data/curated_datasets/combined_class_inhibitor_data_cur_train_valid_test_random_b9da9cf9-e2de-443d-91a9-d122e439bf15.csv',\n",
       " '/global/home/users/amandapaulson/data/curated_datasets/combined_pct_inhibitor_data_cur_train_valid_test_random_596df618-5760-43ac-9b40-332dee64f2be.csv',\n",
       " '/global/home/users/amandapaulson/data/curated_datasets/combined_substrate_data_cur_train_valid_test_fingerprint_c2d89b38-97ba-43ab-a7b5-6115b214bf33.csv',\n",
       " '/global/home/users/amandapaulson/data/curated_datasets/combined_substrate_data_cur_train_valid_test_random_dd241db5-8735-4249-98ee-febbe5b3590f.csv',\n",
       " '/global/home/users/amandapaulson/data/curated_datasets/combined_ic50_inhibitor_data_cur_train_valid_test_scaffold_9a8c9002-888d-49a4-9eb6-6c517c165eb2.csv',\n",
       " '/global/home/users/amandapaulson/data/curated_datasets/combined_class_inhibitor_data_cur.csv',\n",
       " '/global/home/users/amandapaulson/data/curated_datasets/combined_pct_inhibitor_data_cur.csv',\n",
       " '/global/home/users/amandapaulson/data/curated_datasets/combined_ic50_inhibitor_data_cur_train_valid_test_random_1675990e-e55b-48e8-9227-c2db8dd3497e.csv',\n",
       " '/global/home/users/amandapaulson/data/curated_datasets/combined_substrate_data_cur_train_valid_test_random_ea5505cf-05ab-4b99-95a0-c9c39eb895b5.csv',\n",
       " '/global/home/users/amandapaulson/data/curated_datasets/combined_substrate_data_cur_train_valid_test_fingerprint_1176149d-2c84-49de-8c9b-6f7a0f469d08.csv',\n",
       " '/global/home/users/amandapaulson/data/curated_datasets/combined_class_inhibitor_data_cur_train_valid_test_scaffold_31934b3e-0f25-4bda-b639-55472648a36c.csv',\n",
       " '/global/home/users/amandapaulson/data/curated_datasets/combined_class_inhibitor_data_cur_train_valid_test_fingerprint_b75234da-dd2c-458b-8e1f-98b688046403.csv',\n",
       " '/global/home/users/amandapaulson/data/curated_datasets/combined_substrate_data_cur_train_valid_test_fingerprint_55a1d301-d2c0-45d1-a9c4-8a136a66268f.csv',\n",
       " '/global/home/users/amandapaulson/data/curated_datasets/combined_ic50_inhibitor_data_cur_train_valid_test_scaffold_754a5b73-fcca-4b0a-a823-80f2717ba6fd.csv',\n",
       " '/global/home/users/amandapaulson/data/curated_datasets/combined_ic50_inhibitor_data_cur_train_valid_test_fingerprint_8efc2521-830e-47fa-8c60-ed528b76f9a1.csv',\n",
       " '/global/home/users/amandapaulson/data/curated_datasets/combined_pct_inhibitor_data_cur_train_valid_test_fingerprint_301908ba-2a8b-4fe4-9f2e-2a8a72c2d252.csv',\n",
       " '/global/home/users/amandapaulson/data/curated_datasets/combined_pct_inhibitor_data_cur_train_valid_test_fingerprint_89f8ab28-ae70-4892-9977-b93cbd42dc8f.csv']"
      ]
     },
     "execution_count": 9,
     "metadata": {},
     "output_type": "execute_result"
    }
   ],
   "source": [
    "# create list of datasets by joining the data path and the file name\n",
    "dataset_keys= [os.path.join(curated_data_path, x) for x in os.listdir(curated_data_path) if 'csv' in x]\n",
    "# double check output\n",
    "dataset_keys"
   ]
  },
  {
   "cell_type": "code",
   "execution_count": 10,
   "metadata": {},
   "outputs": [],
   "source": [
    "# check for duplicates - use this if you get errors in your sbatch submission\n",
    "\n",
    "# for dset in dataset_keys:\n",
    "#     df=pd.read_csv(dset)\n",
    "#     try:\n",
    "#         df=df.drop(columns='index')\n",
    "#     except:\n",
    "#         pass\n",
    "#     df=df.sort_values('compound_id').reset_index(drop=True)\n",
    "#     df.to_csv(dset, index=False)\n",
    "#     display(df[df.compound_id.duplicated(keep=False)])"
   ]
  },
  {
   "cell_type": "code",
   "execution_count": 11,
   "metadata": {},
   "outputs": [
    {
     "name": "stdout",
     "output_type": "stream",
     "text": [
      "/global/home/users/amandapaulson/data/curated_datasets/combined_pct_inhibitor_data_cur_train_valid_test_random_8e47bf5f-8fdb-47e2-aefd-eb373de5a961.csv\n"
     ]
    },
    {
     "data": {
      "text/html": [
       "<div>\n",
       "<style scoped>\n",
       "    .dataframe tbody tr th:only-of-type {\n",
       "        vertical-align: middle;\n",
       "    }\n",
       "\n",
       "    .dataframe tbody tr th {\n",
       "        vertical-align: top;\n",
       "    }\n",
       "\n",
       "    .dataframe thead th {\n",
       "        text-align: right;\n",
       "    }\n",
       "</style>\n",
       "<table border=\"1\" class=\"dataframe\">\n",
       "  <thead>\n",
       "    <tr style=\"text-align: right;\">\n",
       "      <th></th>\n",
       "      <th>cmpd_id</th>\n",
       "      <th>subset</th>\n",
       "      <th>fold</th>\n",
       "    </tr>\n",
       "  </thead>\n",
       "  <tbody>\n",
       "    <tr>\n",
       "      <th>0</th>\n",
       "      <td>mk571</td>\n",
       "      <td>train</td>\n",
       "      <td>0</td>\n",
       "    </tr>\n",
       "  </tbody>\n",
       "</table>\n",
       "</div>"
      ],
      "text/plain": [
       "  cmpd_id subset  fold\n",
       "0   mk571  train     0"
      ]
     },
     "metadata": {},
     "output_type": "display_data"
    },
    {
     "name": "stdout",
     "output_type": "stream",
     "text": [
      "/global/home/users/amandapaulson/data/curated_datasets/combined_class_inhibitor_data_cur_train_valid_test_random_7624990e-0093-4653-967a-e88fa147eb13.csv\n"
     ]
    },
    {
     "data": {
      "text/html": [
       "<div>\n",
       "<style scoped>\n",
       "    .dataframe tbody tr th:only-of-type {\n",
       "        vertical-align: middle;\n",
       "    }\n",
       "\n",
       "    .dataframe tbody tr th {\n",
       "        vertical-align: top;\n",
       "    }\n",
       "\n",
       "    .dataframe thead th {\n",
       "        text-align: right;\n",
       "    }\n",
       "</style>\n",
       "<table border=\"1\" class=\"dataframe\">\n",
       "  <thead>\n",
       "    <tr style=\"text-align: right;\">\n",
       "      <th></th>\n",
       "      <th>cmpd_id</th>\n",
       "      <th>subset</th>\n",
       "      <th>fold</th>\n",
       "    </tr>\n",
       "  </thead>\n",
       "  <tbody>\n",
       "    <tr>\n",
       "      <th>0</th>\n",
       "      <td>CHEMBL702</td>\n",
       "      <td>train</td>\n",
       "      <td>0</td>\n",
       "    </tr>\n",
       "  </tbody>\n",
       "</table>\n",
       "</div>"
      ],
      "text/plain": [
       "     cmpd_id subset  fold\n",
       "0  CHEMBL702  train     0"
      ]
     },
     "metadata": {},
     "output_type": "display_data"
    },
    {
     "name": "stdout",
     "output_type": "stream",
     "text": [
      "/global/home/users/amandapaulson/data/curated_datasets/combined_pct_inhibitor_data_cur_train_valid_test_random_da2a26e5-185f-41f4-9cf9-2c952c91efd0.csv\n"
     ]
    },
    {
     "data": {
      "text/html": [
       "<div>\n",
       "<style scoped>\n",
       "    .dataframe tbody tr th:only-of-type {\n",
       "        vertical-align: middle;\n",
       "    }\n",
       "\n",
       "    .dataframe tbody tr th {\n",
       "        vertical-align: top;\n",
       "    }\n",
       "\n",
       "    .dataframe thead th {\n",
       "        text-align: right;\n",
       "    }\n",
       "</style>\n",
       "<table border=\"1\" class=\"dataframe\">\n",
       "  <thead>\n",
       "    <tr style=\"text-align: right;\">\n",
       "      <th></th>\n",
       "      <th>cmpd_id</th>\n",
       "      <th>subset</th>\n",
       "      <th>fold</th>\n",
       "    </tr>\n",
       "  </thead>\n",
       "  <tbody>\n",
       "    <tr>\n",
       "      <th>0</th>\n",
       "      <td>losartan</td>\n",
       "      <td>train</td>\n",
       "      <td>0</td>\n",
       "    </tr>\n",
       "  </tbody>\n",
       "</table>\n",
       "</div>"
      ],
      "text/plain": [
       "    cmpd_id subset  fold\n",
       "0  losartan  train     0"
      ]
     },
     "metadata": {},
     "output_type": "display_data"
    },
    {
     "name": "stdout",
     "output_type": "stream",
     "text": [
      "/global/home/users/amandapaulson/data/curated_datasets/combined_class_inhibitor_data_cur_train_valid_test_fingerprint_14b7bf3a-6272-43e0-8e9d-c6e385a14e41.csv\n"
     ]
    },
    {
     "data": {
      "text/html": [
       "<div>\n",
       "<style scoped>\n",
       "    .dataframe tbody tr th:only-of-type {\n",
       "        vertical-align: middle;\n",
       "    }\n",
       "\n",
       "    .dataframe tbody tr th {\n",
       "        vertical-align: top;\n",
       "    }\n",
       "\n",
       "    .dataframe thead th {\n",
       "        text-align: right;\n",
       "    }\n",
       "</style>\n",
       "<table border=\"1\" class=\"dataframe\">\n",
       "  <thead>\n",
       "    <tr style=\"text-align: right;\">\n",
       "      <th></th>\n",
       "      <th>cmpd_id</th>\n",
       "      <th>subset</th>\n",
       "      <th>fold</th>\n",
       "    </tr>\n",
       "  </thead>\n",
       "  <tbody>\n",
       "    <tr>\n",
       "      <th>0</th>\n",
       "      <td>CHEMBL54</td>\n",
       "      <td>train</td>\n",
       "      <td>0</td>\n",
       "    </tr>\n",
       "  </tbody>\n",
       "</table>\n",
       "</div>"
      ],
      "text/plain": [
       "    cmpd_id subset  fold\n",
       "0  CHEMBL54  train     0"
      ]
     },
     "metadata": {},
     "output_type": "display_data"
    },
    {
     "name": "stdout",
     "output_type": "stream",
     "text": [
      "/global/home/users/amandapaulson/data/curated_datasets/combined_class_inhibitor_data_cur_train_valid_test_random_90da2246-be18-407b-83a7-2737e3beb9cf.csv\n"
     ]
    },
    {
     "data": {
      "text/html": [
       "<div>\n",
       "<style scoped>\n",
       "    .dataframe tbody tr th:only-of-type {\n",
       "        vertical-align: middle;\n",
       "    }\n",
       "\n",
       "    .dataframe tbody tr th {\n",
       "        vertical-align: top;\n",
       "    }\n",
       "\n",
       "    .dataframe thead th {\n",
       "        text-align: right;\n",
       "    }\n",
       "</style>\n",
       "<table border=\"1\" class=\"dataframe\">\n",
       "  <thead>\n",
       "    <tr style=\"text-align: right;\">\n",
       "      <th></th>\n",
       "      <th>cmpd_id</th>\n",
       "      <th>subset</th>\n",
       "      <th>fold</th>\n",
       "    </tr>\n",
       "  </thead>\n",
       "  <tbody>\n",
       "    <tr>\n",
       "      <th>0</th>\n",
       "      <td>CHEMBL54</td>\n",
       "      <td>train</td>\n",
       "      <td>0</td>\n",
       "    </tr>\n",
       "  </tbody>\n",
       "</table>\n",
       "</div>"
      ],
      "text/plain": [
       "    cmpd_id subset  fold\n",
       "0  CHEMBL54  train     0"
      ]
     },
     "metadata": {},
     "output_type": "display_data"
    },
    {
     "name": "stdout",
     "output_type": "stream",
     "text": [
      "/global/home/users/amandapaulson/data/curated_datasets/combined_ic50_inhibitor_data_cur_train_valid_test_scaffold_26021005-0cd6-4ee6-872f-e2a036fe0981.csv\n"
     ]
    },
    {
     "data": {
      "text/html": [
       "<div>\n",
       "<style scoped>\n",
       "    .dataframe tbody tr th:only-of-type {\n",
       "        vertical-align: middle;\n",
       "    }\n",
       "\n",
       "    .dataframe tbody tr th {\n",
       "        vertical-align: top;\n",
       "    }\n",
       "\n",
       "    .dataframe thead th {\n",
       "        text-align: right;\n",
       "    }\n",
       "</style>\n",
       "<table border=\"1\" class=\"dataframe\">\n",
       "  <thead>\n",
       "    <tr style=\"text-align: right;\">\n",
       "      <th></th>\n",
       "      <th>cmpd_id</th>\n",
       "      <th>subset</th>\n",
       "      <th>fold</th>\n",
       "    </tr>\n",
       "  </thead>\n",
       "  <tbody>\n",
       "    <tr>\n",
       "      <th>0</th>\n",
       "      <td>CHEMBL229128</td>\n",
       "      <td>train</td>\n",
       "      <td>0</td>\n",
       "    </tr>\n",
       "  </tbody>\n",
       "</table>\n",
       "</div>"
      ],
      "text/plain": [
       "        cmpd_id subset  fold\n",
       "0  CHEMBL229128  train     0"
      ]
     },
     "metadata": {},
     "output_type": "display_data"
    },
    {
     "name": "stdout",
     "output_type": "stream",
     "text": [
      "/global/home/users/amandapaulson/data/curated_datasets/combined_ic50_inhibitor_data_cur_train_valid_test_fingerprint_374c75f0-04ff-4ace-97a6-37ba3ff0774e.csv\n"
     ]
    },
    {
     "data": {
      "text/html": [
       "<div>\n",
       "<style scoped>\n",
       "    .dataframe tbody tr th:only-of-type {\n",
       "        vertical-align: middle;\n",
       "    }\n",
       "\n",
       "    .dataframe tbody tr th {\n",
       "        vertical-align: top;\n",
       "    }\n",
       "\n",
       "    .dataframe thead th {\n",
       "        text-align: right;\n",
       "    }\n",
       "</style>\n",
       "<table border=\"1\" class=\"dataframe\">\n",
       "  <thead>\n",
       "    <tr style=\"text-align: right;\">\n",
       "      <th></th>\n",
       "      <th>cmpd_id</th>\n",
       "      <th>subset</th>\n",
       "      <th>fold</th>\n",
       "    </tr>\n",
       "  </thead>\n",
       "  <tbody>\n",
       "    <tr>\n",
       "      <th>0</th>\n",
       "      <td>CHEMBL229128</td>\n",
       "      <td>train</td>\n",
       "      <td>0</td>\n",
       "    </tr>\n",
       "  </tbody>\n",
       "</table>\n",
       "</div>"
      ],
      "text/plain": [
       "        cmpd_id subset  fold\n",
       "0  CHEMBL229128  train     0"
      ]
     },
     "metadata": {},
     "output_type": "display_data"
    },
    {
     "name": "stdout",
     "output_type": "stream",
     "text": [
      "/global/home/users/amandapaulson/data/curated_datasets/combined_pct_inhibitor_data_cur_train_valid_test_scaffold_d5e21e98-0b7b-4a6e-a454-d64eafffd600.csv\n"
     ]
    },
    {
     "data": {
      "text/html": [
       "<div>\n",
       "<style scoped>\n",
       "    .dataframe tbody tr th:only-of-type {\n",
       "        vertical-align: middle;\n",
       "    }\n",
       "\n",
       "    .dataframe tbody tr th {\n",
       "        vertical-align: top;\n",
       "    }\n",
       "\n",
       "    .dataframe thead th {\n",
       "        text-align: right;\n",
       "    }\n",
       "</style>\n",
       "<table border=\"1\" class=\"dataframe\">\n",
       "  <thead>\n",
       "    <tr style=\"text-align: right;\">\n",
       "      <th></th>\n",
       "      <th>cmpd_id</th>\n",
       "      <th>subset</th>\n",
       "      <th>fold</th>\n",
       "    </tr>\n",
       "  </thead>\n",
       "  <tbody>\n",
       "    <tr>\n",
       "      <th>0</th>\n",
       "      <td>valproic acid</td>\n",
       "      <td>train</td>\n",
       "      <td>0</td>\n",
       "    </tr>\n",
       "  </tbody>\n",
       "</table>\n",
       "</div>"
      ],
      "text/plain": [
       "         cmpd_id subset  fold\n",
       "0  valproic acid  train     0"
      ]
     },
     "metadata": {},
     "output_type": "display_data"
    },
    {
     "name": "stdout",
     "output_type": "stream",
     "text": [
      "/global/home/users/amandapaulson/data/curated_datasets/combined_pct_inhibitor_data_cur_train_valid_test_scaffold_7c754b0c-49e9-4905-ab3b-b5e2183b875b.csv\n"
     ]
    },
    {
     "data": {
      "text/html": [
       "<div>\n",
       "<style scoped>\n",
       "    .dataframe tbody tr th:only-of-type {\n",
       "        vertical-align: middle;\n",
       "    }\n",
       "\n",
       "    .dataframe tbody tr th {\n",
       "        vertical-align: top;\n",
       "    }\n",
       "\n",
       "    .dataframe thead th {\n",
       "        text-align: right;\n",
       "    }\n",
       "</style>\n",
       "<table border=\"1\" class=\"dataframe\">\n",
       "  <thead>\n",
       "    <tr style=\"text-align: right;\">\n",
       "      <th></th>\n",
       "      <th>cmpd_id</th>\n",
       "      <th>subset</th>\n",
       "      <th>fold</th>\n",
       "    </tr>\n",
       "  </thead>\n",
       "  <tbody>\n",
       "    <tr>\n",
       "      <th>0</th>\n",
       "      <td>valproic acid</td>\n",
       "      <td>train</td>\n",
       "      <td>0</td>\n",
       "    </tr>\n",
       "  </tbody>\n",
       "</table>\n",
       "</div>"
      ],
      "text/plain": [
       "         cmpd_id subset  fold\n",
       "0  valproic acid  train     0"
      ]
     },
     "metadata": {},
     "output_type": "display_data"
    },
    {
     "name": "stdout",
     "output_type": "stream",
     "text": [
      "/global/home/users/amandapaulson/data/curated_datasets/combined_substrate_data_cur_train_valid_test_random_9b4c1491-27d8-460b-8531-fdf88ebab3a9.csv\n"
     ]
    },
    {
     "data": {
      "text/html": [
       "<div>\n",
       "<style scoped>\n",
       "    .dataframe tbody tr th:only-of-type {\n",
       "        vertical-align: middle;\n",
       "    }\n",
       "\n",
       "    .dataframe tbody tr th {\n",
       "        vertical-align: top;\n",
       "    }\n",
       "\n",
       "    .dataframe thead th {\n",
       "        text-align: right;\n",
       "    }\n",
       "</style>\n",
       "<table border=\"1\" class=\"dataframe\">\n",
       "  <thead>\n",
       "    <tr style=\"text-align: right;\">\n",
       "      <th></th>\n",
       "      <th>cmpd_id</th>\n",
       "      <th>subset</th>\n",
       "      <th>fold</th>\n",
       "    </tr>\n",
       "  </thead>\n",
       "  <tbody>\n",
       "    <tr>\n",
       "      <th>0</th>\n",
       "      <td>2-Naphthalenebutanamide(641233)</td>\n",
       "      <td>train</td>\n",
       "      <td>0</td>\n",
       "    </tr>\n",
       "  </tbody>\n",
       "</table>\n",
       "</div>"
      ],
      "text/plain": [
       "                           cmpd_id subset  fold\n",
       "0  2-Naphthalenebutanamide(641233)  train     0"
      ]
     },
     "metadata": {},
     "output_type": "display_data"
    },
    {
     "name": "stdout",
     "output_type": "stream",
     "text": [
      "/global/home/users/amandapaulson/data/curated_datasets/combined_pct_inhibitor_data_cur_train_valid_test_scaffold_b1c877af-0a06-4f2c-9215-ef576cdbb410.csv\n"
     ]
    },
    {
     "data": {
      "text/html": [
       "<div>\n",
       "<style scoped>\n",
       "    .dataframe tbody tr th:only-of-type {\n",
       "        vertical-align: middle;\n",
       "    }\n",
       "\n",
       "    .dataframe tbody tr th {\n",
       "        vertical-align: top;\n",
       "    }\n",
       "\n",
       "    .dataframe thead th {\n",
       "        text-align: right;\n",
       "    }\n",
       "</style>\n",
       "<table border=\"1\" class=\"dataframe\">\n",
       "  <thead>\n",
       "    <tr style=\"text-align: right;\">\n",
       "      <th></th>\n",
       "      <th>cmpd_id</th>\n",
       "      <th>subset</th>\n",
       "      <th>fold</th>\n",
       "    </tr>\n",
       "  </thead>\n",
       "  <tbody>\n",
       "    <tr>\n",
       "      <th>0</th>\n",
       "      <td>valproic acid</td>\n",
       "      <td>train</td>\n",
       "      <td>0</td>\n",
       "    </tr>\n",
       "  </tbody>\n",
       "</table>\n",
       "</div>"
      ],
      "text/plain": [
       "         cmpd_id subset  fold\n",
       "0  valproic acid  train     0"
      ]
     },
     "metadata": {},
     "output_type": "display_data"
    },
    {
     "name": "stdout",
     "output_type": "stream",
     "text": [
      "/global/home/users/amandapaulson/data/curated_datasets/combined_substrate_data_cur_train_valid_test_random_5925ea42-3ac0-4d06-b01d-ba857f7fd4e3.csv\n"
     ]
    },
    {
     "data": {
      "text/html": [
       "<div>\n",
       "<style scoped>\n",
       "    .dataframe tbody tr th:only-of-type {\n",
       "        vertical-align: middle;\n",
       "    }\n",
       "\n",
       "    .dataframe tbody tr th {\n",
       "        vertical-align: top;\n",
       "    }\n",
       "\n",
       "    .dataframe thead th {\n",
       "        text-align: right;\n",
       "    }\n",
       "</style>\n",
       "<table border=\"1\" class=\"dataframe\">\n",
       "  <thead>\n",
       "    <tr style=\"text-align: right;\">\n",
       "      <th></th>\n",
       "      <th>cmpd_id</th>\n",
       "      <th>subset</th>\n",
       "      <th>fold</th>\n",
       "    </tr>\n",
       "  </thead>\n",
       "  <tbody>\n",
       "    <tr>\n",
       "      <th>0</th>\n",
       "      <td>2-Naphthalenebutanamide(641233)</td>\n",
       "      <td>train</td>\n",
       "      <td>0</td>\n",
       "    </tr>\n",
       "  </tbody>\n",
       "</table>\n",
       "</div>"
      ],
      "text/plain": [
       "                           cmpd_id subset  fold\n",
       "0  2-Naphthalenebutanamide(641233)  train     0"
      ]
     },
     "metadata": {},
     "output_type": "display_data"
    },
    {
     "name": "stdout",
     "output_type": "stream",
     "text": [
      "/global/home/users/amandapaulson/data/curated_datasets/combined_class_inhibitor_data_cur_train_valid_test_scaffold_b2c48656-7143-4c51-aeb7-9b41f540ea77.csv\n"
     ]
    },
    {
     "data": {
      "text/html": [
       "<div>\n",
       "<style scoped>\n",
       "    .dataframe tbody tr th:only-of-type {\n",
       "        vertical-align: middle;\n",
       "    }\n",
       "\n",
       "    .dataframe tbody tr th {\n",
       "        vertical-align: top;\n",
       "    }\n",
       "\n",
       "    .dataframe thead th {\n",
       "        text-align: right;\n",
       "    }\n",
       "</style>\n",
       "<table border=\"1\" class=\"dataframe\">\n",
       "  <thead>\n",
       "    <tr style=\"text-align: right;\">\n",
       "      <th></th>\n",
       "      <th>cmpd_id</th>\n",
       "      <th>subset</th>\n",
       "      <th>fold</th>\n",
       "    </tr>\n",
       "  </thead>\n",
       "  <tbody>\n",
       "    <tr>\n",
       "      <th>0</th>\n",
       "      <td>CHEMBL54</td>\n",
       "      <td>train</td>\n",
       "      <td>0</td>\n",
       "    </tr>\n",
       "  </tbody>\n",
       "</table>\n",
       "</div>"
      ],
      "text/plain": [
       "    cmpd_id subset  fold\n",
       "0  CHEMBL54  train     0"
      ]
     },
     "metadata": {},
     "output_type": "display_data"
    },
    {
     "name": "stdout",
     "output_type": "stream",
     "text": [
      "/global/home/users/amandapaulson/data/curated_datasets/combined_pct_inhibitor_data_cur_train_valid_test_fingerprint_6f84fe3f-287e-463b-b204-26d6dcbfeb3c.csv\n"
     ]
    },
    {
     "data": {
      "text/html": [
       "<div>\n",
       "<style scoped>\n",
       "    .dataframe tbody tr th:only-of-type {\n",
       "        vertical-align: middle;\n",
       "    }\n",
       "\n",
       "    .dataframe tbody tr th {\n",
       "        vertical-align: top;\n",
       "    }\n",
       "\n",
       "    .dataframe thead th {\n",
       "        text-align: right;\n",
       "    }\n",
       "</style>\n",
       "<table border=\"1\" class=\"dataframe\">\n",
       "  <thead>\n",
       "    <tr style=\"text-align: right;\">\n",
       "      <th></th>\n",
       "      <th>cmpd_id</th>\n",
       "      <th>subset</th>\n",
       "      <th>fold</th>\n",
       "    </tr>\n",
       "  </thead>\n",
       "  <tbody>\n",
       "    <tr>\n",
       "      <th>0</th>\n",
       "      <td>mk571</td>\n",
       "      <td>train</td>\n",
       "      <td>0</td>\n",
       "    </tr>\n",
       "  </tbody>\n",
       "</table>\n",
       "</div>"
      ],
      "text/plain": [
       "  cmpd_id subset  fold\n",
       "0   mk571  train     0"
      ]
     },
     "metadata": {},
     "output_type": "display_data"
    },
    {
     "name": "stdout",
     "output_type": "stream",
     "text": [
      "/global/home/users/amandapaulson/data/curated_datasets/combined_pct_inhibitor_data_cur_train_valid_test_fingerprint_0cb8ae0b-335f-4dc6-abc6-bc5d134e77a2.csv\n"
     ]
    },
    {
     "data": {
      "text/html": [
       "<div>\n",
       "<style scoped>\n",
       "    .dataframe tbody tr th:only-of-type {\n",
       "        vertical-align: middle;\n",
       "    }\n",
       "\n",
       "    .dataframe tbody tr th {\n",
       "        vertical-align: top;\n",
       "    }\n",
       "\n",
       "    .dataframe thead th {\n",
       "        text-align: right;\n",
       "    }\n",
       "</style>\n",
       "<table border=\"1\" class=\"dataframe\">\n",
       "  <thead>\n",
       "    <tr style=\"text-align: right;\">\n",
       "      <th></th>\n",
       "      <th>cmpd_id</th>\n",
       "      <th>subset</th>\n",
       "      <th>fold</th>\n",
       "    </tr>\n",
       "  </thead>\n",
       "  <tbody>\n",
       "    <tr>\n",
       "      <th>0</th>\n",
       "      <td>mk571</td>\n",
       "      <td>train</td>\n",
       "      <td>0</td>\n",
       "    </tr>\n",
       "  </tbody>\n",
       "</table>\n",
       "</div>"
      ],
      "text/plain": [
       "  cmpd_id subset  fold\n",
       "0   mk571  train     0"
      ]
     },
     "metadata": {},
     "output_type": "display_data"
    },
    {
     "name": "stdout",
     "output_type": "stream",
     "text": [
      "/global/home/users/amandapaulson/data/curated_datasets/combined_ic50_inhibitor_data_cur_train_valid_test_fingerprint_315c00fe-4fb4-4095-adc3-7f86ce3345e6.csv\n"
     ]
    },
    {
     "data": {
      "text/html": [
       "<div>\n",
       "<style scoped>\n",
       "    .dataframe tbody tr th:only-of-type {\n",
       "        vertical-align: middle;\n",
       "    }\n",
       "\n",
       "    .dataframe tbody tr th {\n",
       "        vertical-align: top;\n",
       "    }\n",
       "\n",
       "    .dataframe thead th {\n",
       "        text-align: right;\n",
       "    }\n",
       "</style>\n",
       "<table border=\"1\" class=\"dataframe\">\n",
       "  <thead>\n",
       "    <tr style=\"text-align: right;\">\n",
       "      <th></th>\n",
       "      <th>cmpd_id</th>\n",
       "      <th>subset</th>\n",
       "      <th>fold</th>\n",
       "    </tr>\n",
       "  </thead>\n",
       "  <tbody>\n",
       "    <tr>\n",
       "      <th>0</th>\n",
       "      <td>CHEMBL229128</td>\n",
       "      <td>train</td>\n",
       "      <td>0</td>\n",
       "    </tr>\n",
       "  </tbody>\n",
       "</table>\n",
       "</div>"
      ],
      "text/plain": [
       "        cmpd_id subset  fold\n",
       "0  CHEMBL229128  train     0"
      ]
     },
     "metadata": {},
     "output_type": "display_data"
    },
    {
     "name": "stdout",
     "output_type": "stream",
     "text": [
      "/global/home/users/amandapaulson/data/curated_datasets/combined_ic50_inhibitor_data_cur_train_valid_test_fingerprint_0fde29ef-f8e1-4c81-9135-4166fcb77129.csv\n"
     ]
    },
    {
     "data": {
      "text/html": [
       "<div>\n",
       "<style scoped>\n",
       "    .dataframe tbody tr th:only-of-type {\n",
       "        vertical-align: middle;\n",
       "    }\n",
       "\n",
       "    .dataframe tbody tr th {\n",
       "        vertical-align: top;\n",
       "    }\n",
       "\n",
       "    .dataframe thead th {\n",
       "        text-align: right;\n",
       "    }\n",
       "</style>\n",
       "<table border=\"1\" class=\"dataframe\">\n",
       "  <thead>\n",
       "    <tr style=\"text-align: right;\">\n",
       "      <th></th>\n",
       "      <th>cmpd_id</th>\n",
       "      <th>subset</th>\n",
       "      <th>fold</th>\n",
       "    </tr>\n",
       "  </thead>\n",
       "  <tbody>\n",
       "    <tr>\n",
       "      <th>0</th>\n",
       "      <td>CHEMBL229128</td>\n",
       "      <td>train</td>\n",
       "      <td>0</td>\n",
       "    </tr>\n",
       "  </tbody>\n",
       "</table>\n",
       "</div>"
      ],
      "text/plain": [
       "        cmpd_id subset  fold\n",
       "0  CHEMBL229128  train     0"
      ]
     },
     "metadata": {},
     "output_type": "display_data"
    },
    {
     "name": "stdout",
     "output_type": "stream",
     "text": [
      "/global/home/users/amandapaulson/data/curated_datasets/combined_substrate_data_cur_train_valid_test_fingerprint_f87dc56c-6615-49d8-b41a-d2a82fe2d5c9.csv\n"
     ]
    },
    {
     "data": {
      "text/html": [
       "<div>\n",
       "<style scoped>\n",
       "    .dataframe tbody tr th:only-of-type {\n",
       "        vertical-align: middle;\n",
       "    }\n",
       "\n",
       "    .dataframe tbody tr th {\n",
       "        vertical-align: top;\n",
       "    }\n",
       "\n",
       "    .dataframe thead th {\n",
       "        text-align: right;\n",
       "    }\n",
       "</style>\n",
       "<table border=\"1\" class=\"dataframe\">\n",
       "  <thead>\n",
       "    <tr style=\"text-align: right;\">\n",
       "      <th></th>\n",
       "      <th>cmpd_id</th>\n",
       "      <th>subset</th>\n",
       "      <th>fold</th>\n",
       "    </tr>\n",
       "  </thead>\n",
       "  <tbody>\n",
       "    <tr>\n",
       "      <th>0</th>\n",
       "      <td>2-Naphthalenebutanamide(641233)</td>\n",
       "      <td>train</td>\n",
       "      <td>0</td>\n",
       "    </tr>\n",
       "  </tbody>\n",
       "</table>\n",
       "</div>"
      ],
      "text/plain": [
       "                           cmpd_id subset  fold\n",
       "0  2-Naphthalenebutanamide(641233)  train     0"
      ]
     },
     "metadata": {},
     "output_type": "display_data"
    },
    {
     "name": "stdout",
     "output_type": "stream",
     "text": [
      "/global/home/users/amandapaulson/data/curated_datasets/combined_class_inhibitor_data_cur_train_valid_test_scaffold_6a6ccbfa-e69d-43fb-bf4c-5ae74099d48e.csv\n"
     ]
    },
    {
     "data": {
      "text/html": [
       "<div>\n",
       "<style scoped>\n",
       "    .dataframe tbody tr th:only-of-type {\n",
       "        vertical-align: middle;\n",
       "    }\n",
       "\n",
       "    .dataframe tbody tr th {\n",
       "        vertical-align: top;\n",
       "    }\n",
       "\n",
       "    .dataframe thead th {\n",
       "        text-align: right;\n",
       "    }\n",
       "</style>\n",
       "<table border=\"1\" class=\"dataframe\">\n",
       "  <thead>\n",
       "    <tr style=\"text-align: right;\">\n",
       "      <th></th>\n",
       "      <th>cmpd_id</th>\n",
       "      <th>subset</th>\n",
       "      <th>fold</th>\n",
       "    </tr>\n",
       "  </thead>\n",
       "  <tbody>\n",
       "    <tr>\n",
       "      <th>0</th>\n",
       "      <td>CHEMBL54</td>\n",
       "      <td>train</td>\n",
       "      <td>0</td>\n",
       "    </tr>\n",
       "  </tbody>\n",
       "</table>\n",
       "</div>"
      ],
      "text/plain": [
       "    cmpd_id subset  fold\n",
       "0  CHEMBL54  train     0"
      ]
     },
     "metadata": {},
     "output_type": "display_data"
    },
    {
     "name": "stdout",
     "output_type": "stream",
     "text": [
      "/global/home/users/amandapaulson/data/curated_datasets/combined_class_inhibitor_data_cur_train_valid_test_scaffold_9c147930-65e8-4e1c-ba26-09a44fd77d31.csv\n"
     ]
    },
    {
     "data": {
      "text/html": [
       "<div>\n",
       "<style scoped>\n",
       "    .dataframe tbody tr th:only-of-type {\n",
       "        vertical-align: middle;\n",
       "    }\n",
       "\n",
       "    .dataframe tbody tr th {\n",
       "        vertical-align: top;\n",
       "    }\n",
       "\n",
       "    .dataframe thead th {\n",
       "        text-align: right;\n",
       "    }\n",
       "</style>\n",
       "<table border=\"1\" class=\"dataframe\">\n",
       "  <thead>\n",
       "    <tr style=\"text-align: right;\">\n",
       "      <th></th>\n",
       "      <th>cmpd_id</th>\n",
       "      <th>subset</th>\n",
       "      <th>fold</th>\n",
       "    </tr>\n",
       "  </thead>\n",
       "  <tbody>\n",
       "    <tr>\n",
       "      <th>0</th>\n",
       "      <td>CHEMBL54</td>\n",
       "      <td>train</td>\n",
       "      <td>0</td>\n",
       "    </tr>\n",
       "  </tbody>\n",
       "</table>\n",
       "</div>"
      ],
      "text/plain": [
       "    cmpd_id subset  fold\n",
       "0  CHEMBL54  train     0"
      ]
     },
     "metadata": {},
     "output_type": "display_data"
    },
    {
     "name": "stdout",
     "output_type": "stream",
     "text": [
      "/global/home/users/amandapaulson/data/curated_datasets/combined_pct_inhibitor_data_cur_train_valid_test_random_3fc09959-10fb-4888-8373-a370d75f59bd.csv\n"
     ]
    },
    {
     "data": {
      "text/html": [
       "<div>\n",
       "<style scoped>\n",
       "    .dataframe tbody tr th:only-of-type {\n",
       "        vertical-align: middle;\n",
       "    }\n",
       "\n",
       "    .dataframe tbody tr th {\n",
       "        vertical-align: top;\n",
       "    }\n",
       "\n",
       "    .dataframe thead th {\n",
       "        text-align: right;\n",
       "    }\n",
       "</style>\n",
       "<table border=\"1\" class=\"dataframe\">\n",
       "  <thead>\n",
       "    <tr style=\"text-align: right;\">\n",
       "      <th></th>\n",
       "      <th>cmpd_id</th>\n",
       "      <th>subset</th>\n",
       "      <th>fold</th>\n",
       "    </tr>\n",
       "  </thead>\n",
       "  <tbody>\n",
       "    <tr>\n",
       "      <th>0</th>\n",
       "      <td>mk571</td>\n",
       "      <td>train</td>\n",
       "      <td>0</td>\n",
       "    </tr>\n",
       "  </tbody>\n",
       "</table>\n",
       "</div>"
      ],
      "text/plain": [
       "  cmpd_id subset  fold\n",
       "0   mk571  train     0"
      ]
     },
     "metadata": {},
     "output_type": "display_data"
    },
    {
     "name": "stdout",
     "output_type": "stream",
     "text": [
      "/global/home/users/amandapaulson/data/curated_datasets/combined_ic50_inhibitor_data_cur_train_valid_test_random_a3957fff-9857-49f2-b596-2e50bef64f61.csv\n"
     ]
    },
    {
     "data": {
      "text/html": [
       "<div>\n",
       "<style scoped>\n",
       "    .dataframe tbody tr th:only-of-type {\n",
       "        vertical-align: middle;\n",
       "    }\n",
       "\n",
       "    .dataframe tbody tr th {\n",
       "        vertical-align: top;\n",
       "    }\n",
       "\n",
       "    .dataframe thead th {\n",
       "        text-align: right;\n",
       "    }\n",
       "</style>\n",
       "<table border=\"1\" class=\"dataframe\">\n",
       "  <thead>\n",
       "    <tr style=\"text-align: right;\">\n",
       "      <th></th>\n",
       "      <th>cmpd_id</th>\n",
       "      <th>subset</th>\n",
       "      <th>fold</th>\n",
       "    </tr>\n",
       "  </thead>\n",
       "  <tbody>\n",
       "    <tr>\n",
       "      <th>0</th>\n",
       "      <td>CHEMBL229128</td>\n",
       "      <td>train</td>\n",
       "      <td>0</td>\n",
       "    </tr>\n",
       "  </tbody>\n",
       "</table>\n",
       "</div>"
      ],
      "text/plain": [
       "        cmpd_id subset  fold\n",
       "0  CHEMBL229128  train     0"
      ]
     },
     "metadata": {},
     "output_type": "display_data"
    },
    {
     "name": "stdout",
     "output_type": "stream",
     "text": [
      "/global/home/users/amandapaulson/data/curated_datasets/combined_ic50_inhibitor_data_cur_train_valid_test_scaffold_55574502-4524-4b39-acb8-5d41eab8a25c.csv\n"
     ]
    },
    {
     "data": {
      "text/html": [
       "<div>\n",
       "<style scoped>\n",
       "    .dataframe tbody tr th:only-of-type {\n",
       "        vertical-align: middle;\n",
       "    }\n",
       "\n",
       "    .dataframe tbody tr th {\n",
       "        vertical-align: top;\n",
       "    }\n",
       "\n",
       "    .dataframe thead th {\n",
       "        text-align: right;\n",
       "    }\n",
       "</style>\n",
       "<table border=\"1\" class=\"dataframe\">\n",
       "  <thead>\n",
       "    <tr style=\"text-align: right;\">\n",
       "      <th></th>\n",
       "      <th>cmpd_id</th>\n",
       "      <th>subset</th>\n",
       "      <th>fold</th>\n",
       "    </tr>\n",
       "  </thead>\n",
       "  <tbody>\n",
       "    <tr>\n",
       "      <th>0</th>\n",
       "      <td>CHEMBL229128</td>\n",
       "      <td>train</td>\n",
       "      <td>0</td>\n",
       "    </tr>\n",
       "  </tbody>\n",
       "</table>\n",
       "</div>"
      ],
      "text/plain": [
       "        cmpd_id subset  fold\n",
       "0  CHEMBL229128  train     0"
      ]
     },
     "metadata": {},
     "output_type": "display_data"
    },
    {
     "name": "stdout",
     "output_type": "stream",
     "text": [
      "/global/home/users/amandapaulson/data/curated_datasets/combined_substrate_data_cur.csv\n"
     ]
    },
    {
     "data": {
      "text/html": [
       "<div>\n",
       "<style scoped>\n",
       "    .dataframe tbody tr th:only-of-type {\n",
       "        vertical-align: middle;\n",
       "    }\n",
       "\n",
       "    .dataframe tbody tr th {\n",
       "        vertical-align: top;\n",
       "    }\n",
       "\n",
       "    .dataframe thead th {\n",
       "        text-align: right;\n",
       "    }\n",
       "</style>\n",
       "<table border=\"1\" class=\"dataframe\">\n",
       "  <thead>\n",
       "    <tr style=\"text-align: right;\">\n",
       "      <th></th>\n",
       "      <th>compound_id</th>\n",
       "      <th>base_rdkit_smiles</th>\n",
       "      <th>substrate</th>\n",
       "    </tr>\n",
       "  </thead>\n",
       "  <tbody>\n",
       "    <tr>\n",
       "      <th>0</th>\n",
       "      <td>(-)-Roehybridine(626578)</td>\n",
       "      <td>COc1cc2[nH]c3c(c2cc1OC)CCN[C@]31CC[C@@]2(C[C@@...</td>\n",
       "      <td>0</td>\n",
       "    </tr>\n",
       "  </tbody>\n",
       "</table>\n",
       "</div>"
      ],
      "text/plain": [
       "                compound_id  \\\n",
       "0  (-)-Roehybridine(626578)   \n",
       "\n",
       "                                   base_rdkit_smiles  substrate  \n",
       "0  COc1cc2[nH]c3c(c2cc1OC)CCN[C@]31CC[C@@]2(C[C@@...          0  "
      ]
     },
     "metadata": {},
     "output_type": "display_data"
    },
    {
     "name": "stdout",
     "output_type": "stream",
     "text": [
      "/global/home/users/amandapaulson/data/curated_datasets/combined_ic50_inhibitor_data_cur_train_valid_test_random_d371b7c7-8705-4057-beec-3a42a6f6196f.csv\n"
     ]
    },
    {
     "data": {
      "text/html": [
       "<div>\n",
       "<style scoped>\n",
       "    .dataframe tbody tr th:only-of-type {\n",
       "        vertical-align: middle;\n",
       "    }\n",
       "\n",
       "    .dataframe tbody tr th {\n",
       "        vertical-align: top;\n",
       "    }\n",
       "\n",
       "    .dataframe thead th {\n",
       "        text-align: right;\n",
       "    }\n",
       "</style>\n",
       "<table border=\"1\" class=\"dataframe\">\n",
       "  <thead>\n",
       "    <tr style=\"text-align: right;\">\n",
       "      <th></th>\n",
       "      <th>cmpd_id</th>\n",
       "      <th>subset</th>\n",
       "      <th>fold</th>\n",
       "    </tr>\n",
       "  </thead>\n",
       "  <tbody>\n",
       "    <tr>\n",
       "      <th>0</th>\n",
       "      <td>CHEMBL229128</td>\n",
       "      <td>train</td>\n",
       "      <td>0</td>\n",
       "    </tr>\n",
       "  </tbody>\n",
       "</table>\n",
       "</div>"
      ],
      "text/plain": [
       "        cmpd_id subset  fold\n",
       "0  CHEMBL229128  train     0"
      ]
     },
     "metadata": {},
     "output_type": "display_data"
    },
    {
     "name": "stdout",
     "output_type": "stream",
     "text": [
      "/global/home/users/amandapaulson/data/curated_datasets/combined_pct_inhibitor_data_cur_train_valid_test_scaffold_62b2c43a-213d-4f40-959c-dc24767f2bc2.csv\n"
     ]
    },
    {
     "data": {
      "text/html": [
       "<div>\n",
       "<style scoped>\n",
       "    .dataframe tbody tr th:only-of-type {\n",
       "        vertical-align: middle;\n",
       "    }\n",
       "\n",
       "    .dataframe tbody tr th {\n",
       "        vertical-align: top;\n",
       "    }\n",
       "\n",
       "    .dataframe thead th {\n",
       "        text-align: right;\n",
       "    }\n",
       "</style>\n",
       "<table border=\"1\" class=\"dataframe\">\n",
       "  <thead>\n",
       "    <tr style=\"text-align: right;\">\n",
       "      <th></th>\n",
       "      <th>cmpd_id</th>\n",
       "      <th>subset</th>\n",
       "      <th>fold</th>\n",
       "    </tr>\n",
       "  </thead>\n",
       "  <tbody>\n",
       "    <tr>\n",
       "      <th>0</th>\n",
       "      <td>valproic acid</td>\n",
       "      <td>train</td>\n",
       "      <td>0</td>\n",
       "    </tr>\n",
       "  </tbody>\n",
       "</table>\n",
       "</div>"
      ],
      "text/plain": [
       "         cmpd_id subset  fold\n",
       "0  valproic acid  train     0"
      ]
     },
     "metadata": {},
     "output_type": "display_data"
    },
    {
     "name": "stdout",
     "output_type": "stream",
     "text": [
      "/global/home/users/amandapaulson/data/curated_datasets/combined_class_inhibitor_data_cur_train_valid_test_random_61b485b9-ceff-4742-b3d7-b02d72ba0f74.csv\n"
     ]
    },
    {
     "data": {
      "text/html": [
       "<div>\n",
       "<style scoped>\n",
       "    .dataframe tbody tr th:only-of-type {\n",
       "        vertical-align: middle;\n",
       "    }\n",
       "\n",
       "    .dataframe tbody tr th {\n",
       "        vertical-align: top;\n",
       "    }\n",
       "\n",
       "    .dataframe thead th {\n",
       "        text-align: right;\n",
       "    }\n",
       "</style>\n",
       "<table border=\"1\" class=\"dataframe\">\n",
       "  <thead>\n",
       "    <tr style=\"text-align: right;\">\n",
       "      <th></th>\n",
       "      <th>cmpd_id</th>\n",
       "      <th>subset</th>\n",
       "      <th>fold</th>\n",
       "    </tr>\n",
       "  </thead>\n",
       "  <tbody>\n",
       "    <tr>\n",
       "      <th>0</th>\n",
       "      <td>CHEMBL54</td>\n",
       "      <td>train</td>\n",
       "      <td>0</td>\n",
       "    </tr>\n",
       "  </tbody>\n",
       "</table>\n",
       "</div>"
      ],
      "text/plain": [
       "    cmpd_id subset  fold\n",
       "0  CHEMBL54  train     0"
      ]
     },
     "metadata": {},
     "output_type": "display_data"
    },
    {
     "name": "stdout",
     "output_type": "stream",
     "text": [
      "/global/home/users/amandapaulson/data/curated_datasets/combined_class_inhibitor_data_cur_train_valid_test_fingerprint_262113db-910f-42d2-abc8-28d5a5beb318.csv\n"
     ]
    },
    {
     "data": {
      "text/html": [
       "<div>\n",
       "<style scoped>\n",
       "    .dataframe tbody tr th:only-of-type {\n",
       "        vertical-align: middle;\n",
       "    }\n",
       "\n",
       "    .dataframe tbody tr th {\n",
       "        vertical-align: top;\n",
       "    }\n",
       "\n",
       "    .dataframe thead th {\n",
       "        text-align: right;\n",
       "    }\n",
       "</style>\n",
       "<table border=\"1\" class=\"dataframe\">\n",
       "  <thead>\n",
       "    <tr style=\"text-align: right;\">\n",
       "      <th></th>\n",
       "      <th>cmpd_id</th>\n",
       "      <th>subset</th>\n",
       "      <th>fold</th>\n",
       "    </tr>\n",
       "  </thead>\n",
       "  <tbody>\n",
       "    <tr>\n",
       "      <th>0</th>\n",
       "      <td>CHEMBL54</td>\n",
       "      <td>train</td>\n",
       "      <td>0</td>\n",
       "    </tr>\n",
       "  </tbody>\n",
       "</table>\n",
       "</div>"
      ],
      "text/plain": [
       "    cmpd_id subset  fold\n",
       "0  CHEMBL54  train     0"
      ]
     },
     "metadata": {},
     "output_type": "display_data"
    },
    {
     "name": "stdout",
     "output_type": "stream",
     "text": [
      "/global/home/users/amandapaulson/data/curated_datasets/combined_ic50_inhibitor_data_cur_train_valid_test_random_97c576a7-9d95-45a7-94bb-2eb82ccc64d2.csv\n"
     ]
    },
    {
     "data": {
      "text/html": [
       "<div>\n",
       "<style scoped>\n",
       "    .dataframe tbody tr th:only-of-type {\n",
       "        vertical-align: middle;\n",
       "    }\n",
       "\n",
       "    .dataframe tbody tr th {\n",
       "        vertical-align: top;\n",
       "    }\n",
       "\n",
       "    .dataframe thead th {\n",
       "        text-align: right;\n",
       "    }\n",
       "</style>\n",
       "<table border=\"1\" class=\"dataframe\">\n",
       "  <thead>\n",
       "    <tr style=\"text-align: right;\">\n",
       "      <th></th>\n",
       "      <th>cmpd_id</th>\n",
       "      <th>subset</th>\n",
       "      <th>fold</th>\n",
       "    </tr>\n",
       "  </thead>\n",
       "  <tbody>\n",
       "    <tr>\n",
       "      <th>0</th>\n",
       "      <td>CHEMBL229128</td>\n",
       "      <td>train</td>\n",
       "      <td>0</td>\n",
       "    </tr>\n",
       "  </tbody>\n",
       "</table>\n",
       "</div>"
      ],
      "text/plain": [
       "        cmpd_id subset  fold\n",
       "0  CHEMBL229128  train     0"
      ]
     },
     "metadata": {},
     "output_type": "display_data"
    },
    {
     "name": "stdout",
     "output_type": "stream",
     "text": [
      "/global/home/users/amandapaulson/data/curated_datasets/combined_class_inhibitor_data_cur_train_valid_test_fingerprint_57fade82-dd21-45f8-a5b8-9ed3d5d2112a.csv\n"
     ]
    },
    {
     "data": {
      "text/html": [
       "<div>\n",
       "<style scoped>\n",
       "    .dataframe tbody tr th:only-of-type {\n",
       "        vertical-align: middle;\n",
       "    }\n",
       "\n",
       "    .dataframe tbody tr th {\n",
       "        vertical-align: top;\n",
       "    }\n",
       "\n",
       "    .dataframe thead th {\n",
       "        text-align: right;\n",
       "    }\n",
       "</style>\n",
       "<table border=\"1\" class=\"dataframe\">\n",
       "  <thead>\n",
       "    <tr style=\"text-align: right;\">\n",
       "      <th></th>\n",
       "      <th>cmpd_id</th>\n",
       "      <th>subset</th>\n",
       "      <th>fold</th>\n",
       "    </tr>\n",
       "  </thead>\n",
       "  <tbody>\n",
       "    <tr>\n",
       "      <th>0</th>\n",
       "      <td>CHEMBL54</td>\n",
       "      <td>train</td>\n",
       "      <td>0</td>\n",
       "    </tr>\n",
       "  </tbody>\n",
       "</table>\n",
       "</div>"
      ],
      "text/plain": [
       "    cmpd_id subset  fold\n",
       "0  CHEMBL54  train     0"
      ]
     },
     "metadata": {},
     "output_type": "display_data"
    },
    {
     "name": "stdout",
     "output_type": "stream",
     "text": [
      "/global/home/users/amandapaulson/data/curated_datasets/combined_ic50_inhibitor_data_cur.csv\n"
     ]
    },
    {
     "data": {
      "text/html": [
       "<div>\n",
       "<style scoped>\n",
       "    .dataframe tbody tr th:only-of-type {\n",
       "        vertical-align: middle;\n",
       "    }\n",
       "\n",
       "    .dataframe tbody tr th {\n",
       "        vertical-align: top;\n",
       "    }\n",
       "\n",
       "    .dataframe thead th {\n",
       "        text-align: right;\n",
       "    }\n",
       "</style>\n",
       "<table border=\"1\" class=\"dataframe\">\n",
       "  <thead>\n",
       "    <tr style=\"text-align: right;\">\n",
       "      <th></th>\n",
       "      <th>compound_id</th>\n",
       "      <th>base_rdkit_smiles</th>\n",
       "      <th>relation</th>\n",
       "      <th>pIC50</th>\n",
       "      <th>active</th>\n",
       "    </tr>\n",
       "  </thead>\n",
       "  <tbody>\n",
       "    <tr>\n",
       "      <th>0</th>\n",
       "      <td>CHEMBL100</td>\n",
       "      <td>CC1(C)Oc2ccc(C#N)cc2[C@@H](N2CCCC2=O)[C@@H]1O</td>\n",
       "      <td>NaN</td>\n",
       "      <td>3.451856</td>\n",
       "      <td>0</td>\n",
       "    </tr>\n",
       "  </tbody>\n",
       "</table>\n",
       "</div>"
      ],
      "text/plain": [
       "  compound_id                              base_rdkit_smiles relation  \\\n",
       "0   CHEMBL100  CC1(C)Oc2ccc(C#N)cc2[C@@H](N2CCCC2=O)[C@@H]1O      NaN   \n",
       "\n",
       "      pIC50  active  \n",
       "0  3.451856       0  "
      ]
     },
     "metadata": {},
     "output_type": "display_data"
    },
    {
     "name": "stdout",
     "output_type": "stream",
     "text": [
      "/global/home/users/amandapaulson/data/curated_datasets/combined_class_inhibitor_data_cur_train_valid_test_random_b9da9cf9-e2de-443d-91a9-d122e439bf15.csv\n"
     ]
    },
    {
     "data": {
      "text/html": [
       "<div>\n",
       "<style scoped>\n",
       "    .dataframe tbody tr th:only-of-type {\n",
       "        vertical-align: middle;\n",
       "    }\n",
       "\n",
       "    .dataframe tbody tr th {\n",
       "        vertical-align: top;\n",
       "    }\n",
       "\n",
       "    .dataframe thead th {\n",
       "        text-align: right;\n",
       "    }\n",
       "</style>\n",
       "<table border=\"1\" class=\"dataframe\">\n",
       "  <thead>\n",
       "    <tr style=\"text-align: right;\">\n",
       "      <th></th>\n",
       "      <th>cmpd_id</th>\n",
       "      <th>subset</th>\n",
       "      <th>fold</th>\n",
       "    </tr>\n",
       "  </thead>\n",
       "  <tbody>\n",
       "    <tr>\n",
       "      <th>0</th>\n",
       "      <td>CHEMBL54</td>\n",
       "      <td>train</td>\n",
       "      <td>0</td>\n",
       "    </tr>\n",
       "  </tbody>\n",
       "</table>\n",
       "</div>"
      ],
      "text/plain": [
       "    cmpd_id subset  fold\n",
       "0  CHEMBL54  train     0"
      ]
     },
     "metadata": {},
     "output_type": "display_data"
    },
    {
     "name": "stdout",
     "output_type": "stream",
     "text": [
      "/global/home/users/amandapaulson/data/curated_datasets/combined_pct_inhibitor_data_cur_train_valid_test_random_596df618-5760-43ac-9b40-332dee64f2be.csv\n"
     ]
    },
    {
     "data": {
      "text/html": [
       "<div>\n",
       "<style scoped>\n",
       "    .dataframe tbody tr th:only-of-type {\n",
       "        vertical-align: middle;\n",
       "    }\n",
       "\n",
       "    .dataframe tbody tr th {\n",
       "        vertical-align: top;\n",
       "    }\n",
       "\n",
       "    .dataframe thead th {\n",
       "        text-align: right;\n",
       "    }\n",
       "</style>\n",
       "<table border=\"1\" class=\"dataframe\">\n",
       "  <thead>\n",
       "    <tr style=\"text-align: right;\">\n",
       "      <th></th>\n",
       "      <th>cmpd_id</th>\n",
       "      <th>subset</th>\n",
       "      <th>fold</th>\n",
       "    </tr>\n",
       "  </thead>\n",
       "  <tbody>\n",
       "    <tr>\n",
       "      <th>0</th>\n",
       "      <td>mk571</td>\n",
       "      <td>train</td>\n",
       "      <td>0</td>\n",
       "    </tr>\n",
       "  </tbody>\n",
       "</table>\n",
       "</div>"
      ],
      "text/plain": [
       "  cmpd_id subset  fold\n",
       "0   mk571  train     0"
      ]
     },
     "metadata": {},
     "output_type": "display_data"
    },
    {
     "name": "stdout",
     "output_type": "stream",
     "text": [
      "/global/home/users/amandapaulson/data/curated_datasets/combined_substrate_data_cur_train_valid_test_fingerprint_c2d89b38-97ba-43ab-a7b5-6115b214bf33.csv\n"
     ]
    },
    {
     "data": {
      "text/html": [
       "<div>\n",
       "<style scoped>\n",
       "    .dataframe tbody tr th:only-of-type {\n",
       "        vertical-align: middle;\n",
       "    }\n",
       "\n",
       "    .dataframe tbody tr th {\n",
       "        vertical-align: top;\n",
       "    }\n",
       "\n",
       "    .dataframe thead th {\n",
       "        text-align: right;\n",
       "    }\n",
       "</style>\n",
       "<table border=\"1\" class=\"dataframe\">\n",
       "  <thead>\n",
       "    <tr style=\"text-align: right;\">\n",
       "      <th></th>\n",
       "      <th>cmpd_id</th>\n",
       "      <th>subset</th>\n",
       "      <th>fold</th>\n",
       "    </tr>\n",
       "  </thead>\n",
       "  <tbody>\n",
       "    <tr>\n",
       "      <th>0</th>\n",
       "      <td>2-Naphthalenebutanamide(641233)</td>\n",
       "      <td>train</td>\n",
       "      <td>0</td>\n",
       "    </tr>\n",
       "  </tbody>\n",
       "</table>\n",
       "</div>"
      ],
      "text/plain": [
       "                           cmpd_id subset  fold\n",
       "0  2-Naphthalenebutanamide(641233)  train     0"
      ]
     },
     "metadata": {},
     "output_type": "display_data"
    },
    {
     "name": "stdout",
     "output_type": "stream",
     "text": [
      "/global/home/users/amandapaulson/data/curated_datasets/combined_substrate_data_cur_train_valid_test_random_dd241db5-8735-4249-98ee-febbe5b3590f.csv\n"
     ]
    },
    {
     "data": {
      "text/html": [
       "<div>\n",
       "<style scoped>\n",
       "    .dataframe tbody tr th:only-of-type {\n",
       "        vertical-align: middle;\n",
       "    }\n",
       "\n",
       "    .dataframe tbody tr th {\n",
       "        vertical-align: top;\n",
       "    }\n",
       "\n",
       "    .dataframe thead th {\n",
       "        text-align: right;\n",
       "    }\n",
       "</style>\n",
       "<table border=\"1\" class=\"dataframe\">\n",
       "  <thead>\n",
       "    <tr style=\"text-align: right;\">\n",
       "      <th></th>\n",
       "      <th>cmpd_id</th>\n",
       "      <th>subset</th>\n",
       "      <th>fold</th>\n",
       "    </tr>\n",
       "  </thead>\n",
       "  <tbody>\n",
       "    <tr>\n",
       "      <th>0</th>\n",
       "      <td>2-Naphthalenebutanamide(641233)</td>\n",
       "      <td>train</td>\n",
       "      <td>0</td>\n",
       "    </tr>\n",
       "  </tbody>\n",
       "</table>\n",
       "</div>"
      ],
      "text/plain": [
       "                           cmpd_id subset  fold\n",
       "0  2-Naphthalenebutanamide(641233)  train     0"
      ]
     },
     "metadata": {},
     "output_type": "display_data"
    },
    {
     "name": "stdout",
     "output_type": "stream",
     "text": [
      "/global/home/users/amandapaulson/data/curated_datasets/combined_ic50_inhibitor_data_cur_train_valid_test_scaffold_9a8c9002-888d-49a4-9eb6-6c517c165eb2.csv\n"
     ]
    },
    {
     "data": {
      "text/html": [
       "<div>\n",
       "<style scoped>\n",
       "    .dataframe tbody tr th:only-of-type {\n",
       "        vertical-align: middle;\n",
       "    }\n",
       "\n",
       "    .dataframe tbody tr th {\n",
       "        vertical-align: top;\n",
       "    }\n",
       "\n",
       "    .dataframe thead th {\n",
       "        text-align: right;\n",
       "    }\n",
       "</style>\n",
       "<table border=\"1\" class=\"dataframe\">\n",
       "  <thead>\n",
       "    <tr style=\"text-align: right;\">\n",
       "      <th></th>\n",
       "      <th>cmpd_id</th>\n",
       "      <th>subset</th>\n",
       "      <th>fold</th>\n",
       "    </tr>\n",
       "  </thead>\n",
       "  <tbody>\n",
       "    <tr>\n",
       "      <th>0</th>\n",
       "      <td>CHEMBL229128</td>\n",
       "      <td>train</td>\n",
       "      <td>0</td>\n",
       "    </tr>\n",
       "  </tbody>\n",
       "</table>\n",
       "</div>"
      ],
      "text/plain": [
       "        cmpd_id subset  fold\n",
       "0  CHEMBL229128  train     0"
      ]
     },
     "metadata": {},
     "output_type": "display_data"
    },
    {
     "name": "stdout",
     "output_type": "stream",
     "text": [
      "/global/home/users/amandapaulson/data/curated_datasets/combined_class_inhibitor_data_cur.csv\n"
     ]
    },
    {
     "data": {
      "text/html": [
       "<div>\n",
       "<style scoped>\n",
       "    .dataframe tbody tr th:only-of-type {\n",
       "        vertical-align: middle;\n",
       "    }\n",
       "\n",
       "    .dataframe tbody tr th {\n",
       "        vertical-align: top;\n",
       "    }\n",
       "\n",
       "    .dataframe thead th {\n",
       "        text-align: right;\n",
       "    }\n",
       "</style>\n",
       "<table border=\"1\" class=\"dataframe\">\n",
       "  <thead>\n",
       "    <tr style=\"text-align: right;\">\n",
       "      <th></th>\n",
       "      <th>compound_id</th>\n",
       "      <th>base_rdkit_smiles</th>\n",
       "      <th>relation</th>\n",
       "      <th>inhibitor</th>\n",
       "    </tr>\n",
       "  </thead>\n",
       "  <tbody>\n",
       "    <tr>\n",
       "      <th>0</th>\n",
       "      <td>1-methyl-4- phenylpyridinium</td>\n",
       "      <td>C[n+]1ccc(-c2ccccc2)cc1</td>\n",
       "      <td>NaN</td>\n",
       "      <td>0.0</td>\n",
       "    </tr>\n",
       "  </tbody>\n",
       "</table>\n",
       "</div>"
      ],
      "text/plain": [
       "                    compound_id        base_rdkit_smiles  relation  inhibitor\n",
       "0  1-methyl-4- phenylpyridinium  C[n+]1ccc(-c2ccccc2)cc1       NaN        0.0"
      ]
     },
     "metadata": {},
     "output_type": "display_data"
    },
    {
     "name": "stdout",
     "output_type": "stream",
     "text": [
      "/global/home/users/amandapaulson/data/curated_datasets/combined_pct_inhibitor_data_cur.csv\n"
     ]
    },
    {
     "data": {
      "text/html": [
       "<div>\n",
       "<style scoped>\n",
       "    .dataframe tbody tr th:only-of-type {\n",
       "        vertical-align: middle;\n",
       "    }\n",
       "\n",
       "    .dataframe tbody tr th {\n",
       "        vertical-align: top;\n",
       "    }\n",
       "\n",
       "    .dataframe thead th {\n",
       "        text-align: right;\n",
       "    }\n",
       "</style>\n",
       "<table border=\"1\" class=\"dataframe\">\n",
       "  <thead>\n",
       "    <tr style=\"text-align: right;\">\n",
       "      <th></th>\n",
       "      <th>compound_id</th>\n",
       "      <th>base_rdkit_smiles</th>\n",
       "      <th>relation</th>\n",
       "      <th>pct_inhib</th>\n",
       "      <th>active</th>\n",
       "    </tr>\n",
       "  </thead>\n",
       "  <tbody>\n",
       "    <tr>\n",
       "      <th>0</th>\n",
       "      <td>1-methyl-4- phenylpyridinium</td>\n",
       "      <td>C[n+]1ccc(-c2ccccc2)cc1</td>\n",
       "      <td>NaN</td>\n",
       "      <td>19.9</td>\n",
       "      <td>0</td>\n",
       "    </tr>\n",
       "  </tbody>\n",
       "</table>\n",
       "</div>"
      ],
      "text/plain": [
       "                    compound_id        base_rdkit_smiles  relation  pct_inhib  \\\n",
       "0  1-methyl-4- phenylpyridinium  C[n+]1ccc(-c2ccccc2)cc1       NaN       19.9   \n",
       "\n",
       "   active  \n",
       "0       0  "
      ]
     },
     "metadata": {},
     "output_type": "display_data"
    },
    {
     "name": "stdout",
     "output_type": "stream",
     "text": [
      "/global/home/users/amandapaulson/data/curated_datasets/combined_ic50_inhibitor_data_cur_train_valid_test_random_1675990e-e55b-48e8-9227-c2db8dd3497e.csv\n"
     ]
    },
    {
     "data": {
      "text/html": [
       "<div>\n",
       "<style scoped>\n",
       "    .dataframe tbody tr th:only-of-type {\n",
       "        vertical-align: middle;\n",
       "    }\n",
       "\n",
       "    .dataframe tbody tr th {\n",
       "        vertical-align: top;\n",
       "    }\n",
       "\n",
       "    .dataframe thead th {\n",
       "        text-align: right;\n",
       "    }\n",
       "</style>\n",
       "<table border=\"1\" class=\"dataframe\">\n",
       "  <thead>\n",
       "    <tr style=\"text-align: right;\">\n",
       "      <th></th>\n",
       "      <th>cmpd_id</th>\n",
       "      <th>subset</th>\n",
       "      <th>fold</th>\n",
       "    </tr>\n",
       "  </thead>\n",
       "  <tbody>\n",
       "    <tr>\n",
       "      <th>0</th>\n",
       "      <td>CHEMBL229128</td>\n",
       "      <td>train</td>\n",
       "      <td>0</td>\n",
       "    </tr>\n",
       "  </tbody>\n",
       "</table>\n",
       "</div>"
      ],
      "text/plain": [
       "        cmpd_id subset  fold\n",
       "0  CHEMBL229128  train     0"
      ]
     },
     "metadata": {},
     "output_type": "display_data"
    },
    {
     "name": "stdout",
     "output_type": "stream",
     "text": [
      "/global/home/users/amandapaulson/data/curated_datasets/combined_substrate_data_cur_train_valid_test_random_ea5505cf-05ab-4b99-95a0-c9c39eb895b5.csv\n"
     ]
    },
    {
     "data": {
      "text/html": [
       "<div>\n",
       "<style scoped>\n",
       "    .dataframe tbody tr th:only-of-type {\n",
       "        vertical-align: middle;\n",
       "    }\n",
       "\n",
       "    .dataframe tbody tr th {\n",
       "        vertical-align: top;\n",
       "    }\n",
       "\n",
       "    .dataframe thead th {\n",
       "        text-align: right;\n",
       "    }\n",
       "</style>\n",
       "<table border=\"1\" class=\"dataframe\">\n",
       "  <thead>\n",
       "    <tr style=\"text-align: right;\">\n",
       "      <th></th>\n",
       "      <th>cmpd_id</th>\n",
       "      <th>subset</th>\n",
       "      <th>fold</th>\n",
       "    </tr>\n",
       "  </thead>\n",
       "  <tbody>\n",
       "    <tr>\n",
       "      <th>0</th>\n",
       "      <td>2-Naphthalenebutanamide(641233)</td>\n",
       "      <td>train</td>\n",
       "      <td>0</td>\n",
       "    </tr>\n",
       "  </tbody>\n",
       "</table>\n",
       "</div>"
      ],
      "text/plain": [
       "                           cmpd_id subset  fold\n",
       "0  2-Naphthalenebutanamide(641233)  train     0"
      ]
     },
     "metadata": {},
     "output_type": "display_data"
    },
    {
     "name": "stdout",
     "output_type": "stream",
     "text": [
      "/global/home/users/amandapaulson/data/curated_datasets/combined_substrate_data_cur_train_valid_test_fingerprint_1176149d-2c84-49de-8c9b-6f7a0f469d08.csv\n"
     ]
    },
    {
     "data": {
      "text/html": [
       "<div>\n",
       "<style scoped>\n",
       "    .dataframe tbody tr th:only-of-type {\n",
       "        vertical-align: middle;\n",
       "    }\n",
       "\n",
       "    .dataframe tbody tr th {\n",
       "        vertical-align: top;\n",
       "    }\n",
       "\n",
       "    .dataframe thead th {\n",
       "        text-align: right;\n",
       "    }\n",
       "</style>\n",
       "<table border=\"1\" class=\"dataframe\">\n",
       "  <thead>\n",
       "    <tr style=\"text-align: right;\">\n",
       "      <th></th>\n",
       "      <th>cmpd_id</th>\n",
       "      <th>subset</th>\n",
       "      <th>fold</th>\n",
       "    </tr>\n",
       "  </thead>\n",
       "  <tbody>\n",
       "    <tr>\n",
       "      <th>0</th>\n",
       "      <td>2-Naphthalenebutanamide(641233)</td>\n",
       "      <td>train</td>\n",
       "      <td>0</td>\n",
       "    </tr>\n",
       "  </tbody>\n",
       "</table>\n",
       "</div>"
      ],
      "text/plain": [
       "                           cmpd_id subset  fold\n",
       "0  2-Naphthalenebutanamide(641233)  train     0"
      ]
     },
     "metadata": {},
     "output_type": "display_data"
    },
    {
     "name": "stdout",
     "output_type": "stream",
     "text": [
      "/global/home/users/amandapaulson/data/curated_datasets/combined_class_inhibitor_data_cur_train_valid_test_scaffold_31934b3e-0f25-4bda-b639-55472648a36c.csv\n"
     ]
    },
    {
     "data": {
      "text/html": [
       "<div>\n",
       "<style scoped>\n",
       "    .dataframe tbody tr th:only-of-type {\n",
       "        vertical-align: middle;\n",
       "    }\n",
       "\n",
       "    .dataframe tbody tr th {\n",
       "        vertical-align: top;\n",
       "    }\n",
       "\n",
       "    .dataframe thead th {\n",
       "        text-align: right;\n",
       "    }\n",
       "</style>\n",
       "<table border=\"1\" class=\"dataframe\">\n",
       "  <thead>\n",
       "    <tr style=\"text-align: right;\">\n",
       "      <th></th>\n",
       "      <th>cmpd_id</th>\n",
       "      <th>subset</th>\n",
       "      <th>fold</th>\n",
       "    </tr>\n",
       "  </thead>\n",
       "  <tbody>\n",
       "    <tr>\n",
       "      <th>0</th>\n",
       "      <td>CHEMBL54</td>\n",
       "      <td>train</td>\n",
       "      <td>0</td>\n",
       "    </tr>\n",
       "  </tbody>\n",
       "</table>\n",
       "</div>"
      ],
      "text/plain": [
       "    cmpd_id subset  fold\n",
       "0  CHEMBL54  train     0"
      ]
     },
     "metadata": {},
     "output_type": "display_data"
    },
    {
     "name": "stdout",
     "output_type": "stream",
     "text": [
      "/global/home/users/amandapaulson/data/curated_datasets/combined_class_inhibitor_data_cur_train_valid_test_fingerprint_b75234da-dd2c-458b-8e1f-98b688046403.csv\n"
     ]
    },
    {
     "data": {
      "text/html": [
       "<div>\n",
       "<style scoped>\n",
       "    .dataframe tbody tr th:only-of-type {\n",
       "        vertical-align: middle;\n",
       "    }\n",
       "\n",
       "    .dataframe tbody tr th {\n",
       "        vertical-align: top;\n",
       "    }\n",
       "\n",
       "    .dataframe thead th {\n",
       "        text-align: right;\n",
       "    }\n",
       "</style>\n",
       "<table border=\"1\" class=\"dataframe\">\n",
       "  <thead>\n",
       "    <tr style=\"text-align: right;\">\n",
       "      <th></th>\n",
       "      <th>cmpd_id</th>\n",
       "      <th>subset</th>\n",
       "      <th>fold</th>\n",
       "    </tr>\n",
       "  </thead>\n",
       "  <tbody>\n",
       "    <tr>\n",
       "      <th>0</th>\n",
       "      <td>CHEMBL54</td>\n",
       "      <td>train</td>\n",
       "      <td>0</td>\n",
       "    </tr>\n",
       "  </tbody>\n",
       "</table>\n",
       "</div>"
      ],
      "text/plain": [
       "    cmpd_id subset  fold\n",
       "0  CHEMBL54  train     0"
      ]
     },
     "metadata": {},
     "output_type": "display_data"
    },
    {
     "name": "stdout",
     "output_type": "stream",
     "text": [
      "/global/home/users/amandapaulson/data/curated_datasets/combined_substrate_data_cur_train_valid_test_fingerprint_55a1d301-d2c0-45d1-a9c4-8a136a66268f.csv\n"
     ]
    },
    {
     "data": {
      "text/html": [
       "<div>\n",
       "<style scoped>\n",
       "    .dataframe tbody tr th:only-of-type {\n",
       "        vertical-align: middle;\n",
       "    }\n",
       "\n",
       "    .dataframe tbody tr th {\n",
       "        vertical-align: top;\n",
       "    }\n",
       "\n",
       "    .dataframe thead th {\n",
       "        text-align: right;\n",
       "    }\n",
       "</style>\n",
       "<table border=\"1\" class=\"dataframe\">\n",
       "  <thead>\n",
       "    <tr style=\"text-align: right;\">\n",
       "      <th></th>\n",
       "      <th>cmpd_id</th>\n",
       "      <th>subset</th>\n",
       "      <th>fold</th>\n",
       "    </tr>\n",
       "  </thead>\n",
       "  <tbody>\n",
       "    <tr>\n",
       "      <th>0</th>\n",
       "      <td>2-Naphthalenebutanamide(641233)</td>\n",
       "      <td>train</td>\n",
       "      <td>0</td>\n",
       "    </tr>\n",
       "  </tbody>\n",
       "</table>\n",
       "</div>"
      ],
      "text/plain": [
       "                           cmpd_id subset  fold\n",
       "0  2-Naphthalenebutanamide(641233)  train     0"
      ]
     },
     "metadata": {},
     "output_type": "display_data"
    },
    {
     "name": "stdout",
     "output_type": "stream",
     "text": [
      "/global/home/users/amandapaulson/data/curated_datasets/combined_ic50_inhibitor_data_cur_train_valid_test_scaffold_754a5b73-fcca-4b0a-a823-80f2717ba6fd.csv\n"
     ]
    },
    {
     "data": {
      "text/html": [
       "<div>\n",
       "<style scoped>\n",
       "    .dataframe tbody tr th:only-of-type {\n",
       "        vertical-align: middle;\n",
       "    }\n",
       "\n",
       "    .dataframe tbody tr th {\n",
       "        vertical-align: top;\n",
       "    }\n",
       "\n",
       "    .dataframe thead th {\n",
       "        text-align: right;\n",
       "    }\n",
       "</style>\n",
       "<table border=\"1\" class=\"dataframe\">\n",
       "  <thead>\n",
       "    <tr style=\"text-align: right;\">\n",
       "      <th></th>\n",
       "      <th>cmpd_id</th>\n",
       "      <th>subset</th>\n",
       "      <th>fold</th>\n",
       "    </tr>\n",
       "  </thead>\n",
       "  <tbody>\n",
       "    <tr>\n",
       "      <th>0</th>\n",
       "      <td>CHEMBL229128</td>\n",
       "      <td>train</td>\n",
       "      <td>0</td>\n",
       "    </tr>\n",
       "  </tbody>\n",
       "</table>\n",
       "</div>"
      ],
      "text/plain": [
       "        cmpd_id subset  fold\n",
       "0  CHEMBL229128  train     0"
      ]
     },
     "metadata": {},
     "output_type": "display_data"
    },
    {
     "name": "stdout",
     "output_type": "stream",
     "text": [
      "/global/home/users/amandapaulson/data/curated_datasets/combined_ic50_inhibitor_data_cur_train_valid_test_fingerprint_8efc2521-830e-47fa-8c60-ed528b76f9a1.csv\n"
     ]
    },
    {
     "data": {
      "text/html": [
       "<div>\n",
       "<style scoped>\n",
       "    .dataframe tbody tr th:only-of-type {\n",
       "        vertical-align: middle;\n",
       "    }\n",
       "\n",
       "    .dataframe tbody tr th {\n",
       "        vertical-align: top;\n",
       "    }\n",
       "\n",
       "    .dataframe thead th {\n",
       "        text-align: right;\n",
       "    }\n",
       "</style>\n",
       "<table border=\"1\" class=\"dataframe\">\n",
       "  <thead>\n",
       "    <tr style=\"text-align: right;\">\n",
       "      <th></th>\n",
       "      <th>cmpd_id</th>\n",
       "      <th>subset</th>\n",
       "      <th>fold</th>\n",
       "    </tr>\n",
       "  </thead>\n",
       "  <tbody>\n",
       "    <tr>\n",
       "      <th>0</th>\n",
       "      <td>CHEMBL229128</td>\n",
       "      <td>train</td>\n",
       "      <td>0</td>\n",
       "    </tr>\n",
       "  </tbody>\n",
       "</table>\n",
       "</div>"
      ],
      "text/plain": [
       "        cmpd_id subset  fold\n",
       "0  CHEMBL229128  train     0"
      ]
     },
     "metadata": {},
     "output_type": "display_data"
    },
    {
     "name": "stdout",
     "output_type": "stream",
     "text": [
      "/global/home/users/amandapaulson/data/curated_datasets/combined_pct_inhibitor_data_cur_train_valid_test_fingerprint_301908ba-2a8b-4fe4-9f2e-2a8a72c2d252.csv\n"
     ]
    },
    {
     "data": {
      "text/html": [
       "<div>\n",
       "<style scoped>\n",
       "    .dataframe tbody tr th:only-of-type {\n",
       "        vertical-align: middle;\n",
       "    }\n",
       "\n",
       "    .dataframe tbody tr th {\n",
       "        vertical-align: top;\n",
       "    }\n",
       "\n",
       "    .dataframe thead th {\n",
       "        text-align: right;\n",
       "    }\n",
       "</style>\n",
       "<table border=\"1\" class=\"dataframe\">\n",
       "  <thead>\n",
       "    <tr style=\"text-align: right;\">\n",
       "      <th></th>\n",
       "      <th>cmpd_id</th>\n",
       "      <th>subset</th>\n",
       "      <th>fold</th>\n",
       "    </tr>\n",
       "  </thead>\n",
       "  <tbody>\n",
       "    <tr>\n",
       "      <th>0</th>\n",
       "      <td>mk571</td>\n",
       "      <td>train</td>\n",
       "      <td>0</td>\n",
       "    </tr>\n",
       "  </tbody>\n",
       "</table>\n",
       "</div>"
      ],
      "text/plain": [
       "  cmpd_id subset  fold\n",
       "0   mk571  train     0"
      ]
     },
     "metadata": {},
     "output_type": "display_data"
    },
    {
     "name": "stdout",
     "output_type": "stream",
     "text": [
      "/global/home/users/amandapaulson/data/curated_datasets/combined_pct_inhibitor_data_cur_train_valid_test_fingerprint_89f8ab28-ae70-4892-9977-b93cbd42dc8f.csv\n"
     ]
    },
    {
     "data": {
      "text/html": [
       "<div>\n",
       "<style scoped>\n",
       "    .dataframe tbody tr th:only-of-type {\n",
       "        vertical-align: middle;\n",
       "    }\n",
       "\n",
       "    .dataframe tbody tr th {\n",
       "        vertical-align: top;\n",
       "    }\n",
       "\n",
       "    .dataframe thead th {\n",
       "        text-align: right;\n",
       "    }\n",
       "</style>\n",
       "<table border=\"1\" class=\"dataframe\">\n",
       "  <thead>\n",
       "    <tr style=\"text-align: right;\">\n",
       "      <th></th>\n",
       "      <th>cmpd_id</th>\n",
       "      <th>subset</th>\n",
       "      <th>fold</th>\n",
       "    </tr>\n",
       "  </thead>\n",
       "  <tbody>\n",
       "    <tr>\n",
       "      <th>0</th>\n",
       "      <td>mk571</td>\n",
       "      <td>train</td>\n",
       "      <td>0</td>\n",
       "    </tr>\n",
       "  </tbody>\n",
       "</table>\n",
       "</div>"
      ],
      "text/plain": [
       "  cmpd_id subset  fold\n",
       "0   mk571  train     0"
      ]
     },
     "metadata": {},
     "output_type": "display_data"
    }
   ],
   "source": [
    "# check your response columns by looking at each file in turn\n",
    "for dset in dataset_keys:\n",
    "    df=pd.read_csv(dset)\n",
    "    print(dset)\n",
    "    display(df.head(1))"
   ]
  },
  {
   "cell_type": "code",
   "execution_count": 12,
   "metadata": {},
   "outputs": [],
   "source": [
    "# set response_cols to all cols possible with no spaces between\n",
    "response_cols=[\n",
    "    \"substrate\",\n",
    "    \"pIC50,active\",\n",
    "    \"inhibitor\",\n",
    "    \"pct_inhib,active\"\n",
    "]"
   ]
  },
  {
   "cell_type": "code",
   "execution_count": 13,
   "metadata": {},
   "outputs": [],
   "source": [
    "# choose an informative name for the collection \n",
    "# of models you will create for each dataset. \n",
    "# useful for separating them later\n",
    "collections=[\n",
    "    \"BSEP_substrate_class\",\n",
    "    \"BSEP_pIC50_reg\",\n",
    "    \"BSEP_inhibitor_class\",\n",
    "    \"BSEP_pct_inhib_reg\"\n",
    "]"
   ]
  },
  {
   "cell_type": "code",
   "execution_count": 14,
   "metadata": {},
   "outputs": [
    {
     "data": {
      "text/html": [
       "<div>\n",
       "<style scoped>\n",
       "    .dataframe tbody tr th:only-of-type {\n",
       "        vertical-align: middle;\n",
       "    }\n",
       "\n",
       "    .dataframe tbody tr th {\n",
       "        vertical-align: top;\n",
       "    }\n",
       "\n",
       "    .dataframe thead th {\n",
       "        text-align: right;\n",
       "    }\n",
       "</style>\n",
       "<table border=\"1\" class=\"dataframe\">\n",
       "  <thead>\n",
       "    <tr style=\"text-align: right;\">\n",
       "      <th></th>\n",
       "      <th>dataset_key</th>\n",
       "      <th>response_cols</th>\n",
       "      <th>collection</th>\n",
       "    </tr>\n",
       "  </thead>\n",
       "  <tbody>\n",
       "  </tbody>\n",
       "</table>\n",
       "</div>"
      ],
      "text/plain": [
       "Empty DataFrame\n",
       "Columns: [dataset_key, response_cols, collection]\n",
       "Index: []"
      ]
     },
     "execution_count": 14,
     "metadata": {},
     "output_type": "execute_result"
    }
   ],
   "source": [
    "# create empty dataframe and populate it with each list\n",
    "sl=pd.DataFrame([],columns=['dataset_key','response_cols','collection'])\n",
    "sl"
   ]
  },
  {
   "cell_type": "code",
   "execution_count": 15,
   "metadata": {},
   "outputs": [
    {
     "data": {
      "text/html": [
       "<div>\n",
       "<style scoped>\n",
       "    .dataframe tbody tr th:only-of-type {\n",
       "        vertical-align: middle;\n",
       "    }\n",
       "\n",
       "    .dataframe tbody tr th {\n",
       "        vertical-align: top;\n",
       "    }\n",
       "\n",
       "    .dataframe thead th {\n",
       "        text-align: right;\n",
       "    }\n",
       "</style>\n",
       "<table border=\"1\" class=\"dataframe\">\n",
       "  <thead>\n",
       "    <tr style=\"text-align: right;\">\n",
       "      <th></th>\n",
       "      <th>dataset_key</th>\n",
       "      <th>response_cols</th>\n",
       "      <th>collection</th>\n",
       "    </tr>\n",
       "  </thead>\n",
       "  <tbody>\n",
       "    <tr>\n",
       "      <th>0</th>\n",
       "      <td>/global/home/users/amandapaulson/data/curated_...</td>\n",
       "      <td>NaN</td>\n",
       "      <td>NaN</td>\n",
       "    </tr>\n",
       "    <tr>\n",
       "      <th>1</th>\n",
       "      <td>/global/home/users/amandapaulson/data/curated_...</td>\n",
       "      <td>NaN</td>\n",
       "      <td>NaN</td>\n",
       "    </tr>\n",
       "    <tr>\n",
       "      <th>2</th>\n",
       "      <td>/global/home/users/amandapaulson/data/curated_...</td>\n",
       "      <td>NaN</td>\n",
       "      <td>NaN</td>\n",
       "    </tr>\n",
       "    <tr>\n",
       "      <th>3</th>\n",
       "      <td>/global/home/users/amandapaulson/data/curated_...</td>\n",
       "      <td>NaN</td>\n",
       "      <td>NaN</td>\n",
       "    </tr>\n",
       "    <tr>\n",
       "      <th>4</th>\n",
       "      <td>/global/home/users/amandapaulson/data/curated_...</td>\n",
       "      <td>NaN</td>\n",
       "      <td>NaN</td>\n",
       "    </tr>\n",
       "    <tr>\n",
       "      <th>5</th>\n",
       "      <td>/global/home/users/amandapaulson/data/curated_...</td>\n",
       "      <td>NaN</td>\n",
       "      <td>NaN</td>\n",
       "    </tr>\n",
       "    <tr>\n",
       "      <th>6</th>\n",
       "      <td>/global/home/users/amandapaulson/data/curated_...</td>\n",
       "      <td>NaN</td>\n",
       "      <td>NaN</td>\n",
       "    </tr>\n",
       "    <tr>\n",
       "      <th>7</th>\n",
       "      <td>/global/home/users/amandapaulson/data/curated_...</td>\n",
       "      <td>NaN</td>\n",
       "      <td>NaN</td>\n",
       "    </tr>\n",
       "    <tr>\n",
       "      <th>8</th>\n",
       "      <td>/global/home/users/amandapaulson/data/curated_...</td>\n",
       "      <td>NaN</td>\n",
       "      <td>NaN</td>\n",
       "    </tr>\n",
       "    <tr>\n",
       "      <th>9</th>\n",
       "      <td>/global/home/users/amandapaulson/data/curated_...</td>\n",
       "      <td>NaN</td>\n",
       "      <td>NaN</td>\n",
       "    </tr>\n",
       "    <tr>\n",
       "      <th>10</th>\n",
       "      <td>/global/home/users/amandapaulson/data/curated_...</td>\n",
       "      <td>NaN</td>\n",
       "      <td>NaN</td>\n",
       "    </tr>\n",
       "    <tr>\n",
       "      <th>11</th>\n",
       "      <td>/global/home/users/amandapaulson/data/curated_...</td>\n",
       "      <td>NaN</td>\n",
       "      <td>NaN</td>\n",
       "    </tr>\n",
       "    <tr>\n",
       "      <th>12</th>\n",
       "      <td>/global/home/users/amandapaulson/data/curated_...</td>\n",
       "      <td>NaN</td>\n",
       "      <td>NaN</td>\n",
       "    </tr>\n",
       "    <tr>\n",
       "      <th>13</th>\n",
       "      <td>/global/home/users/amandapaulson/data/curated_...</td>\n",
       "      <td>NaN</td>\n",
       "      <td>NaN</td>\n",
       "    </tr>\n",
       "    <tr>\n",
       "      <th>14</th>\n",
       "      <td>/global/home/users/amandapaulson/data/curated_...</td>\n",
       "      <td>NaN</td>\n",
       "      <td>NaN</td>\n",
       "    </tr>\n",
       "    <tr>\n",
       "      <th>15</th>\n",
       "      <td>/global/home/users/amandapaulson/data/curated_...</td>\n",
       "      <td>NaN</td>\n",
       "      <td>NaN</td>\n",
       "    </tr>\n",
       "    <tr>\n",
       "      <th>16</th>\n",
       "      <td>/global/home/users/amandapaulson/data/curated_...</td>\n",
       "      <td>NaN</td>\n",
       "      <td>NaN</td>\n",
       "    </tr>\n",
       "    <tr>\n",
       "      <th>17</th>\n",
       "      <td>/global/home/users/amandapaulson/data/curated_...</td>\n",
       "      <td>NaN</td>\n",
       "      <td>NaN</td>\n",
       "    </tr>\n",
       "    <tr>\n",
       "      <th>18</th>\n",
       "      <td>/global/home/users/amandapaulson/data/curated_...</td>\n",
       "      <td>NaN</td>\n",
       "      <td>NaN</td>\n",
       "    </tr>\n",
       "    <tr>\n",
       "      <th>19</th>\n",
       "      <td>/global/home/users/amandapaulson/data/curated_...</td>\n",
       "      <td>NaN</td>\n",
       "      <td>NaN</td>\n",
       "    </tr>\n",
       "    <tr>\n",
       "      <th>20</th>\n",
       "      <td>/global/home/users/amandapaulson/data/curated_...</td>\n",
       "      <td>NaN</td>\n",
       "      <td>NaN</td>\n",
       "    </tr>\n",
       "    <tr>\n",
       "      <th>21</th>\n",
       "      <td>/global/home/users/amandapaulson/data/curated_...</td>\n",
       "      <td>NaN</td>\n",
       "      <td>NaN</td>\n",
       "    </tr>\n",
       "    <tr>\n",
       "      <th>22</th>\n",
       "      <td>/global/home/users/amandapaulson/data/curated_...</td>\n",
       "      <td>NaN</td>\n",
       "      <td>NaN</td>\n",
       "    </tr>\n",
       "    <tr>\n",
       "      <th>23</th>\n",
       "      <td>/global/home/users/amandapaulson/data/curated_...</td>\n",
       "      <td>NaN</td>\n",
       "      <td>NaN</td>\n",
       "    </tr>\n",
       "    <tr>\n",
       "      <th>24</th>\n",
       "      <td>/global/home/users/amandapaulson/data/curated_...</td>\n",
       "      <td>NaN</td>\n",
       "      <td>NaN</td>\n",
       "    </tr>\n",
       "    <tr>\n",
       "      <th>25</th>\n",
       "      <td>/global/home/users/amandapaulson/data/curated_...</td>\n",
       "      <td>NaN</td>\n",
       "      <td>NaN</td>\n",
       "    </tr>\n",
       "    <tr>\n",
       "      <th>26</th>\n",
       "      <td>/global/home/users/amandapaulson/data/curated_...</td>\n",
       "      <td>NaN</td>\n",
       "      <td>NaN</td>\n",
       "    </tr>\n",
       "    <tr>\n",
       "      <th>27</th>\n",
       "      <td>/global/home/users/amandapaulson/data/curated_...</td>\n",
       "      <td>NaN</td>\n",
       "      <td>NaN</td>\n",
       "    </tr>\n",
       "    <tr>\n",
       "      <th>28</th>\n",
       "      <td>/global/home/users/amandapaulson/data/curated_...</td>\n",
       "      <td>NaN</td>\n",
       "      <td>NaN</td>\n",
       "    </tr>\n",
       "    <tr>\n",
       "      <th>29</th>\n",
       "      <td>/global/home/users/amandapaulson/data/curated_...</td>\n",
       "      <td>NaN</td>\n",
       "      <td>NaN</td>\n",
       "    </tr>\n",
       "    <tr>\n",
       "      <th>30</th>\n",
       "      <td>/global/home/users/amandapaulson/data/curated_...</td>\n",
       "      <td>NaN</td>\n",
       "      <td>NaN</td>\n",
       "    </tr>\n",
       "    <tr>\n",
       "      <th>31</th>\n",
       "      <td>/global/home/users/amandapaulson/data/curated_...</td>\n",
       "      <td>NaN</td>\n",
       "      <td>NaN</td>\n",
       "    </tr>\n",
       "    <tr>\n",
       "      <th>32</th>\n",
       "      <td>/global/home/users/amandapaulson/data/curated_...</td>\n",
       "      <td>NaN</td>\n",
       "      <td>NaN</td>\n",
       "    </tr>\n",
       "    <tr>\n",
       "      <th>33</th>\n",
       "      <td>/global/home/users/amandapaulson/data/curated_...</td>\n",
       "      <td>NaN</td>\n",
       "      <td>NaN</td>\n",
       "    </tr>\n",
       "    <tr>\n",
       "      <th>34</th>\n",
       "      <td>/global/home/users/amandapaulson/data/curated_...</td>\n",
       "      <td>NaN</td>\n",
       "      <td>NaN</td>\n",
       "    </tr>\n",
       "    <tr>\n",
       "      <th>35</th>\n",
       "      <td>/global/home/users/amandapaulson/data/curated_...</td>\n",
       "      <td>NaN</td>\n",
       "      <td>NaN</td>\n",
       "    </tr>\n",
       "    <tr>\n",
       "      <th>36</th>\n",
       "      <td>/global/home/users/amandapaulson/data/curated_...</td>\n",
       "      <td>NaN</td>\n",
       "      <td>NaN</td>\n",
       "    </tr>\n",
       "    <tr>\n",
       "      <th>37</th>\n",
       "      <td>/global/home/users/amandapaulson/data/curated_...</td>\n",
       "      <td>NaN</td>\n",
       "      <td>NaN</td>\n",
       "    </tr>\n",
       "    <tr>\n",
       "      <th>38</th>\n",
       "      <td>/global/home/users/amandapaulson/data/curated_...</td>\n",
       "      <td>NaN</td>\n",
       "      <td>NaN</td>\n",
       "    </tr>\n",
       "    <tr>\n",
       "      <th>39</th>\n",
       "      <td>/global/home/users/amandapaulson/data/curated_...</td>\n",
       "      <td>NaN</td>\n",
       "      <td>NaN</td>\n",
       "    </tr>\n",
       "    <tr>\n",
       "      <th>40</th>\n",
       "      <td>/global/home/users/amandapaulson/data/curated_...</td>\n",
       "      <td>NaN</td>\n",
       "      <td>NaN</td>\n",
       "    </tr>\n",
       "    <tr>\n",
       "      <th>41</th>\n",
       "      <td>/global/home/users/amandapaulson/data/curated_...</td>\n",
       "      <td>NaN</td>\n",
       "      <td>NaN</td>\n",
       "    </tr>\n",
       "    <tr>\n",
       "      <th>42</th>\n",
       "      <td>/global/home/users/amandapaulson/data/curated_...</td>\n",
       "      <td>NaN</td>\n",
       "      <td>NaN</td>\n",
       "    </tr>\n",
       "    <tr>\n",
       "      <th>43</th>\n",
       "      <td>/global/home/users/amandapaulson/data/curated_...</td>\n",
       "      <td>NaN</td>\n",
       "      <td>NaN</td>\n",
       "    </tr>\n",
       "    <tr>\n",
       "      <th>44</th>\n",
       "      <td>/global/home/users/amandapaulson/data/curated_...</td>\n",
       "      <td>NaN</td>\n",
       "      <td>NaN</td>\n",
       "    </tr>\n",
       "    <tr>\n",
       "      <th>45</th>\n",
       "      <td>/global/home/users/amandapaulson/data/curated_...</td>\n",
       "      <td>NaN</td>\n",
       "      <td>NaN</td>\n",
       "    </tr>\n",
       "    <tr>\n",
       "      <th>46</th>\n",
       "      <td>/global/home/users/amandapaulson/data/curated_...</td>\n",
       "      <td>NaN</td>\n",
       "      <td>NaN</td>\n",
       "    </tr>\n",
       "    <tr>\n",
       "      <th>47</th>\n",
       "      <td>/global/home/users/amandapaulson/data/curated_...</td>\n",
       "      <td>NaN</td>\n",
       "      <td>NaN</td>\n",
       "    </tr>\n",
       "  </tbody>\n",
       "</table>\n",
       "</div>"
      ],
      "text/plain": [
       "                                          dataset_key response_cols collection\n",
       "0   /global/home/users/amandapaulson/data/curated_...           NaN        NaN\n",
       "1   /global/home/users/amandapaulson/data/curated_...           NaN        NaN\n",
       "2   /global/home/users/amandapaulson/data/curated_...           NaN        NaN\n",
       "3   /global/home/users/amandapaulson/data/curated_...           NaN        NaN\n",
       "4   /global/home/users/amandapaulson/data/curated_...           NaN        NaN\n",
       "5   /global/home/users/amandapaulson/data/curated_...           NaN        NaN\n",
       "6   /global/home/users/amandapaulson/data/curated_...           NaN        NaN\n",
       "7   /global/home/users/amandapaulson/data/curated_...           NaN        NaN\n",
       "8   /global/home/users/amandapaulson/data/curated_...           NaN        NaN\n",
       "9   /global/home/users/amandapaulson/data/curated_...           NaN        NaN\n",
       "10  /global/home/users/amandapaulson/data/curated_...           NaN        NaN\n",
       "11  /global/home/users/amandapaulson/data/curated_...           NaN        NaN\n",
       "12  /global/home/users/amandapaulson/data/curated_...           NaN        NaN\n",
       "13  /global/home/users/amandapaulson/data/curated_...           NaN        NaN\n",
       "14  /global/home/users/amandapaulson/data/curated_...           NaN        NaN\n",
       "15  /global/home/users/amandapaulson/data/curated_...           NaN        NaN\n",
       "16  /global/home/users/amandapaulson/data/curated_...           NaN        NaN\n",
       "17  /global/home/users/amandapaulson/data/curated_...           NaN        NaN\n",
       "18  /global/home/users/amandapaulson/data/curated_...           NaN        NaN\n",
       "19  /global/home/users/amandapaulson/data/curated_...           NaN        NaN\n",
       "20  /global/home/users/amandapaulson/data/curated_...           NaN        NaN\n",
       "21  /global/home/users/amandapaulson/data/curated_...           NaN        NaN\n",
       "22  /global/home/users/amandapaulson/data/curated_...           NaN        NaN\n",
       "23  /global/home/users/amandapaulson/data/curated_...           NaN        NaN\n",
       "24  /global/home/users/amandapaulson/data/curated_...           NaN        NaN\n",
       "25  /global/home/users/amandapaulson/data/curated_...           NaN        NaN\n",
       "26  /global/home/users/amandapaulson/data/curated_...           NaN        NaN\n",
       "27  /global/home/users/amandapaulson/data/curated_...           NaN        NaN\n",
       "28  /global/home/users/amandapaulson/data/curated_...           NaN        NaN\n",
       "29  /global/home/users/amandapaulson/data/curated_...           NaN        NaN\n",
       "30  /global/home/users/amandapaulson/data/curated_...           NaN        NaN\n",
       "31  /global/home/users/amandapaulson/data/curated_...           NaN        NaN\n",
       "32  /global/home/users/amandapaulson/data/curated_...           NaN        NaN\n",
       "33  /global/home/users/amandapaulson/data/curated_...           NaN        NaN\n",
       "34  /global/home/users/amandapaulson/data/curated_...           NaN        NaN\n",
       "35  /global/home/users/amandapaulson/data/curated_...           NaN        NaN\n",
       "36  /global/home/users/amandapaulson/data/curated_...           NaN        NaN\n",
       "37  /global/home/users/amandapaulson/data/curated_...           NaN        NaN\n",
       "38  /global/home/users/amandapaulson/data/curated_...           NaN        NaN\n",
       "39  /global/home/users/amandapaulson/data/curated_...           NaN        NaN\n",
       "40  /global/home/users/amandapaulson/data/curated_...           NaN        NaN\n",
       "41  /global/home/users/amandapaulson/data/curated_...           NaN        NaN\n",
       "42  /global/home/users/amandapaulson/data/curated_...           NaN        NaN\n",
       "43  /global/home/users/amandapaulson/data/curated_...           NaN        NaN\n",
       "44  /global/home/users/amandapaulson/data/curated_...           NaN        NaN\n",
       "45  /global/home/users/amandapaulson/data/curated_...           NaN        NaN\n",
       "46  /global/home/users/amandapaulson/data/curated_...           NaN        NaN\n",
       "47  /global/home/users/amandapaulson/data/curated_...           NaN        NaN"
      ]
     },
     "execution_count": 15,
     "metadata": {},
     "output_type": "execute_result"
    }
   ],
   "source": [
    "sl.dataset_key=dataset_keys\n",
    "sl"
   ]
  },
  {
   "cell_type": "code",
   "execution_count": 16,
   "metadata": {},
   "outputs": [
    {
     "ename": "ValueError",
     "evalue": "Length of values (4) does not match length of index (48)",
     "output_type": "error",
     "traceback": [
      "\u001b[0;31m---------------------------------------------------------------------------\u001b[0m",
      "\u001b[0;31mValueError\u001b[0m                                Traceback (most recent call last)",
      "\u001b[0;32m<ipython-input-16-d1690d5a6ad0>\u001b[0m in \u001b[0;36m<module>\u001b[0;34m\u001b[0m\n\u001b[0;32m----> 1\u001b[0;31m \u001b[0msl\u001b[0m\u001b[0;34m.\u001b[0m\u001b[0mresponse_cols\u001b[0m\u001b[0;34m=\u001b[0m\u001b[0mresponse_cols\u001b[0m\u001b[0;34m\u001b[0m\u001b[0;34m\u001b[0m\u001b[0m\n\u001b[0m\u001b[1;32m      2\u001b[0m \u001b[0msl\u001b[0m\u001b[0;34m\u001b[0m\u001b[0;34m\u001b[0m\u001b[0m\n",
      "\u001b[0;32m~/.conda/envs/atomsci/lib/python3.8/site-packages/pandas/core/generic.py\u001b[0m in \u001b[0;36m__setattr__\u001b[0;34m(self, name, value)\u001b[0m\n\u001b[1;32m   5514\u001b[0m                     \u001b[0mobject\u001b[0m\u001b[0;34m.\u001b[0m\u001b[0m__setattr__\u001b[0m\u001b[0;34m(\u001b[0m\u001b[0mself\u001b[0m\u001b[0;34m,\u001b[0m \u001b[0mname\u001b[0m\u001b[0;34m,\u001b[0m \u001b[0mvalue\u001b[0m\u001b[0;34m)\u001b[0m\u001b[0;34m\u001b[0m\u001b[0;34m\u001b[0m\u001b[0m\n\u001b[1;32m   5515\u001b[0m                 \u001b[0;32melif\u001b[0m \u001b[0mname\u001b[0m \u001b[0;32min\u001b[0m \u001b[0mself\u001b[0m\u001b[0;34m.\u001b[0m\u001b[0m_info_axis\u001b[0m\u001b[0;34m:\u001b[0m\u001b[0;34m\u001b[0m\u001b[0;34m\u001b[0m\u001b[0m\n\u001b[0;32m-> 5516\u001b[0;31m                     \u001b[0mself\u001b[0m\u001b[0;34m[\u001b[0m\u001b[0mname\u001b[0m\u001b[0;34m]\u001b[0m \u001b[0;34m=\u001b[0m \u001b[0mvalue\u001b[0m\u001b[0;34m\u001b[0m\u001b[0;34m\u001b[0m\u001b[0m\n\u001b[0m\u001b[1;32m   5517\u001b[0m                 \u001b[0;32melse\u001b[0m\u001b[0;34m:\u001b[0m\u001b[0;34m\u001b[0m\u001b[0;34m\u001b[0m\u001b[0m\n\u001b[1;32m   5518\u001b[0m                     \u001b[0mobject\u001b[0m\u001b[0;34m.\u001b[0m\u001b[0m__setattr__\u001b[0m\u001b[0;34m(\u001b[0m\u001b[0mself\u001b[0m\u001b[0;34m,\u001b[0m \u001b[0mname\u001b[0m\u001b[0;34m,\u001b[0m \u001b[0mvalue\u001b[0m\u001b[0;34m)\u001b[0m\u001b[0;34m\u001b[0m\u001b[0;34m\u001b[0m\u001b[0m\n",
      "\u001b[0;32m~/.conda/envs/atomsci/lib/python3.8/site-packages/pandas/core/frame.py\u001b[0m in \u001b[0;36m__setitem__\u001b[0;34m(self, key, value)\u001b[0m\n\u001b[1;32m   3610\u001b[0m         \u001b[0;32melse\u001b[0m\u001b[0;34m:\u001b[0m\u001b[0;34m\u001b[0m\u001b[0;34m\u001b[0m\u001b[0m\n\u001b[1;32m   3611\u001b[0m             \u001b[0;31m# set column\u001b[0m\u001b[0;34m\u001b[0m\u001b[0;34m\u001b[0m\u001b[0;34m\u001b[0m\u001b[0m\n\u001b[0;32m-> 3612\u001b[0;31m             \u001b[0mself\u001b[0m\u001b[0;34m.\u001b[0m\u001b[0m_set_item\u001b[0m\u001b[0;34m(\u001b[0m\u001b[0mkey\u001b[0m\u001b[0;34m,\u001b[0m \u001b[0mvalue\u001b[0m\u001b[0;34m)\u001b[0m\u001b[0;34m\u001b[0m\u001b[0;34m\u001b[0m\u001b[0m\n\u001b[0m\u001b[1;32m   3613\u001b[0m \u001b[0;34m\u001b[0m\u001b[0m\n\u001b[1;32m   3614\u001b[0m     \u001b[0;32mdef\u001b[0m \u001b[0m_setitem_slice\u001b[0m\u001b[0;34m(\u001b[0m\u001b[0mself\u001b[0m\u001b[0;34m,\u001b[0m \u001b[0mkey\u001b[0m\u001b[0;34m:\u001b[0m \u001b[0mslice\u001b[0m\u001b[0;34m,\u001b[0m \u001b[0mvalue\u001b[0m\u001b[0;34m)\u001b[0m\u001b[0;34m:\u001b[0m\u001b[0;34m\u001b[0m\u001b[0;34m\u001b[0m\u001b[0m\n",
      "\u001b[0;32m~/.conda/envs/atomsci/lib/python3.8/site-packages/pandas/core/frame.py\u001b[0m in \u001b[0;36m_set_item\u001b[0;34m(self, key, value)\u001b[0m\n\u001b[1;32m   3782\u001b[0m         \u001b[0mensure\u001b[0m \u001b[0mhomogeneity\u001b[0m\u001b[0;34m.\u001b[0m\u001b[0;34m\u001b[0m\u001b[0;34m\u001b[0m\u001b[0m\n\u001b[1;32m   3783\u001b[0m         \"\"\"\n\u001b[0;32m-> 3784\u001b[0;31m         \u001b[0mvalue\u001b[0m \u001b[0;34m=\u001b[0m \u001b[0mself\u001b[0m\u001b[0;34m.\u001b[0m\u001b[0m_sanitize_column\u001b[0m\u001b[0;34m(\u001b[0m\u001b[0mvalue\u001b[0m\u001b[0;34m)\u001b[0m\u001b[0;34m\u001b[0m\u001b[0;34m\u001b[0m\u001b[0m\n\u001b[0m\u001b[1;32m   3785\u001b[0m \u001b[0;34m\u001b[0m\u001b[0m\n\u001b[1;32m   3786\u001b[0m         if (\n",
      "\u001b[0;32m~/.conda/envs/atomsci/lib/python3.8/site-packages/pandas/core/frame.py\u001b[0m in \u001b[0;36m_sanitize_column\u001b[0;34m(self, value)\u001b[0m\n\u001b[1;32m   4507\u001b[0m \u001b[0;34m\u001b[0m\u001b[0m\n\u001b[1;32m   4508\u001b[0m         \u001b[0;32mif\u001b[0m \u001b[0mis_list_like\u001b[0m\u001b[0;34m(\u001b[0m\u001b[0mvalue\u001b[0m\u001b[0;34m)\u001b[0m\u001b[0;34m:\u001b[0m\u001b[0;34m\u001b[0m\u001b[0;34m\u001b[0m\u001b[0m\n\u001b[0;32m-> 4509\u001b[0;31m             \u001b[0mcom\u001b[0m\u001b[0;34m.\u001b[0m\u001b[0mrequire_length_match\u001b[0m\u001b[0;34m(\u001b[0m\u001b[0mvalue\u001b[0m\u001b[0;34m,\u001b[0m \u001b[0mself\u001b[0m\u001b[0;34m.\u001b[0m\u001b[0mindex\u001b[0m\u001b[0;34m)\u001b[0m\u001b[0;34m\u001b[0m\u001b[0;34m\u001b[0m\u001b[0m\n\u001b[0m\u001b[1;32m   4510\u001b[0m         \u001b[0;32mreturn\u001b[0m \u001b[0msanitize_array\u001b[0m\u001b[0;34m(\u001b[0m\u001b[0mvalue\u001b[0m\u001b[0;34m,\u001b[0m \u001b[0mself\u001b[0m\u001b[0;34m.\u001b[0m\u001b[0mindex\u001b[0m\u001b[0;34m,\u001b[0m \u001b[0mcopy\u001b[0m\u001b[0;34m=\u001b[0m\u001b[0;32mTrue\u001b[0m\u001b[0;34m,\u001b[0m \u001b[0mallow_2d\u001b[0m\u001b[0;34m=\u001b[0m\u001b[0;32mTrue\u001b[0m\u001b[0;34m)\u001b[0m\u001b[0;34m\u001b[0m\u001b[0;34m\u001b[0m\u001b[0m\n\u001b[1;32m   4511\u001b[0m \u001b[0;34m\u001b[0m\u001b[0m\n",
      "\u001b[0;32m~/.conda/envs/atomsci/lib/python3.8/site-packages/pandas/core/common.py\u001b[0m in \u001b[0;36mrequire_length_match\u001b[0;34m(data, index)\u001b[0m\n\u001b[1;32m    529\u001b[0m     \"\"\"\n\u001b[1;32m    530\u001b[0m     \u001b[0;32mif\u001b[0m \u001b[0mlen\u001b[0m\u001b[0;34m(\u001b[0m\u001b[0mdata\u001b[0m\u001b[0;34m)\u001b[0m \u001b[0;34m!=\u001b[0m \u001b[0mlen\u001b[0m\u001b[0;34m(\u001b[0m\u001b[0mindex\u001b[0m\u001b[0;34m)\u001b[0m\u001b[0;34m:\u001b[0m\u001b[0;34m\u001b[0m\u001b[0;34m\u001b[0m\u001b[0m\n\u001b[0;32m--> 531\u001b[0;31m         raise ValueError(\n\u001b[0m\u001b[1;32m    532\u001b[0m             \u001b[0;34m\"Length of values \"\u001b[0m\u001b[0;34m\u001b[0m\u001b[0;34m\u001b[0m\u001b[0m\n\u001b[1;32m    533\u001b[0m             \u001b[0;34mf\"({len(data)}) \"\u001b[0m\u001b[0;34m\u001b[0m\u001b[0;34m\u001b[0m\u001b[0m\n",
      "\u001b[0;31mValueError\u001b[0m: Length of values (4) does not match length of index (48)"
     ]
    }
   ],
   "source": [
    "sl.response_cols=response_cols\n",
    "sl"
   ]
  },
  {
   "cell_type": "code",
   "execution_count": null,
   "metadata": {},
   "outputs": [],
   "source": [
    "sl.collection=collections\n",
    "sl"
   ]
  },
  {
   "cell_type": "code",
   "execution_count": null,
   "metadata": {},
   "outputs": [],
   "source": [
    "sl_path=os.path.join(data_path, 'bsep_feat_shortlist.csv')\n",
    "sl_path"
   ]
  },
  {
   "cell_type": "code",
   "execution_count": null,
   "metadata": {},
   "outputs": [],
   "source": [
    "sl.to_csv(sl_path, index=False)\n",
    "sl"
   ]
  },
  {
   "cell_type": "markdown",
   "metadata": {},
   "source": [
    "# set up to run script"
   ]
  },
  {
   "cell_type": "code",
   "execution_count": null,
   "metadata": {},
   "outputs": [],
   "source": [
    "# you shouldn't have to change anything here\n",
    "script_dir=f\"/global/home/users/{my_username}/repos/ampl_berkeley\"\n",
    "python_path=f\"/global/home/users/{my_username}/.conda/envs/atomsci/bin/python\"\n",
    "result_dir=f\"/global/home/users/{my_username}/data/featurize_datasets_shortlist\""
   ]
  },
  {
   "cell_type": "code",
   "execution_count": null,
   "metadata": {},
   "outputs": [],
   "source": [
    "# make the directory if it doesn't exist\n",
    "os.makedirs(result_dir, exist_ok=True)"
   ]
  },
  {
   "cell_type": "code",
   "execution_count": null,
   "metadata": {},
   "outputs": [],
   "source": [
    "# this means \"cluster, <run this script> <using this version of python> <with> <these> <options>\"\n",
    "print(f\"sbatch {script_dir}/featurize_shortlist.sh {python_path} {script_dir} {result_dir} {sl_path}\")"
   ]
  },
  {
   "cell_type": "markdown",
   "metadata": {},
   "source": [
    "## copy and paste the output ^ into a terminal window\n",
    "\n",
    "- Depending on how many compounds you have in your datasets, these commands could take a while ~hours\n",
    "- I have set the time limit on the .sh file to two hours\n",
    "- If you don't get all the files featurized before the two hour limit, simply run the command again\n",
    "- The previously featurized files will be skipped\n",
    "\n",
    "## Useful commands to check progress in terminal:\n",
    "\n",
    "- list jobs and how long they've been running\n",
    "\n",
    "`squeue -u <your_username>`\n",
    "\n",
    "- look at the end of the out file to see if there are errors\n",
    "\n",
    "`tail ~/feat_shortlist.out`\n",
    "\n",
    "- monitor how much progress has been made, if no errors. (before featurizing a file, it will look to see if the featurized file already exists. if it doesn't it will print out an error that there is no featurized file. the ones printed out with this command are the ones that are being featurized)\n",
    "\n",
    "`cat ~/feat_shortlist.out | grep \"scaled_descriptors\"`\n",
    "\n",
    "## if you need to logout and come back later:\n",
    "- submitting a job to the cluster means it will run without you monitoring it\n",
    "- you can safely logout after saving your notebooks, etc, and log back in later to check progress"
   ]
  },
  {
   "cell_type": "markdown",
   "metadata": {},
   "source": [
    "# monitor progress (optional)"
   ]
  },
  {
   "cell_type": "code",
   "execution_count": 1,
   "metadata": {},
   "outputs": [
    {
     "name": "stdout",
     "output_type": "stream",
     "text": [
      "             JOBID PARTITION     NAME     USER ST       TIME  NODES NODELIST(REASON)\n"
     ]
    }
   ],
   "source": [
    "# you can type these commands with ! in front which will act like a terminal prompt\n",
    "# if no output, you don't have a job running\n",
    "! squeue -u amandapaulson"
   ]
  },
  {
   "cell_type": "code",
   "execution_count": 2,
   "metadata": {},
   "outputs": [
    {
     "name": "stdout",
     "output_type": "stream",
     "text": [
      "[Errno 2] No such file or directory: '/global/home/users/amandapaulson/data/curated_datasets/scaled_descriptors/combined_pct_inhibitor_data_cur_with_mordred_filtered_descriptors.csv'\n"
     ]
    }
   ],
   "source": [
    "! cat ~/feat_shortlist.out | grep \"scaled_descriptors\""
   ]
  },
  {
   "cell_type": "code",
   "execution_count": 4,
   "metadata": {},
   "outputs": [
    {
     "name": "stdout",
     "output_type": "stream",
     "text": [
      "Featurizing /global/home/users/amandapaulson/data/curated_datasets/combined_pct_inhibitor_data_cur.csv with mordred_filtered.\n",
      "DEBUG:ATOM:Done computing Mordred descriptors\n",
      "/global/home/users/amandapaulson/.local/lib/python3.8/site-packages/atomsci/ddm/pipeline/featurization.py:1730: PerformanceWarning: DataFrame is highly fragmented.  This is usually the result of calling `frame.insert` many times, which has poor performance.  Consider joining all columns at once using pd.concat(axis=1) instead.  To get a de-fragmented frame, use `newframe = frame.copy()`\n",
      "  calc_smiles_feat_df[col] = calc_desc_df[col]\n",
      "DEBUG:ATOM:Number of features: 1555\n",
      "WARNING:ATOM:Splitting data by random\n",
      "WARNING:ATOM:Dataset split table saved to /global/home/users/amandapaulson/data/curated_datasets/combined_pct_inhibitor_data_cur_train_valid_test_random_b44bf4af-d5ff-494a-a83d-1b09860940aa.csv\n",
      "/global/home/users/amandapaulson/.conda/envs/atomsci/lib/python3.8/site-packages/numpy/core/fromnumeric.py:86: RuntimeWarning: overflow encountered in reduce\n",
      "  return ufunc.reduce(obj, axis, dtype, out, **passkwargs)\n",
      "/global/home/users/amandapaulson/data/featurize_datasets_shortlist\n"
     ]
    }
   ],
   "source": [
    "# tail -1 means the last line; -2 last two lines\n",
    "! tail -10 ~/feat_shortlist.out"
   ]
  },
  {
   "cell_type": "markdown",
   "metadata": {},
   "source": [
    "# Inspect file system when complete\n",
    "- in your curated data path, you will have your original data files\n",
    "- in a subfolder called `scaled_descriptors` you will have your featurized data files\n",
    "- for each curated dataset, you should have an rdkit_raw and mordred_filtered descriptor file\n",
    "- at the end of the script, the train_valid_test .csv's will be deleted"
   ]
  },
  {
   "cell_type": "code",
   "execution_count": 17,
   "metadata": {},
   "outputs": [
    {
     "data": {
      "text/plain": [
       "'/global/home/users/amandapaulson/data/curated_datasets'"
      ]
     },
     "execution_count": 17,
     "metadata": {},
     "output_type": "execute_result"
    }
   ],
   "source": [
    "curated_data_path"
   ]
  },
  {
   "cell_type": "code",
   "execution_count": 285,
   "metadata": {},
   "outputs": [
    {
     "name": "stdout",
     "output_type": "stream",
     "text": [
      "\n",
      "/global/home/users/amandapaulson/data/curated_datasets\n",
      "\n",
      "combined_class_inhibitor_data_cur.csv\n",
      "combined_class_inhibitor_data_cur_train_valid_test_random_1df527fb-ab53-4283-8ac2-187c18c3b718.csv\n",
      "combined_class_inhibitor_data_cur_train_valid_test_random_48446fdf-f34f-4ef5-9494-6dcda2300204.csv\n",
      "combined_class_inhibitor_data_cur_train_valid_test_random_90cb93b6-12e2-4057-9969-bf68ad7446d8.csv\n",
      "combined_class_inhibitor_data_cur_train_valid_test_random_911a709e-e6df-4f9b-8c0c-ceb98786cfe0.csv\n",
      "combined_ic50_inhibitor_data_cur.csv\n",
      "combined_ic50_inhibitor_data_cur_train_valid_test_random_7a1a54dc-a31b-44b0-88e6-01555194630b.csv\n",
      "combined_ic50_inhibitor_data_cur_train_valid_test_random_8b0b93d9-33d4-404a-bfda-c9cd76890e30.csv\n",
      "combined_ic50_inhibitor_data_cur_train_valid_test_random_dead5902-c4f1-4149-aa11-ece2207a0050.csv\n",
      "combined_ic50_inhibitor_data_cur_train_valid_test_random_fab0a674-4cb5-4ef9-aa2a-edd614d823ba.csv\n",
      "combined_pct_inhibitor_data_cur.csv\n",
      "combined_pct_inhibitor_data_cur_train_valid_test_random_b44bf4af-d5ff-494a-a83d-1b09860940aa.csv\n",
      "combined_pct_inhibitor_data_cur_train_valid_test_random_b56a8968-1692-46bb-b53c-c9248f989a5f.csv\n",
      "combined_pct_inhibitor_data_cur_train_valid_test_random_e8bc1511-f2f9-4593-8582-6acc7d333429.csv\n",
      "combined_substrate_data_cur.csv\n",
      "combined_substrate_data_cur_train_valid_test_random_6ff477b9-8e52-472f-bfa9-3553333a2a46.csv\n",
      "combined_substrate_data_cur_train_valid_test_random_9bbb8b48-28d3-49a2-9da7-0984ba42264a.csv\n",
      "combined_substrate_data_cur_train_valid_test_random_b9d1568c-f164-4cfc-b958-ae84b3fb2c7e.csv\n",
      "combined_substrate_data_cur_train_valid_test_random_f66ecccb-c258-4a31-b9d7-8282592484b7.csv\n",
      "\n",
      "/global/home/users/amandapaulson/data/curated_datasets/scaled_descriptors\n",
      "\n",
      "combined_class_inhibitor_data_cur_with_mordred_filtered_descriptors.csv\n",
      "combined_class_inhibitor_data_cur_with_rdkit_raw_descriptors.csv\n",
      "combined_ic50_inhibitor_data_cur_with_mordred_filtered_descriptors.csv\n",
      "combined_ic50_inhibitor_data_cur_with_rdkit_raw_descriptors.csv\n",
      "combined_pct_inhibitor_data_cur_with_mordred_filtered_descriptors.csv\n",
      "combined_pct_inhibitor_data_cur_with_rdkit_raw_descriptors.csv\n",
      "combined_substrate_data_cur_with_mordred_filtered_descriptors.csv\n",
      "combined_substrate_data_cur_with_rdkit_raw_descriptors.csv\n"
     ]
    }
   ],
   "source": [
    "for root, dirs, files in os.walk(curated_data_path):\n",
    "    print('\\n'+root+'\\n')\n",
    "    files.sort()\n",
    "    for file in files:\n",
    "        print(file)"
   ]
  },
  {
   "cell_type": "markdown",
   "metadata": {},
   "source": [
    "## delete split files since you will explicitly create them in the next notebook"
   ]
  },
  {
   "cell_type": "code",
   "execution_count": 317,
   "metadata": {},
   "outputs": [],
   "source": [
    "for root, dirs, files in os.walk(curated_data_path, topdown=False):\n",
    "    for file in files:\n",
    "        if 'train_valid_test' in file:\n",
    "            os.remove(os.path.join(root,file))"
   ]
  },
  {
   "cell_type": "markdown",
   "metadata": {},
   "source": [
    "## inspect again"
   ]
  },
  {
   "cell_type": "code",
   "execution_count": 318,
   "metadata": {},
   "outputs": [
    {
     "name": "stdout",
     "output_type": "stream",
     "text": [
      "\n",
      "/global/home/users/amandapaulson/data/curated_datasets\n",
      "\n",
      "combined_class_inhibitor_data_cur.csv\n",
      "combined_ic50_inhibitor_data_cur.csv\n",
      "combined_pct_inhibitor_data_cur.csv\n",
      "combined_substrate_data_cur.csv\n",
      "\n",
      "/global/home/users/amandapaulson/data/curated_datasets/scaled_descriptors\n",
      "\n",
      "combined_class_inhibitor_data_cur_with_mordred_filtered_descriptors.csv\n",
      "combined_class_inhibitor_data_cur_with_rdkit_raw_descriptors.csv\n",
      "combined_ic50_inhibitor_data_cur_with_mordred_filtered_descriptors.csv\n",
      "combined_ic50_inhibitor_data_cur_with_rdkit_raw_descriptors.csv\n",
      "combined_pct_inhibitor_data_cur_with_mordred_filtered_descriptors.csv\n",
      "combined_pct_inhibitor_data_cur_with_rdkit_raw_descriptors.csv\n",
      "combined_substrate_data_cur_with_mordred_filtered_descriptors.csv\n",
      "combined_substrate_data_cur_with_rdkit_raw_descriptors.csv\n"
     ]
    }
   ],
   "source": [
    "for root, dirs, files in os.walk(curated_data_path):\n",
    "    print('\\n'+root+'\\n')\n",
    "    files.sort()\n",
    "    for file in files:\n",
    "        print(file)"
   ]
  },
  {
   "cell_type": "markdown",
   "metadata": {},
   "source": [
    "# You're done! move on to split_shortlist notebook"
   ]
  }
 ],
 "metadata": {
  "kernelspec": {
   "display_name": "atomsci",
   "language": "python",
   "name": "atomsci"
  },
  "language_info": {
   "codemirror_mode": {
    "name": "ipython",
    "version": 3
   },
   "file_extension": ".py",
   "mimetype": "text/x-python",
   "name": "python",
   "nbconvert_exporter": "python",
   "pygments_lexer": "ipython3",
   "version": "3.8.10"
  }
 },
 "nbformat": 4,
 "nbformat_minor": 4
}
